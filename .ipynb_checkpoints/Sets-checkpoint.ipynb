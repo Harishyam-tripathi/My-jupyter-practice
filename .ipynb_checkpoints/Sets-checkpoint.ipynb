{
 "cells": [
  {
   "cell_type": "markdown",
   "id": "b42baea4-07bb-40af-810f-83e26f67fd83",
   "metadata": {},
   "source": [
    "# Lecture 20 \n",
    "# Sets part 1 \n",
    "# creating sets "
   ]
  },
  {
   "cell_type": "code",
   "execution_count": 2,
   "id": "13e72ffa-ee3f-4328-956e-7bf669ca7b79",
   "metadata": {},
   "outputs": [
    {
     "name": "stdout",
     "output_type": "stream",
     "text": [
      "{1, 2, 3, 4}\n",
      "<class 'set'>\n"
     ]
    }
   ],
   "source": [
    "my_var = {1,2,3,4}\n",
    "print(my_var)\n",
    "print(type(my_var))"
   ]
  },
  {
   "cell_type": "markdown",
   "id": "3fef3144-3909-46c3-a457-7bef61077ea6",
   "metadata": {},
   "source": [
    " # Set() methods"
   ]
  },
  {
   "cell_type": "code",
   "execution_count": 3,
   "id": "de6bd59a-6a0c-49e3-94da-8da40b112816",
   "metadata": {},
   "outputs": [
    {
     "name": "stdout",
     "output_type": "stream",
     "text": [
      "{40, 10, 20, 30}\n",
      "<class 'set'>\n"
     ]
    }
   ],
   "source": [
    "another_set = set([10,20,30,40])\n",
    "print(another_set)\n",
    "print(type(another_set))"
   ]
  },
  {
   "cell_type": "markdown",
   "id": "f842044f-e018-4bde-9f98-c8e8553205d5",
   "metadata": {},
   "source": [
    " # Empty set"
   ]
  },
  {
   "cell_type": "code",
   "execution_count": 4,
   "id": "6bb8b7c1-1505-4751-a6e6-23b2ca453b99",
   "metadata": {},
   "outputs": [
    {
     "name": "stdout",
     "output_type": "stream",
     "text": [
      "{}\n",
      "<class 'dict'>\n"
     ]
    }
   ],
   "source": [
    "abc = {} \n",
    "print(abc) \n",
    "print(type(abc)) "
   ]
  },
  {
   "cell_type": "code",
   "execution_count": 5,
   "id": "518bafda-199c-4324-adab-ddd8b967f669",
   "metadata": {},
   "outputs": [
    {
     "name": "stdout",
     "output_type": "stream",
     "text": [
      "set()\n",
      "<class 'set'>\n"
     ]
    }
   ],
   "source": [
    "xyz = set() \n",
    "print(xyz) \n",
    "print(type(xyz)) "
   ]
  },
  {
   "cell_type": "markdown",
   "id": "57265a2b-864a-4974-9955-38ad172281c8",
   "metadata": {},
   "source": [
    "# properties of set"
   ]
  },
  {
   "cell_type": "markdown",
   "id": "6e081d15-eaa1-4307-ae19-ee6b58b09feb",
   "metadata": {},
   "source": [
    "# 1) unordered"
   ]
  },
  {
   "cell_type": "code",
   "execution_count": 6,
   "id": "8f882477-df27-4c41-b03b-8f2b852895b8",
   "metadata": {},
   "outputs": [
    {
     "name": "stdout",
     "output_type": "stream",
     "text": [
      "{1, 2, 3, 4}\n"
     ]
    }
   ],
   "source": [
    "my_set = {3,1,4,2}\n",
    "print(my_set)"
   ]
  },
  {
   "cell_type": "markdown",
   "id": "ef955c13-2670-4159-a722-c66e87f743c1",
   "metadata": {},
   "source": [
    "# 2) No indexing/slicing"
   ]
  },
  {
   "cell_type": "code",
   "execution_count": 7,
   "id": "80ef6ae4-67c7-4e5c-8709-208766a549c9",
   "metadata": {},
   "outputs": [
    {
     "ename": "TypeError",
     "evalue": "'set' object is not subscriptable",
     "output_type": "error",
     "traceback": [
      "\u001b[31m---------------------------------------------------------------------------\u001b[39m",
      "\u001b[31mTypeError\u001b[39m                                 Traceback (most recent call last)",
      "\u001b[36mCell\u001b[39m\u001b[36m \u001b[39m\u001b[32mIn[7]\u001b[39m\u001b[32m, line 2\u001b[39m\n\u001b[32m      1\u001b[39m a = {\u001b[33m'\u001b[39m\u001b[33manimals\u001b[39m\u001b[33m'\u001b[39m,\u001b[33m'\u001b[39m\u001b[33mball\u001b[39m\u001b[33m'\u001b[39m,\u001b[33m'\u001b[39m\u001b[33mcat\u001b[39m\u001b[33m'\u001b[39m}\n\u001b[32m----> \u001b[39m\u001b[32m2\u001b[39m \u001b[38;5;28mprint\u001b[39m(\u001b[43ma\u001b[49m\u001b[43m[\u001b[49m\u001b[32;43m0\u001b[39;49m\u001b[43m]\u001b[49m)\n",
      "\u001b[31mTypeError\u001b[39m: 'set' object is not subscriptable"
     ]
    }
   ],
   "source": [
    "a = {'animals','ball','cat'}\n",
    "print(a[0])"
   ]
  },
  {
   "cell_type": "code",
   "execution_count": 8,
   "id": "3802d746-b1c0-446e-9673-60f180a46326",
   "metadata": {},
   "outputs": [
    {
     "ename": "TypeError",
     "evalue": "'set' object is not subscriptable",
     "output_type": "error",
     "traceback": [
      "\u001b[31m---------------------------------------------------------------------------\u001b[39m",
      "\u001b[31mTypeError\u001b[39m                                 Traceback (most recent call last)",
      "\u001b[36mCell\u001b[39m\u001b[36m \u001b[39m\u001b[32mIn[8]\u001b[39m\u001b[32m, line 2\u001b[39m\n\u001b[32m      1\u001b[39m a = {\u001b[33m'\u001b[39m\u001b[33manimals\u001b[39m\u001b[33m'\u001b[39m,\u001b[33m'\u001b[39m\u001b[33mball\u001b[39m\u001b[33m'\u001b[39m,\u001b[33m'\u001b[39m\u001b[33mcat\u001b[39m\u001b[33m'\u001b[39m}\n\u001b[32m----> \u001b[39m\u001b[32m2\u001b[39m \u001b[38;5;28mprint\u001b[39m(\u001b[43ma\u001b[49m\u001b[43m[\u001b[49m\u001b[32;43m2\u001b[39;49m\u001b[43m:\u001b[49m\u001b[32;43m0\u001b[39;49m\u001b[43m]\u001b[49m)\n",
      "\u001b[31mTypeError\u001b[39m: 'set' object is not subscriptable"
     ]
    }
   ],
   "source": [
    "a = {'animals','ball','cat'}\n",
    "print(a[2:0])"
   ]
  },
  {
   "cell_type": "markdown",
   "id": "c5db33db-af81-45b7-b072-8a4a73e69c82",
   "metadata": {},
   "source": [
    "# 3) Unique elements"
   ]
  },
  {
   "cell_type": "code",
   "execution_count": 9,
   "id": "a32eba6c-01a2-4b92-b82d-26345972272c",
   "metadata": {},
   "outputs": [
    {
     "name": "stdout",
     "output_type": "stream",
     "text": [
      "{65, 8, 10, 12, 13, 14, 15, 16, 17, 18, 52}\n"
     ]
    }
   ],
   "source": [
    "my_set = {8,10,12,14,15,12,17,18,10,13,14,16,15,14,12,10,17,52,65} \n",
    "print(my_set) "
   ]
  },
  {
   "cell_type": "markdown",
   "id": "30908404-9b06-468a-b33f-62a5d24937e8",
   "metadata": {},
   "source": [
    "# 4) lterable"
   ]
  },
  {
   "cell_type": "code",
   "execution_count": 12,
   "id": "101fe929-804c-4138-991c-5c1f9703c4e0",
   "metadata": {},
   "outputs": [
    {
     "name": "stdout",
     "output_type": "stream",
     "text": [
      "25\n",
      "37\n",
      "23\n",
      "41\n",
      "14\n"
     ]
    }
   ],
   "source": [
    "my_set = {14,25,37,41,23} \n",
    "for element in my_set:\n",
    "    print(element) "
   ]
  },
  {
   "cell_type": "markdown",
   "id": "30fff917-0aef-47a5-8e18-2ba5cc6d3e63",
   "metadata": {},
   "source": [
    "# 5) Hashable elements "
   ]
  },
  {
   "cell_type": "markdown",
   "id": "251e35f5-131e-4311-bc59-86e0c9525962",
   "metadata": {},
   "source": [
    "only hashable objects (objects with a fixed hash value) can be added to a set. This means that sets cannot contain mutable types like lists or dictionaries. "
   ]
  },
  {
   "cell_type": "code",
   "execution_count": 13,
   "id": "328ca7ca-5bb8-406a-83a7-5b3227cc6f2d",
   "metadata": {},
   "outputs": [
    {
     "name": "stdout",
     "output_type": "stream",
     "text": [
      "{1, 2, 3, 3.6, 'a', (10, 20)}\n"
     ]
    }
   ],
   "source": [
    "my_set = {1,2,3,\"a\",3.6, (10,20)} \n",
    "print(my_set)"
   ]
  },
  {
   "cell_type": "code",
   "execution_count": 14,
   "id": "a71804d5-a4e6-490d-9f42-129e622576a1",
   "metadata": {},
   "outputs": [
    {
     "ename": "TypeError",
     "evalue": "unhashable type: 'list'",
     "output_type": "error",
     "traceback": [
      "\u001b[31m---------------------------------------------------------------------------\u001b[39m",
      "\u001b[31mTypeError\u001b[39m                                 Traceback (most recent call last)",
      "\u001b[36mCell\u001b[39m\u001b[36m \u001b[39m\u001b[32mIn[14]\u001b[39m\u001b[32m, line 1\u001b[39m\n\u001b[32m----> \u001b[39m\u001b[32m1\u001b[39m my_setl = {\u001b[32m1\u001b[39m,\u001b[32m2\u001b[39m,\u001b[32m3\u001b[39m,\u001b[32m3.6\u001b[39m,\u001b[33m'\u001b[39m\u001b[33mb\u001b[39m\u001b[33m'\u001b[39m, [\u001b[32m14\u001b[39m,\u001b[32m15\u001b[39m,\u001b[32m16\u001b[39m]} \n\u001b[32m      2\u001b[39m \u001b[38;5;28mprint\u001b[39m(my_setl)\n",
      "\u001b[31mTypeError\u001b[39m: unhashable type: 'list'"
     ]
    }
   ],
   "source": [
    "my_setl = {1,2,3,3.6,'b', [14,15,16]} \n",
    "print(my_setl)"
   ]
  },
  {
   "cell_type": "code",
   "execution_count": 16,
   "id": "7bcbc801-3409-4534-b538-142fbd31d17f",
   "metadata": {},
   "outputs": [
    {
     "ename": "TypeError",
     "evalue": "unhashable type: 'dict'",
     "output_type": "error",
     "traceback": [
      "\u001b[31m---------------------------------------------------------------------------\u001b[39m",
      "\u001b[31mTypeError\u001b[39m                                 Traceback (most recent call last)",
      "\u001b[36mCell\u001b[39m\u001b[36m \u001b[39m\u001b[32mIn[16]\u001b[39m\u001b[32m, line 1\u001b[39m\n\u001b[32m----> \u001b[39m\u001b[32m1\u001b[39m x = {{\u001b[33m'\u001b[39m\u001b[33ma\u001b[39m\u001b[33m'\u001b[39m:\u001b[32m1\u001b[39m, \u001b[33m'\u001b[39m\u001b[33mb\u001b[39m\u001b[33m'\u001b[39m:\u001b[32m2\u001b[39m}}\n\u001b[32m      2\u001b[39m \u001b[38;5;28mprint\u001b[39m(x)\n",
      "\u001b[31mTypeError\u001b[39m: unhashable type: 'dict'"
     ]
    }
   ],
   "source": [
    "x = {{'a':1, 'b':2}}\n",
    "print(x)"
   ]
  },
  {
   "cell_type": "markdown",
   "id": "9c703752-489a-438d-bbb3-d05055716de6",
   "metadata": {},
   "source": [
    "# Sets parts 2"
   ]
  },
  {
   "cell_type": "markdown",
   "id": "abd5b96a-84fc-4ff8-a2b1-ed5c7e9d9b24",
   "metadata": {},
   "source": [
    "# True and 1 are considered as same value"
   ]
  },
  {
   "cell_type": "code",
   "execution_count": 1,
   "id": "47133bfc-0df4-41bd-b08f-92279a976df7",
   "metadata": {},
   "outputs": [
    {
     "name": "stdout",
     "output_type": "stream",
     "text": [
      "{1, 3.6, 5.9, 24, 25, 56, 'animals', 'ball'}\n"
     ]
    }
   ],
   "source": [
    "a = {'animals',\"ball\",25,24,3.6,5.9,1,56,True} \n",
    "print(a)"
   ]
  },
  {
   "cell_type": "code",
   "execution_count": 3,
   "id": "7fb2b7f7-504f-406a-82ce-98850a8a6a1e",
   "metadata": {},
   "outputs": [
    {
     "name": "stdout",
     "output_type": "stream",
     "text": [
      "{0, 1, 3.6, 5.9, 23, 24, 25, 56, 'animals', 'ball'}\n"
     ]
    }
   ],
   "source": [
    "a = {'animals',\"ball\",25,24,3.6,5.9,1,56,0,23,False} \n",
    "print(a)"
   ]
  },
  {
   "cell_type": "code",
   "execution_count": 4,
   "id": "b0ad2b18-2087-46c7-b71c-ce8c8e4ec527",
   "metadata": {},
   "outputs": [
    {
     "name": "stdout",
     "output_type": "stream",
     "text": [
      "{0, 1, 3.6, 5.9, 23, 24, 25, 56, 'animals', 'ball'}\n"
     ]
    }
   ],
   "source": [
    "a = {'animals',\"ball\",25,24,3.6,5.9,1,56,0,23,True} \n",
    "print(a)"
   ]
  },
  {
   "cell_type": "code",
   "execution_count": 5,
   "id": "ac961fc5-ff6c-4845-83db-ede9c5f3ab76",
   "metadata": {},
   "outputs": [
    {
     "name": "stdout",
     "output_type": "stream",
     "text": [
      "{0, 1, 3.6, 5.9, 23, 24, 25, 56, 'animals', 'ball'}\n"
     ]
    }
   ],
   "source": [
    "a = {'animals',\"ball\",25,24,3.6,5.9,1,56,0,23,True,23,False} \n",
    "print(a)"
   ]
  },
  {
   "cell_type": "markdown",
   "id": "ba298b0b-1583-456a-ad41-be7ff9c82a45",
   "metadata": {},
   "source": [
    " # Nested is not a property of the set"
   ]
  },
  {
   "cell_type": "code",
   "execution_count": 6,
   "id": "6d4aa3bd-5882-431e-973a-8a7b9f96bc48",
   "metadata": {},
   "outputs": [
    {
     "ename": "TypeError",
     "evalue": "unhashable type: 'set'",
     "output_type": "error",
     "traceback": [
      "\u001b[31m---------------------------------------------------------------------------\u001b[39m",
      "\u001b[31mTypeError\u001b[39m                                 Traceback (most recent call last)",
      "\u001b[36mCell\u001b[39m\u001b[36m \u001b[39m\u001b[32mIn[6]\u001b[39m\u001b[32m, line 1\u001b[39m\n\u001b[32m----> \u001b[39m\u001b[32m1\u001b[39m a = {{\u001b[32m11\u001b[39m,\u001b[32m12\u001b[39m,\u001b[32m13\u001b[39m},{\u001b[32m4\u001b[39m,\u001b[32m5\u001b[39m,\u001b[32m6\u001b[39m}}\n\u001b[32m      2\u001b[39m \u001b[38;5;28mprint\u001b[39m(a)\n",
      "\u001b[31mTypeError\u001b[39m: unhashable type: 'set'"
     ]
    }
   ],
   "source": [
    "a = {{11,12,13},{4,5,6}}\n",
    "print(a)"
   ]
  },
  {
   "cell_type": "markdown",
   "id": "54821cf8-fc48-460e-bdc5-8768f45efff1",
   "metadata": {},
   "source": [
    "# check if item is present in the set or not"
   ]
  },
  {
   "cell_type": "code",
   "execution_count": 7,
   "id": "e19ff4f0-8055-486f-a62b-9647d1931bc1",
   "metadata": {},
   "outputs": [
    {
     "name": "stdout",
     "output_type": "stream",
     "text": [
      "True\n"
     ]
    }
   ],
   "source": [
    "a = {\"data\",\"swati\",\"python\"} \n",
    "print(\"swati\" in a) "
   ]
  },
  {
   "cell_type": "code",
   "execution_count": 10,
   "id": "9d4c88a9-7312-49c2-a9d5-5d8d6938026f",
   "metadata": {},
   "outputs": [
    {
     "name": "stdout",
     "output_type": "stream",
     "text": [
      "False\n"
     ]
    }
   ],
   "source": [
    "b = {\"nishant\", \"ayush\", \"python\",2,5,95,29,5}\n",
    "print(1 in b) "
   ]
  },
  {
   "cell_type": "markdown",
   "id": "ba6c7a2c-9de3-483c-8633-4c09771c45ba",
   "metadata": {},
   "source": [
    "# get the length of the set"
   ]
  },
  {
   "cell_type": "code",
   "execution_count": 11,
   "id": "6d2053a4-e2a5-4373-8d11-9b22e8c22ecf",
   "metadata": {},
   "outputs": [
    {
     "name": "stdout",
     "output_type": "stream",
     "text": [
      "11\n"
     ]
    }
   ],
   "source": [
    "a = {\"animals\",\"bat\",\"cat\",1,85,496,5,896,59,6596,59,6596496} \n",
    "print(len(a))"
   ]
  },
  {
   "cell_type": "markdown",
   "id": "e2da68c8-88a1-4533-bfaa-f1844f287fbe",
   "metadata": {},
   "source": [
    "# Add items"
   ]
  },
  {
   "cell_type": "markdown",
   "id": "799b74aa-5f24-4b50-88af-dcb563037fab",
   "metadata": {},
   "source": [
    "# Once a set is created, you cannot chnage the items but you can add the new items"
   ]
  },
  {
   "cell_type": "code",
   "execution_count": 12,
   "id": "0ba52b4e-d9e2-46df-b4b6-5a5ab8f410c1",
   "metadata": {},
   "outputs": [
    {
     "name": "stdout",
     "output_type": "stream",
     "text": [
      "{1, 2, 3, 'c1', 'b1', 'd1', 'a1'}\n"
     ]
    }
   ],
   "source": [
    "a = {\"a1\",\"b1\",\"c1\",1,2,3} \n",
    "a.add(\"d1\") \n",
    "print(a) "
   ]
  },
  {
   "cell_type": "markdown",
   "id": "316a91c8-0f81-49db-9918-9a197bba9abe",
   "metadata": {},
   "source": [
    "# update method"
   ]
  },
  {
   "cell_type": "code",
   "execution_count": 14,
   "id": "7297841a-1ef8-454b-8912-b80a8d73352b",
   "metadata": {},
   "outputs": [
    {
     "name": "stdout",
     "output_type": "stream",
     "text": [
      "{'nikhil', 10, 12, 13, 14, 15, 16, 17, 'data', 'shyam'}\n"
     ]
    }
   ],
   "source": [
    "x = {\"data\", \"shyam\", \"nikhil\"}\n",
    "y = {10,12,13,14,15,16,17}\n",
    "\n",
    "x.update(y)\n",
    "print(x)"
   ]
  },
  {
   "cell_type": "markdown",
   "id": "b9ed018f-ab61-4976-aea9-754bfaedabb0",
   "metadata": {},
   "source": [
    "# Remove items from the sets"
   ]
  },
  {
   "cell_type": "code",
   "execution_count": 15,
   "id": "ace1b4be-c901-4293-9159-5925e83f601f",
   "metadata": {},
   "outputs": [
    {
     "name": "stdout",
     "output_type": "stream",
     "text": [
      "{'nikhil', 10, 12, 13, 14, 15, 16, 17, 'data'}\n"
     ]
    }
   ],
   "source": [
    "n = {'nikhil', 10, 12, 13, 14, 15, 16, 17, 'data', 'shyam'}\n",
    "n.remove('shyam')\n",
    "print(n)"
   ]
  },
  {
   "cell_type": "code",
   "execution_count": 16,
   "id": "ea82caa3-d413-4d42-ae5c-dcfb94d75d0e",
   "metadata": {},
   "outputs": [
    {
     "name": "stdout",
     "output_type": "stream",
     "text": [
      "{'nikhil', 12, 13, 14, 15, 16, 17, 'data', 'shyam'}\n"
     ]
    }
   ],
   "source": [
    "n = {'nikhil', 1.0, 12, 13, 14, 15, 16, 17, 'data', 'shyam'}\n",
    "n.remove(1.0)\n",
    "print(n)"
   ]
  },
  {
   "cell_type": "markdown",
   "id": "5bb1f558-9ede-47a5-8c8b-ffe99131aa6e",
   "metadata": {},
   "source": [
    "# pop method"
   ]
  },
  {
   "cell_type": "code",
   "execution_count": 20,
   "id": "0bc3085f-4ad7-4400-960c-0cd8424a8935",
   "metadata": {},
   "outputs": [
    {
     "name": "stdout",
     "output_type": "stream",
     "text": [
      "{964, 5, 486, 6, 9, 9676, 15, 85, 86}\n",
      "545\n"
     ]
    }
   ],
   "source": [
    "a = {15,486,85,964,545,86,9676,5,9,6}\n",
    "c = a.pop()\n",
    "print(a)\n",
    "\n",
    "print(c)"
   ]
  },
  {
   "cell_type": "code",
   "execution_count": 21,
   "id": "c4f3b339-adfc-41ee-9c96-3659d8fd72cb",
   "metadata": {},
   "outputs": [
    {
     "name": "stdout",
     "output_type": "stream",
     "text": [
      "96\n",
      "{'apple', 6, 8, 8842, 5455, 15, 'code', 86, 'shyam', 95}\n"
     ]
    }
   ],
   "source": [
    "x = {'code', 'apple','shyam',95,86,5455,8842,96,15,8,6}\n",
    "y = x.pop()\n",
    "print(y)\n",
    "print(x)"
   ]
  },
  {
   "cell_type": "markdown",
   "id": "21d3dc56-dbcb-410f-9409-42a6c11c0058",
   "metadata": {},
   "source": [
    "# clear method"
   ]
  },
  {
   "cell_type": "code",
   "execution_count": 22,
   "id": "bcd5ec63-80d7-431e-a87b-4dfd117ef23b",
   "metadata": {},
   "outputs": [
    {
     "name": "stdout",
     "output_type": "stream",
     "text": [
      "set()\n"
     ]
    }
   ],
   "source": [
    "x = {'code', 'apple','shyam',95,86,5455,8842,96,15,8,6}\n",
    "\n",
    "x.clear()\n",
    "print(x)"
   ]
  },
  {
   "cell_type": "code",
   "execution_count": 23,
   "id": "36af04d3-8772-4727-9980-01949df6351c",
   "metadata": {},
   "outputs": [
    {
     "ename": "NameError",
     "evalue": "name 'x' is not defined",
     "output_type": "error",
     "traceback": [
      "\u001b[31m---------------------------------------------------------------------------\u001b[39m",
      "\u001b[31mNameError\u001b[39m                                 Traceback (most recent call last)",
      "\u001b[36mCell\u001b[39m\u001b[36m \u001b[39m\u001b[32mIn[23]\u001b[39m\u001b[32m, line 4\u001b[39m\n\u001b[32m      1\u001b[39m x = {\u001b[33m'\u001b[39m\u001b[33mcode\u001b[39m\u001b[33m'\u001b[39m, \u001b[33m'\u001b[39m\u001b[33mapple\u001b[39m\u001b[33m'\u001b[39m,\u001b[33m'\u001b[39m\u001b[33mshyam\u001b[39m\u001b[33m'\u001b[39m,\u001b[32m95\u001b[39m,\u001b[32m86\u001b[39m,\u001b[32m5455\u001b[39m,\u001b[32m8842\u001b[39m,\u001b[32m96\u001b[39m,\u001b[32m15\u001b[39m,\u001b[32m8\u001b[39m,\u001b[32m6\u001b[39m}\n\u001b[32m      3\u001b[39m \u001b[38;5;28;01mdel\u001b[39;00m x\n\u001b[32m----> \u001b[39m\u001b[32m4\u001b[39m \u001b[38;5;28mprint\u001b[39m(\u001b[43mx\u001b[49m)\n",
      "\u001b[31mNameError\u001b[39m: name 'x' is not defined"
     ]
    }
   ],
   "source": [
    "x = {'code', 'apple','shyam',95,86,5455,8842,96,15,8,6}\n",
    "\n",
    "del x\n",
    "print(x)\n"
   ]
  },
  {
   "cell_type": "markdown",
   "id": "e6b4f262-c3ac-4478-8dec-48f8977858fa",
   "metadata": {},
   "source": [
    "# Sets in python - part3"
   ]
  },
  {
   "cell_type": "code",
   "execution_count": 1,
   "id": "c615b37c-8c62-40d7-b0bf-0ef376c226aa",
   "metadata": {},
   "outputs": [
    {
     "name": "stdout",
     "output_type": "stream",
     "text": [
      "{'b', 1, 2, 3, 'c', 'a'}\n"
     ]
    }
   ],
   "source": [
    "x = {'a','b','c'}\n",
    "y = {1,2,3}\n",
    "\n",
    "z = x.union(y)\n",
    "print(z)"
   ]
  },
  {
   "cell_type": "markdown",
   "id": "62fc2ca6-b204-4ade-9d11-32017b252e9d",
   "metadata": {},
   "source": [
    " # Find the maximum and minimum and maximum values in a set."
   ]
  },
  {
   "cell_type": "code",
   "execution_count": 3,
   "id": "93dcc848-8a0f-41ed-84e0-4377eb8aa1c3",
   "metadata": {},
   "outputs": [
    {
     "name": "stdout",
     "output_type": "stream",
     "text": [
      "the maximum value in this set is\n",
      "96\n",
      "the minimum value in this set is\n",
      "3\n"
     ]
    }
   ],
   "source": [
    "setn = {5,10,3,5,75,96,5}\n",
    "\n",
    "print(\"the maximum value in this set is\")\n",
    "print(max(setn))\n",
    "print(\"the minimum value in this set is\")\n",
    "print(min(setn))"
   ]
  },
  {
   "cell_type": "markdown",
   "id": "4ebde6c9-9ddb-4768-ae07-2556b969033b",
   "metadata": {},
   "source": [
    "# Set operations"
   ]
  },
  {
   "cell_type": "markdown",
   "id": "c46d6b9a-24f7-458f-8c92-c382d0a922c9",
   "metadata": {},
   "source": [
    "set1 = {1,2,3}\n",
    "set2 = {3,4,5}\n",
    "\n",
    "union_set = set1.union(set2)\n",
    "print(union_set)"
   ]
  },
  {
   "cell_type": "markdown",
   "id": "8353b376-fbf6-4567-a231-aa839ad6cca0",
   "metadata": {},
   "source": [
    " # Intersection method"
   ]
  },
  {
   "cell_type": "code",
   "execution_count": 8,
   "id": "bc5a449c-17e8-44cb-9093-eb0da72200f4",
   "metadata": {},
   "outputs": [
    {
     "name": "stdout",
     "output_type": "stream",
     "text": [
      "{25}\n"
     ]
    }
   ],
   "source": [
    "set1 = {52,32,25}\n",
    "set2 = {25,45,85}\n",
    "\n",
    "inter = set1.intersection(set2)\n",
    "print(inter)"
   ]
  },
  {
   "cell_type": "markdown",
   "id": "32f5fcd6-9e82-4656-a9d4-21d499b47dae",
   "metadata": {},
   "source": [
    "# Difference methods"
   ]
  },
  {
   "cell_type": "code",
   "execution_count": 9,
   "id": "d4cae2b8-78af-434a-bca3-568f6cfdad85",
   "metadata": {},
   "outputs": [
    {
     "name": "stdout",
     "output_type": "stream",
     "text": [
      "{4, 5}\n"
     ]
    }
   ],
   "source": [
    "set1 = {1,2,3}\n",
    "set2 = {3,4,5}\n",
    "diff = set2.difference(set1)\n",
    "print(diff)"
   ]
  },
  {
   "cell_type": "code",
   "execution_count": 10,
   "id": "1ffcc9b6-8d45-4d12-9daf-a9a0c5522b6c",
   "metadata": {},
   "outputs": [
    {
     "name": "stdout",
     "output_type": "stream",
     "text": [
      "{1, 2}\n"
     ]
    }
   ],
   "source": [
    "set1 = {1,2,3}\n",
    "set2 = {3,4,5}\n",
    "diff = set1.difference(set2)\n",
    "print(diff)"
   ]
  },
  {
   "cell_type": "markdown",
   "id": "26c91f59-faaf-4826-ab2e-1f6581506ac8",
   "metadata": {},
   "source": [
    "# Practice question"
   ]
  },
  {
   "cell_type": "code",
   "execution_count": 13,
   "id": "70b1318e-20d9-4daf-bd86-5a48f5421d96",
   "metadata": {},
   "outputs": [],
   "source": [
    "# Define the two sets \n",
    "\n",
    "students_passed_maths = {101,102,103,104,105}\n",
    "students_passed_science = {103,104,105,106,107}\n"
   ]
  },
  {
   "cell_type": "code",
   "execution_count": 14,
   "id": "cd8577ab-6473-46b5-883f-83ff7208b168",
   "metadata": {},
   "outputs": [
    {
     "name": "stdout",
     "output_type": "stream",
     "text": [
      "the student id os those students who have passed in maths and science {104, 105, 103}\n",
      "total students passed in both maths and science 3\n"
     ]
    }
   ],
   "source": [
    "both_passed = student_passed_maths.intersection(students_passed_science)\n",
    "print(\"the student id os those students who have passed in maths and science\", both_passed)\n",
    "print(\"total students passed in both maths and science\", len(both_passed))"
   ]
  },
  {
   "cell_type": "code",
   "execution_count": 17,
   "id": "72749b95-f83e-4a55-bb42-f235a4bd7eb6",
   "metadata": {},
   "outputs": [
    {
     "name": "stdout",
     "output_type": "stream",
     "text": [
      "those student who has passed in maths only {101, 102}\n"
     ]
    }
   ],
   "source": [
    "only_math = students_passed_maths .difference(student_passed_science)\n",
    "print(\"those student who has passed in maths only\",only_math)"
   ]
  },
  {
   "cell_type": "code",
   "execution_count": 19,
   "id": "c296cc3f-5bd3-4e39-866c-0d2bfdc54c12",
   "metadata": {},
   "outputs": [
    {
     "name": "stdout",
     "output_type": "stream",
     "text": [
      "those student who has passed in science only set()\n"
     ]
    }
   ],
   "source": [
    "only_science = students_passed_science .difference(student_passed_science)\n",
    "print(\"those student who has passed in science only\",only_science)"
   ]
  },
  {
   "cell_type": "code",
   "execution_count": 20,
   "id": "b5eeeb71-a2b5-4f41-b2e7-cf4b0d470add",
   "metadata": {},
   "outputs": [
    {
     "name": "stdout",
     "output_type": "stream",
     "text": [
      "is students passed in maths is a subset of students passed in science False\n"
     ]
    }
   ],
   "source": [
    "sub = students_passed_maths.issubset(students_passed_science)\n",
    "print(\"is students passed in maths is a subset of students passed in science\",sub)"
   ]
  },
  {
   "cell_type": "code",
   "execution_count": 23,
   "id": "0a3d1e6e-22af-4b32-a1d4-adc47935125e",
   "metadata": {},
   "outputs": [
    {
     "name": "stdout",
     "output_type": "stream",
     "text": [
      "is students passed in science is a superset of students passed in science False\n"
     ]
    }
   ],
   "source": [
    "sub2 = students_passed_maths.issuperset(students_passed_science)\n",
    "print(\"is students passed in science is a superset of students passed in science\",sub2)"
   ]
  },
  {
   "cell_type": "code",
   "execution_count": null,
   "id": "51b1e372-dc5c-4ec4-b627-b29a5e49f4c3",
   "metadata": {},
   "outputs": [],
   "source": []
  }
 ],
 "metadata": {
  "kernelspec": {
   "display_name": "Python 3 (ipykernel)",
   "language": "python",
   "name": "python3"
  },
  "language_info": {
   "codemirror_mode": {
    "name": "ipython",
    "version": 3
   },
   "file_extension": ".py",
   "mimetype": "text/x-python",
   "name": "python",
   "nbconvert_exporter": "python",
   "pygments_lexer": "ipython3",
   "version": "3.13.2"
  }
 },
 "nbformat": 4,
 "nbformat_minor": 5
}
