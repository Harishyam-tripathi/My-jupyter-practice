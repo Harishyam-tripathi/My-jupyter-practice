{
 "cells": [
  {
   "cell_type": "markdown",
   "id": "b42baea4-07bb-40af-810f-83e26f67fd83",
   "metadata": {},
   "source": [
    "# Lecture 20 \n",
    "# Sets part 1 \n",
    "# creating sets "
   ]
  },
  {
   "cell_type": "code",
   "execution_count": 2,
   "id": "13e72ffa-ee3f-4328-956e-7bf669ca7b79",
   "metadata": {},
   "outputs": [
    {
     "name": "stdout",
     "output_type": "stream",
     "text": [
      "{1, 2, 3, 4}\n",
      "<class 'set'>\n"
     ]
    }
   ],
   "source": [
    "my_var = {1,2,3,4}\n",
    "print(my_var)\n",
    "print(type(my_var))"
   ]
  },
  {
   "cell_type": "markdown",
   "id": "3fef3144-3909-46c3-a457-7bef61077ea6",
   "metadata": {},
   "source": [
    " # Set() methods"
   ]
  },
  {
   "cell_type": "code",
   "execution_count": 3,
   "id": "de6bd59a-6a0c-49e3-94da-8da40b112816",
   "metadata": {},
   "outputs": [
    {
     "name": "stdout",
     "output_type": "stream",
     "text": [
      "{40, 10, 20, 30}\n",
      "<class 'set'>\n"
     ]
    }
   ],
   "source": [
    "another_set = set([10,20,30,40])\n",
    "print(another_set)\n",
    "print(type(another_set))"
   ]
  },
  {
   "cell_type": "markdown",
   "id": "f842044f-e018-4bde-9f98-c8e8553205d5",
   "metadata": {},
   "source": [
    " # Empty set"
   ]
  },
  {
   "cell_type": "code",
   "execution_count": 4,
   "id": "6bb8b7c1-1505-4751-a6e6-23b2ca453b99",
   "metadata": {},
   "outputs": [
    {
     "name": "stdout",
     "output_type": "stream",
     "text": [
      "{}\n",
      "<class 'dict'>\n"
     ]
    }
   ],
   "source": [
    "abc = {} \n",
    "print(abc) \n",
    "print(type(abc)) "
   ]
  },
  {
   "cell_type": "code",
   "execution_count": 5,
   "id": "518bafda-199c-4324-adab-ddd8b967f669",
   "metadata": {},
   "outputs": [
    {
     "name": "stdout",
     "output_type": "stream",
     "text": [
      "set()\n",
      "<class 'set'>\n"
     ]
    }
   ],
   "source": [
    "xyz = set() \n",
    "print(xyz) \n",
    "print(type(xyz)) "
   ]
  },
  {
   "cell_type": "markdown",
   "id": "57265a2b-864a-4974-9955-38ad172281c8",
   "metadata": {},
   "source": [
    "# properties of set"
   ]
  },
  {
   "cell_type": "markdown",
   "id": "6e081d15-eaa1-4307-ae19-ee6b58b09feb",
   "metadata": {},
   "source": [
    "# 1) unordered"
   ]
  },
  {
   "cell_type": "code",
   "execution_count": 6,
   "id": "8f882477-df27-4c41-b03b-8f2b852895b8",
   "metadata": {},
   "outputs": [
    {
     "name": "stdout",
     "output_type": "stream",
     "text": [
      "{1, 2, 3, 4}\n"
     ]
    }
   ],
   "source": [
    "my_set = {3,1,4,2}\n",
    "print(my_set)"
   ]
  },
  {
   "cell_type": "markdown",
   "id": "ef955c13-2670-4159-a722-c66e87f743c1",
   "metadata": {},
   "source": [
    "# 2) No indexing/slicing"
   ]
  },
  {
   "cell_type": "code",
   "execution_count": 7,
   "id": "80ef6ae4-67c7-4e5c-8709-208766a549c9",
   "metadata": {},
   "outputs": [
    {
     "ename": "TypeError",
     "evalue": "'set' object is not subscriptable",
     "output_type": "error",
     "traceback": [
      "\u001b[31m---------------------------------------------------------------------------\u001b[39m",
      "\u001b[31mTypeError\u001b[39m                                 Traceback (most recent call last)",
      "\u001b[36mCell\u001b[39m\u001b[36m \u001b[39m\u001b[32mIn[7]\u001b[39m\u001b[32m, line 2\u001b[39m\n\u001b[32m      1\u001b[39m a = {\u001b[33m'\u001b[39m\u001b[33manimals\u001b[39m\u001b[33m'\u001b[39m,\u001b[33m'\u001b[39m\u001b[33mball\u001b[39m\u001b[33m'\u001b[39m,\u001b[33m'\u001b[39m\u001b[33mcat\u001b[39m\u001b[33m'\u001b[39m}\n\u001b[32m----> \u001b[39m\u001b[32m2\u001b[39m \u001b[38;5;28mprint\u001b[39m(\u001b[43ma\u001b[49m\u001b[43m[\u001b[49m\u001b[32;43m0\u001b[39;49m\u001b[43m]\u001b[49m)\n",
      "\u001b[31mTypeError\u001b[39m: 'set' object is not subscriptable"
     ]
    }
   ],
   "source": [
    "a = {'animals','ball','cat'}\n",
    "print(a[0])"
   ]
  },
  {
   "cell_type": "code",
   "execution_count": 8,
   "id": "3802d746-b1c0-446e-9673-60f180a46326",
   "metadata": {},
   "outputs": [
    {
     "ename": "TypeError",
     "evalue": "'set' object is not subscriptable",
     "output_type": "error",
     "traceback": [
      "\u001b[31m---------------------------------------------------------------------------\u001b[39m",
      "\u001b[31mTypeError\u001b[39m                                 Traceback (most recent call last)",
      "\u001b[36mCell\u001b[39m\u001b[36m \u001b[39m\u001b[32mIn[8]\u001b[39m\u001b[32m, line 2\u001b[39m\n\u001b[32m      1\u001b[39m a = {\u001b[33m'\u001b[39m\u001b[33manimals\u001b[39m\u001b[33m'\u001b[39m,\u001b[33m'\u001b[39m\u001b[33mball\u001b[39m\u001b[33m'\u001b[39m,\u001b[33m'\u001b[39m\u001b[33mcat\u001b[39m\u001b[33m'\u001b[39m}\n\u001b[32m----> \u001b[39m\u001b[32m2\u001b[39m \u001b[38;5;28mprint\u001b[39m(\u001b[43ma\u001b[49m\u001b[43m[\u001b[49m\u001b[32;43m2\u001b[39;49m\u001b[43m:\u001b[49m\u001b[32;43m0\u001b[39;49m\u001b[43m]\u001b[49m)\n",
      "\u001b[31mTypeError\u001b[39m: 'set' object is not subscriptable"
     ]
    }
   ],
   "source": [
    "a = {'animals','ball','cat'}\n",
    "print(a[2:0])"
   ]
  },
  {
   "cell_type": "markdown",
   "id": "c5db33db-af81-45b7-b072-8a4a73e69c82",
   "metadata": {},
   "source": [
    "# 3) Unique elements"
   ]
  },
  {
   "cell_type": "code",
   "execution_count": 9,
   "id": "a32eba6c-01a2-4b92-b82d-26345972272c",
   "metadata": {},
   "outputs": [
    {
     "name": "stdout",
     "output_type": "stream",
     "text": [
      "{65, 8, 10, 12, 13, 14, 15, 16, 17, 18, 52}\n"
     ]
    }
   ],
   "source": [
    "my_set = {8,10,12,14,15,12,17,18,10,13,14,16,15,14,12,10,17,52,65} \n",
    "print(my_set) "
   ]
  },
  {
   "cell_type": "markdown",
   "id": "30908404-9b06-468a-b33f-62a5d24937e8",
   "metadata": {},
   "source": [
    "# 4) lterable"
   ]
  },
  {
   "cell_type": "code",
   "execution_count": 12,
   "id": "101fe929-804c-4138-991c-5c1f9703c4e0",
   "metadata": {},
   "outputs": [
    {
     "name": "stdout",
     "output_type": "stream",
     "text": [
      "25\n",
      "37\n",
      "23\n",
      "41\n",
      "14\n"
     ]
    }
   ],
   "source": [
    "my_set = {14,25,37,41,23} \n",
    "for element in my_set:\n",
    "    print(element) "
   ]
  },
  {
   "cell_type": "markdown",
   "id": "30fff917-0aef-47a5-8e18-2ba5cc6d3e63",
   "metadata": {},
   "source": [
    "# 5) Hashable elements "
   ]
  },
  {
   "cell_type": "markdown",
   "id": "251e35f5-131e-4311-bc59-86e0c9525962",
   "metadata": {},
   "source": [
    "only hashable objects (objects with a fixed hash value) can be added to a set. This means that sets cannot contain mutable types like lists or dictionaries. "
   ]
  },
  {
   "cell_type": "code",
   "execution_count": 13,
   "id": "328ca7ca-5bb8-406a-83a7-5b3227cc6f2d",
   "metadata": {},
   "outputs": [
    {
     "name": "stdout",
     "output_type": "stream",
     "text": [
      "{1, 2, 3, 3.6, 'a', (10, 20)}\n"
     ]
    }
   ],
   "source": [
    "my_set = {1,2,3,\"a\",3.6, (10,20)} \n",
    "print(my_set)"
   ]
  },
  {
   "cell_type": "code",
   "execution_count": 14,
   "id": "a71804d5-a4e6-490d-9f42-129e622576a1",
   "metadata": {},
   "outputs": [
    {
     "ename": "TypeError",
     "evalue": "unhashable type: 'list'",
     "output_type": "error",
     "traceback": [
      "\u001b[31m---------------------------------------------------------------------------\u001b[39m",
      "\u001b[31mTypeError\u001b[39m                                 Traceback (most recent call last)",
      "\u001b[36mCell\u001b[39m\u001b[36m \u001b[39m\u001b[32mIn[14]\u001b[39m\u001b[32m, line 1\u001b[39m\n\u001b[32m----> \u001b[39m\u001b[32m1\u001b[39m my_setl = {\u001b[32m1\u001b[39m,\u001b[32m2\u001b[39m,\u001b[32m3\u001b[39m,\u001b[32m3.6\u001b[39m,\u001b[33m'\u001b[39m\u001b[33mb\u001b[39m\u001b[33m'\u001b[39m, [\u001b[32m14\u001b[39m,\u001b[32m15\u001b[39m,\u001b[32m16\u001b[39m]} \n\u001b[32m      2\u001b[39m \u001b[38;5;28mprint\u001b[39m(my_setl)\n",
      "\u001b[31mTypeError\u001b[39m: unhashable type: 'list'"
     ]
    }
   ],
   "source": [
    "my_setl = {1,2,3,3.6,'b', [14,15,16]} \n",
    "print(my_setl)"
   ]
  },
  {
   "cell_type": "code",
   "execution_count": 16,
   "id": "7bcbc801-3409-4534-b538-142fbd31d17f",
   "metadata": {},
   "outputs": [
    {
     "ename": "TypeError",
     "evalue": "unhashable type: 'dict'",
     "output_type": "error",
     "traceback": [
      "\u001b[31m---------------------------------------------------------------------------\u001b[39m",
      "\u001b[31mTypeError\u001b[39m                                 Traceback (most recent call last)",
      "\u001b[36mCell\u001b[39m\u001b[36m \u001b[39m\u001b[32mIn[16]\u001b[39m\u001b[32m, line 1\u001b[39m\n\u001b[32m----> \u001b[39m\u001b[32m1\u001b[39m x = {{\u001b[33m'\u001b[39m\u001b[33ma\u001b[39m\u001b[33m'\u001b[39m:\u001b[32m1\u001b[39m, \u001b[33m'\u001b[39m\u001b[33mb\u001b[39m\u001b[33m'\u001b[39m:\u001b[32m2\u001b[39m}}\n\u001b[32m      2\u001b[39m \u001b[38;5;28mprint\u001b[39m(x)\n",
      "\u001b[31mTypeError\u001b[39m: unhashable type: 'dict'"
     ]
    }
   ],
   "source": [
    "x = {{'a':1, 'b':2}}\n",
    "print(x)"
   ]
  },
  {
   "cell_type": "code",
   "execution_count": null,
   "id": "d4eab761-5086-4c26-aa63-34ce730627db",
   "metadata": {},
   "outputs": [],
   "source": []
  }
 ],
 "metadata": {
  "kernelspec": {
   "display_name": "Python 3 (ipykernel)",
   "language": "python",
   "name": "python3"
  },
  "language_info": {
   "codemirror_mode": {
    "name": "ipython",
    "version": 3
   },
   "file_extension": ".py",
   "mimetype": "text/x-python",
   "name": "python",
   "nbconvert_exporter": "python",
   "pygments_lexer": "ipython3",
   "version": "3.13.2"
  }
 },
 "nbformat": 4,
 "nbformat_minor": 5
}
