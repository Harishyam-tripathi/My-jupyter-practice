{
 "cells": [
  {
   "cell_type": "markdown",
   "id": "89804afa-e040-4205-ab9a-de87ddd13d9c",
   "metadata": {},
   "source": [
    "# variables question"
   ]
  },
  {
   "cell_type": "code",
   "execution_count": null,
   "id": "a043a04b-551b-4cbb-8f0a-40bceb2af596",
   "metadata": {},
   "outputs": [],
   "source": []
  },
  {
   "cell_type": "code",
   "execution_count": 2,
   "id": "8ad3571a-a7ce-49b2-9efc-c6e751c1eba4",
   "metadata": {},
   "outputs": [
    {
     "name": "stdout",
     "output_type": "stream",
     "text": [
      "10\n"
     ]
    }
   ],
   "source": [
    "x = 5\n",
    "\n",
    "x = 10\n",
    "print(x)"
   ]
  },
  {
   "cell_type": "code",
   "execution_count": 8,
   "id": "cca72622-402d-413c-98bb-e6f2987537a6",
   "metadata": {},
   "outputs": [
    {
     "name": "stdout",
     "output_type": "stream",
     "text": [
      "123variable\n"
     ]
    }
   ],
   "source": [
    "#123variable\n",
    "print(\"123variable\")\n",
    "#myVariable123\n",
    "#print(\"myVariable123\")\n"
   ]
  },
  {
   "cell_type": "markdown",
   "id": "a0db1dcd-3a57-44c5-bb92-720bb1a34cf7",
   "metadata": {},
   "source": [
    "# Operator in python "
   ]
  },
  {
   "cell_type": "markdown",
   "id": "8ecc3336-cb57-4f8d-9a44-24f28d99ce7c",
   "metadata": {},
   "source": [
    "# 1. Arithmetic Operator "
   ]
  },
  {
   "cell_type": "code",
   "execution_count": 9,
   "id": "7354ea26-301d-4e61-9942-a49703ef5171",
   "metadata": {},
   "outputs": [
    {
     "name": "stdout",
     "output_type": "stream",
     "text": [
      "4\n"
     ]
    }
   ],
   "source": [
    "a = 1 \n",
    "b = 3\n",
    "print(a+b)"
   ]
  },
  {
   "cell_type": "code",
   "execution_count": 10,
   "id": "9f948cc6-618f-44f0-9f1b-f110d533ad0f",
   "metadata": {},
   "outputs": [
    {
     "name": "stdout",
     "output_type": "stream",
     "text": [
      "4.0\n"
     ]
    }
   ],
   "source": [
    "x = 1.5\n",
    "y = 2.5\n",
    "print(x+y)"
   ]
  },
  {
   "cell_type": "code",
   "execution_count": 16,
   "id": "b03383ce-b61f-4cf2-a96a-16295716b71f",
   "metadata": {},
   "outputs": [
    {
     "name": "stdout",
     "output_type": "stream",
     "text": [
      "hello world\n"
     ]
    }
   ],
   "source": [
    "a1 = \"hello\"\n",
    "b2 = \"world\"\n",
    "print(a1+\" \"+b2)"
   ]
  },
  {
   "cell_type": "code",
   "execution_count": 17,
   "id": "b6783034-0e41-4279-9b33-4f87af1bd4e0",
   "metadata": {},
   "outputs": [
    {
     "name": "stdout",
     "output_type": "stream",
     "text": [
      "(5+8j)\n"
     ]
    }
   ],
   "source": [
    "x1 = 2+3j\n",
    "y2 = 3+5j\n",
    "print(x1+y2)"
   ]
  },
  {
   "cell_type": "code",
   "execution_count": 18,
   "id": "1a190c3e-839f-4492-8e18-a24d5e78fdbd",
   "metadata": {},
   "outputs": [
    {
     "name": "stdout",
     "output_type": "stream",
     "text": [
      "4\n"
     ]
    }
   ],
   "source": [
    "num1 = 8\n",
    "num2 = 4 \n",
    "print(num1-num2)"
   ]
  },
  {
   "cell_type": "code",
   "execution_count": 19,
   "id": "4f4e7e85-d228-470e-9589-65ebff046d27",
   "metadata": {},
   "outputs": [
    {
     "name": "stdout",
     "output_type": "stream",
     "text": [
      "-4.96\n"
     ]
    }
   ],
   "source": [
    "a4 = 3.54\n",
    "b4 = 8.5\n",
    "print(a4-b4)"
   ]
  },
  {
   "cell_type": "code",
   "execution_count": 20,
   "id": "1b4f0717-6617-4370-932d-a9bfb5c0fcb2",
   "metadata": {},
   "outputs": [
    {
     "name": "stdout",
     "output_type": "stream",
     "text": [
      "(2+4j)\n"
     ]
    }
   ],
   "source": [
    "a6 = 5+9j\n",
    "b6 = 3+5j\n",
    "print(a6-b6)"
   ]
  },
  {
   "cell_type": "markdown",
   "id": "2ad03d60-8015-468b-9f47-94eb4a4af329",
   "metadata": {},
   "source": [
    "# Built in finction in Python "
   ]
  },
  {
   "cell_type": "markdown",
   "id": "f3bbeee2-b1bf-4a71-95e4-514081324c6f",
   "metadata": {},
   "source": [
    "1- Float function "
   ]
  },
  {
   "cell_type": "code",
   "execution_count": 7,
   "id": "cde5176f-c05d-4dbe-b3ee-33bef87405df",
   "metadata": {},
   "outputs": [
    {
     "name": "stdout",
     "output_type": "stream",
     "text": [
      "<class 'int'>\n",
      "10.0\n",
      "<class 'float'>\n"
     ]
    }
   ],
   "source": [
    "num_int = 10\n",
    "print(type(num_int))\n",
    "#convert into float\n",
    "a = float(num_int)\n",
    "print(a)\n",
    "print(type(a))"
   ]
  },
  {
   "cell_type": "code",
   "execution_count": 8,
   "id": "dd8dc0b1-c266-4346-b91e-e131eeff30e4",
   "metadata": {},
   "outputs": [
    {
     "name": "stdout",
     "output_type": "stream",
     "text": [
      "<class 'str'>\n",
      "3.14\n",
      "<class 'float'>\n"
     ]
    }
   ],
   "source": [
    "a = \"3.14\"\n",
    "print(type(a))\n",
    "#convert into float\n",
    "b = float(a)\n",
    "print(a)\n",
    "print(type(b))"
   ]
  },
  {
   "cell_type": "markdown",
   "id": "e7c96cf9-7263-4102-97b9-d22e8475b593",
   "metadata": {},
   "source": [
    "# int function"
   ]
  },
  {
   "cell_type": "code",
   "execution_count": 12,
   "id": "9d4ae7c3-6fc0-42ee-b3ce-bcadc0f3ce0a",
   "metadata": {},
   "outputs": [
    {
     "name": "stdout",
     "output_type": "stream",
     "text": [
      "<class 'float'>\n",
      "5\n",
      "<class 'int'>\n"
     ]
    }
   ],
   "source": [
    "a = 5.53369\n",
    "print (type(a))\n",
    "#float into int \n",
    "b = int (a)\n",
    "print(b)\n",
    "print(type(b))"
   ]
  },
  {
   "cell_type": "code",
   "execution_count": 14,
   "id": "4093d540-4700-4a36-acb4-4e04d5d62d8f",
   "metadata": {},
   "outputs": [
    {
     "name": "stdout",
     "output_type": "stream",
     "text": [
      "<class 'str'>\n",
      "43\n",
      "<class 'int'>\n"
     ]
    }
   ],
   "source": [
    "a1 = \"43\"\n",
    "print(type(a1))\n",
    "b1 = int(a1)\n",
    "print(b1)\n",
    "print(type(b1))"
   ]
  },
  {
   "cell_type": "markdown",
   "id": "9a640b5f-e571-4e35-8380-ebe719a1d6ab",
   "metadata": {},
   "source": [
    "# string function"
   ]
  },
  {
   "cell_type": "code",
   "execution_count": 23,
   "id": "09a6e39a-9e31-4f5b-9029-0382dbd103cf",
   "metadata": {},
   "outputs": [
    {
     "name": "stdout",
     "output_type": "stream",
     "text": [
      "<class 'int'>\n",
      "56\n",
      "<class 'str'>\n",
      "562\n",
      "58\n"
     ]
    }
   ],
   "source": [
    "a = 56\n",
    "print(type(a))\n",
    "b = str(a)\n",
    "print(b)\n",
    "print(type(b))\n",
    "c = \"2\"\n",
    "print(b+c)\n",
    "print(a+2)"
   ]
  },
  {
   "cell_type": "markdown",
   "id": "f1525ec1-3cf4-4a49-aff2-681db18788cf",
   "metadata": {},
   "source": [
    "# complex function"
   ]
  },
  {
   "cell_type": "code",
   "execution_count": 24,
   "id": "16fc7af8-d678-4522-86f2-5e907c22658f",
   "metadata": {},
   "outputs": [
    {
     "name": "stdout",
     "output_type": "stream",
     "text": [
      "(2+5j)\n"
     ]
    }
   ],
   "source": [
    "comp = complex(2,5)\n",
    "print (comp)"
   ]
  },
  {
   "cell_type": "code",
   "execution_count": 26,
   "id": "e4a3ebbf-6fa1-440a-9f0b-9c9868ba0141",
   "metadata": {},
   "outputs": [
    {
     "name": "stdout",
     "output_type": "stream",
     "text": [
      "(6+79j)\n"
     ]
    }
   ],
   "source": [
    "x = complex(6,79)\n",
    "print(x)"
   ]
  },
  {
   "cell_type": "markdown",
   "id": "b2ad3b40-6fc4-4df6-8cd0-404d6d633957",
   "metadata": {},
   "source": [
    "# abs function"
   ]
  },
  {
   "cell_type": "code",
   "execution_count": 27,
   "id": "923019fb-ddce-4b14-9023-f0d304e3cbcf",
   "metadata": {},
   "outputs": [
    {
     "name": "stdout",
     "output_type": "stream",
     "text": [
      "23\n"
     ]
    }
   ],
   "source": [
    "x = -23\n",
    "print(abs(x))"
   ]
  },
  {
   "cell_type": "code",
   "execution_count": 28,
   "id": "49270973-c1d6-4743-8773-223944f77987",
   "metadata": {},
   "outputs": [
    {
     "name": "stdout",
     "output_type": "stream",
     "text": [
      "2.3528\n"
     ]
    }
   ],
   "source": [
    "y = -2.3528\n",
    "print(abs(y))"
   ]
  },
  {
   "cell_type": "code",
   "execution_count": 29,
   "id": "6615330e-ce87-4b8f-bb1d-bd61d329662c",
   "metadata": {},
   "outputs": [
    {
     "name": "stdout",
     "output_type": "stream",
     "text": [
      "5.0\n"
     ]
    }
   ],
   "source": [
    "z = -3+4j\n",
    "print(abs(z))"
   ]
  },
  {
   "cell_type": "markdown",
   "id": "28063440-2745-4423-bfef-20d5fb103e69",
   "metadata": {},
   "source": [
    "# len fun"
   ]
  },
  {
   "cell_type": "code",
   "execution_count": 31,
   "id": "953f3e9b-57d0-44e2-b2fa-f9a4e003d245",
   "metadata": {},
   "outputs": [
    {
     "name": "stdout",
     "output_type": "stream",
     "text": [
      "41\n"
     ]
    }
   ],
   "source": [
    "a = \"hello i am harishyam stodent of BCA DS&AI\"\n",
    "print(len(a))"
   ]
  },
  {
   "cell_type": "code",
   "execution_count": 32,
   "id": "de5ad340-fb01-4050-938e-85ea2c25fe06",
   "metadata": {},
   "outputs": [
    {
     "name": "stdout",
     "output_type": "stream",
     "text": [
      "23\n"
     ]
    }
   ],
   "source": [
    "b = \" I am stable in lucknow\"\n",
    "print(len(b))"
   ]
  },
  {
   "cell_type": "code",
   "execution_count": 33,
   "id": "7da9a1cb-1407-41fe-9ea6-b2068c1c63af",
   "metadata": {},
   "outputs": [
    {
     "name": "stdout",
     "output_type": "stream",
     "text": [
      "4\n"
     ]
    }
   ],
   "source": [
    "c = [12,25,35,46]\n",
    "print(len(c))"
   ]
  },
  {
   "cell_type": "raw",
   "id": "8fd26086-acf2-4555-a614-4ead8379fcb6",
   "metadata": {},
   "source": [
    "#Question "
   ]
  },
  {
   "cell_type": "code",
   "execution_count": 39,
   "id": "1542247c-747c-424b-aaca-3a67feeaca9c",
   "metadata": {},
   "outputs": [
    {
     "name": "stdout",
     "output_type": "stream",
     "text": [
      "<class 'float'>\n",
      "1234\n",
      "<class 'int'>\n"
     ]
    }
   ],
   "source": [
    "ps= 1234.56\n",
    "print(type(ps))\n",
    "ps1= int(ps)\n",
    "print(ps1)\n",
    "print(type(ps1))"
   ]
  },
  {
   "cell_type": "markdown",
   "id": "fe3bab8d-0687-40c6-8d64-7613cd18db01",
   "metadata": {},
   "source": [
    "# built function"
   ]
  },
  {
   "cell_type": "raw",
   "id": "3d761c38-cac1-470c-bc9d-dc0e791691e1",
   "metadata": {},
   "source": [
    "part 2"
   ]
  },
  {
   "cell_type": "code",
   "execution_count": 1,
   "id": "f919fe82-c9ec-497c-a1a9-680d60e83d32",
   "metadata": {},
   "outputs": [
    {
     "name": "stdout",
     "output_type": "stream",
     "text": [
      "0b1010\n"
     ]
    }
   ],
   "source": [
    "binary_rep = bin(10)\n",
    "print(binary_rep)"
   ]
  },
  {
   "cell_type": "code",
   "execution_count": 2,
   "id": "6d118210-4bda-4804-9baa-80a3e230f19b",
   "metadata": {},
   "outputs": [
    {
     "name": "stdout",
     "output_type": "stream",
     "text": [
      "0b11111010000\n"
     ]
    }
   ],
   "source": [
    "z = bin(2000)\n",
    "print(z)"
   ]
  },
  {
   "cell_type": "markdown",
   "id": "ba17af59-05f3-480e-a8cc-cb6d0c8d1004",
   "metadata": {},
   "source": [
    "# sum fun"
   ]
  },
  {
   "cell_type": "code",
   "execution_count": 3,
   "id": "774dec52-a21a-4035-876a-163f98e9162b",
   "metadata": {},
   "outputs": [
    {
     "name": "stdout",
     "output_type": "stream",
     "text": [
      "8030\n"
     ]
    }
   ],
   "source": [
    "my_list = [7,8,9,2,4,5,1115,6879,1]\n",
    "a = sum(my_list)\n",
    "print(a)"
   ]
  },
  {
   "cell_type": "code",
   "execution_count": 4,
   "id": "fe035f5b-e68b-4e96-a3ab-955aafdf724d",
   "metadata": {},
   "outputs": [
    {
     "name": "stdout",
     "output_type": "stream",
     "text": [
      "33\n"
     ]
    }
   ],
   "source": [
    "a = [8,5,4,6]\n",
    "starting_value = 10\n",
    "total = sum(a,starting_value)\n",
    "print(total)"
   ]
  },
  {
   "cell_type": "code",
   "execution_count": 6,
   "id": "f0b7173e-be52-423a-babf-cd6be44994ab",
   "metadata": {},
   "outputs": [
    {
     "name": "stdout",
     "output_type": "stream",
     "text": [
      "178\n"
     ]
    }
   ],
   "source": [
    "b = [11,7,54,6]\n",
    "starting_value = (100)\n",
    "total = sum(b,starting_value)\n",
    "print(total)"
   ]
  },
  {
   "cell_type": "markdown",
   "id": "2ca11e9f-7c71-467f-a50c-d7e0c83dc9df",
   "metadata": {},
   "source": [
    "# Eval function()"
   ]
  },
  {
   "cell_type": "code",
   "execution_count": 8,
   "id": "1d5c201a-8eb3-4c66-95af-3b3a9933d60f",
   "metadata": {},
   "outputs": [
    {
     "name": "stdout",
     "output_type": "stream",
     "text": [
      "20\n"
     ]
    }
   ],
   "source": [
    "x = 10\n",
    "y = 5\n",
    "expression = \"x+y*2\"\n",
    "print(eval(expression))"
   ]
  },
  {
   "cell_type": "code",
   "execution_count": 9,
   "id": "6143f660-110b-4cba-839c-a670d7b27880",
   "metadata": {},
   "outputs": [
    {
     "name": "stdout",
     "output_type": "stream",
     "text": [
      "6.0\n",
      "<class 'str'>\n"
     ]
    }
   ],
   "source": [
    "exp = \" 5/2 +3.5\"\n",
    "print(eval(exp))\n",
    "print(type(exp))"
   ]
  },
  {
   "cell_type": "code",
   "execution_count": 12,
   "id": "4159d3ce-d5d7-4ad9-9939-da0408bbd7f6",
   "metadata": {},
   "outputs": [
    {
     "name": "stdout",
     "output_type": "stream",
     "text": [
      "<class 'str'>\n",
      "5864.0\n"
     ]
    }
   ],
   "source": [
    "exp1 = \"234*25+63-98/2\"\n",
    "print(type(exp1))\n",
    "print(eval(exp1))"
   ]
  },
  {
   "cell_type": "code",
   "execution_count": 14,
   "id": "6dfe198c-f816-4fc9-9fc0-56a6113595cb",
   "metadata": {},
   "outputs": [
    {
     "name": "stdout",
     "output_type": "stream",
     "text": [
      "-211.7\n"
     ]
    }
   ],
   "source": [
    "x = 5\n",
    "y = 2.5\n",
    "z = 32 \n",
    "exp = \"x+y-z*23/5-9*8\"\n",
    "print(eval(exp))"
   ]
  },
  {
   "cell_type": "markdown",
   "id": "eb35cc00-19f2-4c0e-a2c8-a36c71d8fed2",
   "metadata": {},
   "source": [
    "# help fun"
   ]
  },
  {
   "cell_type": "code",
   "execution_count": 1,
   "id": "a88b7572-5304-434a-9987-4419cb8ec89a",
   "metadata": {},
   "outputs": [
    {
     "name": "stdout",
     "output_type": "stream",
     "text": [
      "Help on built-in function print in module builtins:\n",
      "\n",
      "print(*args, sep=' ', end='\\n', file=None, flush=False)\n",
      "    Prints the values to a stream, or to sys.stdout by default.\n",
      "\n",
      "    sep\n",
      "      string inserted between values, default a space.\n",
      "    end\n",
      "      string appended after the last value, default a newline.\n",
      "    file\n",
      "      a file-like object (stream); defaults to the current sys.stdout.\n",
      "    flush\n",
      "      whether to forcibly flush the stream.\n",
      "\n"
     ]
    }
   ],
   "source": [
    "help(print)"
   ]
  },
  {
   "cell_type": "code",
   "execution_count": 2,
   "id": "8e270ae6-aeb4-4aac-a5ad-2da4f6564bbf",
   "metadata": {},
   "outputs": [
    {
     "name": "stdout",
     "output_type": "stream",
     "text": [
      "Help on class int in module builtins:\n",
      "\n",
      "class int(object)\n",
      " |  int([x]) -> integer\n",
      " |  int(x, base=10) -> integer\n",
      " |\n",
      " |  Convert a number or string to an integer, or return 0 if no arguments\n",
      " |  are given.  If x is a number, return x.__int__().  For floating-point\n",
      " |  numbers, this truncates towards zero.\n",
      " |\n",
      " |  If x is not a number or if base is given, then x must be a string,\n",
      " |  bytes, or bytearray instance representing an integer literal in the\n",
      " |  given base.  The literal can be preceded by '+' or '-' and be surrounded\n",
      " |  by whitespace.  The base defaults to 10.  Valid bases are 0 and 2-36.\n",
      " |  Base 0 means to interpret the base from the string as an integer literal.\n",
      " |  >>> int('0b100', base=0)\n",
      " |  4\n",
      " |\n",
      " |  Built-in subclasses:\n",
      " |      bool\n",
      " |\n",
      " |  Methods defined here:\n",
      " |\n",
      " |  __abs__(self, /)\n",
      " |      abs(self)\n",
      " |\n",
      " |  __add__(self, value, /)\n",
      " |      Return self+value.\n",
      " |\n",
      " |  __and__(self, value, /)\n",
      " |      Return self&value.\n",
      " |\n",
      " |  __bool__(self, /)\n",
      " |      True if self else False\n",
      " |\n",
      " |  __ceil__(...)\n",
      " |      Ceiling of an Integral returns itself.\n",
      " |\n",
      " |  __divmod__(self, value, /)\n",
      " |      Return divmod(self, value).\n",
      " |\n",
      " |  __eq__(self, value, /)\n",
      " |      Return self==value.\n",
      " |\n",
      " |  __float__(self, /)\n",
      " |      float(self)\n",
      " |\n",
      " |  __floor__(...)\n",
      " |      Flooring an Integral returns itself.\n",
      " |\n",
      " |  __floordiv__(self, value, /)\n",
      " |      Return self//value.\n",
      " |\n",
      " |  __format__(self, format_spec, /)\n",
      " |      Convert to a string according to format_spec.\n",
      " |\n",
      " |  __ge__(self, value, /)\n",
      " |      Return self>=value.\n",
      " |\n",
      " |  __getattribute__(self, name, /)\n",
      " |      Return getattr(self, name).\n",
      " |\n",
      " |  __getnewargs__(self, /)\n",
      " |\n",
      " |  __gt__(self, value, /)\n",
      " |      Return self>value.\n",
      " |\n",
      " |  __hash__(self, /)\n",
      " |      Return hash(self).\n",
      " |\n",
      " |  __index__(self, /)\n",
      " |      Return self converted to an integer, if self is suitable for use as an index into a list.\n",
      " |\n",
      " |  __int__(self, /)\n",
      " |      int(self)\n",
      " |\n",
      " |  __invert__(self, /)\n",
      " |      ~self\n",
      " |\n",
      " |  __le__(self, value, /)\n",
      " |      Return self<=value.\n",
      " |\n",
      " |  __lshift__(self, value, /)\n",
      " |      Return self<<value.\n",
      " |\n",
      " |  __lt__(self, value, /)\n",
      " |      Return self<value.\n",
      " |\n",
      " |  __mod__(self, value, /)\n",
      " |      Return self%value.\n",
      " |\n",
      " |  __mul__(self, value, /)\n",
      " |      Return self*value.\n",
      " |\n",
      " |  __ne__(self, value, /)\n",
      " |      Return self!=value.\n",
      " |\n",
      " |  __neg__(self, /)\n",
      " |      -self\n",
      " |\n",
      " |  __or__(self, value, /)\n",
      " |      Return self|value.\n",
      " |\n",
      " |  __pos__(self, /)\n",
      " |      +self\n",
      " |\n",
      " |  __pow__(self, value, mod=None, /)\n",
      " |      Return pow(self, value, mod).\n",
      " |\n",
      " |  __radd__(self, value, /)\n",
      " |      Return value+self.\n",
      " |\n",
      " |  __rand__(self, value, /)\n",
      " |      Return value&self.\n",
      " |\n",
      " |  __rdivmod__(self, value, /)\n",
      " |      Return divmod(value, self).\n",
      " |\n",
      " |  __repr__(self, /)\n",
      " |      Return repr(self).\n",
      " |\n",
      " |  __rfloordiv__(self, value, /)\n",
      " |      Return value//self.\n",
      " |\n",
      " |  __rlshift__(self, value, /)\n",
      " |      Return value<<self.\n",
      " |\n",
      " |  __rmod__(self, value, /)\n",
      " |      Return value%self.\n",
      " |\n",
      " |  __rmul__(self, value, /)\n",
      " |      Return value*self.\n",
      " |\n",
      " |  __ror__(self, value, /)\n",
      " |      Return value|self.\n",
      " |\n",
      " |  __round__(...)\n",
      " |      Rounding an Integral returns itself.\n",
      " |\n",
      " |      Rounding with an ndigits argument also returns an integer.\n",
      " |\n",
      " |  __rpow__(self, value, mod=None, /)\n",
      " |      Return pow(value, self, mod).\n",
      " |\n",
      " |  __rrshift__(self, value, /)\n",
      " |      Return value>>self.\n",
      " |\n",
      " |  __rshift__(self, value, /)\n",
      " |      Return self>>value.\n",
      " |\n",
      " |  __rsub__(self, value, /)\n",
      " |      Return value-self.\n",
      " |\n",
      " |  __rtruediv__(self, value, /)\n",
      " |      Return value/self.\n",
      " |\n",
      " |  __rxor__(self, value, /)\n",
      " |      Return value^self.\n",
      " |\n",
      " |  __sizeof__(self, /)\n",
      " |      Returns size in memory, in bytes.\n",
      " |\n",
      " |  __sub__(self, value, /)\n",
      " |      Return self-value.\n",
      " |\n",
      " |  __truediv__(self, value, /)\n",
      " |      Return self/value.\n",
      " |\n",
      " |  __trunc__(...)\n",
      " |      Truncating an Integral returns itself.\n",
      " |\n",
      " |  __xor__(self, value, /)\n",
      " |      Return self^value.\n",
      " |\n",
      " |  as_integer_ratio(self, /)\n",
      " |      Return a pair of integers, whose ratio is equal to the original int.\n",
      " |\n",
      " |      The ratio is in lowest terms and has a positive denominator.\n",
      " |\n",
      " |      >>> (10).as_integer_ratio()\n",
      " |      (10, 1)\n",
      " |      >>> (-10).as_integer_ratio()\n",
      " |      (-10, 1)\n",
      " |      >>> (0).as_integer_ratio()\n",
      " |      (0, 1)\n",
      " |\n",
      " |  bit_count(self, /)\n",
      " |      Number of ones in the binary representation of the absolute value of self.\n",
      " |\n",
      " |      Also known as the population count.\n",
      " |\n",
      " |      >>> bin(13)\n",
      " |      '0b1101'\n",
      " |      >>> (13).bit_count()\n",
      " |      3\n",
      " |\n",
      " |  bit_length(self, /)\n",
      " |      Number of bits necessary to represent self in binary.\n",
      " |\n",
      " |      >>> bin(37)\n",
      " |      '0b100101'\n",
      " |      >>> (37).bit_length()\n",
      " |      6\n",
      " |\n",
      " |  conjugate(...)\n",
      " |      Returns self, the complex conjugate of any int.\n",
      " |\n",
      " |  is_integer(self, /)\n",
      " |      Returns True. Exists for duck type compatibility with float.is_integer.\n",
      " |\n",
      " |  to_bytes(self, /, length=1, byteorder='big', *, signed=False)\n",
      " |      Return an array of bytes representing an integer.\n",
      " |\n",
      " |      length\n",
      " |        Length of bytes object to use.  An OverflowError is raised if the\n",
      " |        integer is not representable with the given number of bytes.  Default\n",
      " |        is length 1.\n",
      " |      byteorder\n",
      " |        The byte order used to represent the integer.  If byteorder is 'big',\n",
      " |        the most significant byte is at the beginning of the byte array.  If\n",
      " |        byteorder is 'little', the most significant byte is at the end of the\n",
      " |        byte array.  To request the native byte order of the host system, use\n",
      " |        `sys.byteorder' as the byte order value.  Default is to use 'big'.\n",
      " |      signed\n",
      " |        Determines whether two's complement is used to represent the integer.\n",
      " |        If signed is False and a negative integer is given, an OverflowError\n",
      " |        is raised.\n",
      " |\n",
      " |  ----------------------------------------------------------------------\n",
      " |  Class methods defined here:\n",
      " |\n",
      " |  from_bytes(bytes, byteorder='big', *, signed=False)\n",
      " |      Return the integer represented by the given array of bytes.\n",
      " |\n",
      " |      bytes\n",
      " |        Holds the array of bytes to convert.  The argument must either\n",
      " |        support the buffer protocol or be an iterable object producing bytes.\n",
      " |        Bytes and bytearray are examples of built-in objects that support the\n",
      " |        buffer protocol.\n",
      " |      byteorder\n",
      " |        The byte order used to represent the integer.  If byteorder is 'big',\n",
      " |        the most significant byte is at the beginning of the byte array.  If\n",
      " |        byteorder is 'little', the most significant byte is at the end of the\n",
      " |        byte array.  To request the native byte order of the host system, use\n",
      " |        `sys.byteorder' as the byte order value.  Default is to use 'big'.\n",
      " |      signed\n",
      " |        Indicates whether two's complement is used to represent the integer.\n",
      " |\n",
      " |  ----------------------------------------------------------------------\n",
      " |  Static methods defined here:\n",
      " |\n",
      " |  __new__(*args, **kwargs)\n",
      " |      Create and return a new object.  See help(type) for accurate signature.\n",
      " |\n",
      " |  ----------------------------------------------------------------------\n",
      " |  Data descriptors defined here:\n",
      " |\n",
      " |  denominator\n",
      " |      the denominator of a rational number in lowest terms\n",
      " |\n",
      " |  imag\n",
      " |      the imaginary part of a complex number\n",
      " |\n",
      " |  numerator\n",
      " |      the numerator of a rational number in lowest terms\n",
      " |\n",
      " |  real\n",
      " |      the real part of a complex number\n",
      "\n"
     ]
    }
   ],
   "source": [
    "help(int)"
   ]
  },
  {
   "cell_type": "code",
   "execution_count": 3,
   "id": "7f92559c-cc69-4f19-b949-94fcbef834cf",
   "metadata": {},
   "outputs": [
    {
     "data": {
      "text/plain": [
       "\u001b[1;31mSignature:\u001b[0m \u001b[0msum\u001b[0m\u001b[1;33m(\u001b[0m\u001b[0miterable\u001b[0m\u001b[1;33m,\u001b[0m \u001b[1;33m/\u001b[0m\u001b[1;33m,\u001b[0m \u001b[0mstart\u001b[0m\u001b[1;33m=\u001b[0m\u001b[1;36m0\u001b[0m\u001b[1;33m)\u001b[0m\u001b[1;33m\u001b[0m\u001b[1;33m\u001b[0m\u001b[0m\n",
       "\u001b[1;31mDocstring:\u001b[0m\n",
       "Return the sum of a 'start' value (default: 0) plus an iterable of numbers\n",
       "\n",
       "When the iterable is empty, return the start value.\n",
       "This function is intended specifically for use with numeric values and may\n",
       "reject non-numeric types.\n",
       "\u001b[1;31mType:\u001b[0m      builtin_function_or_method"
      ]
     },
     "metadata": {},
     "output_type": "display_data"
    }
   ],
   "source": [
    "sum??"
   ]
  },
  {
   "cell_type": "markdown",
   "id": "69793991-973a-4727-9344-4c7ede81f4e4",
   "metadata": {},
   "source": [
    "# input function "
   ]
  },
  {
   "cell_type": "code",
   "execution_count": 7,
   "id": "ce386aab-0aaf-481a-886c-183828fae097",
   "metadata": {},
   "outputs": [
    {
     "name": "stdin",
     "output_type": "stream",
     "text": [
      "enter your name hari\n"
     ]
    },
    {
     "name": "stdout",
     "output_type": "stream",
     "text": [
      "name entered by user is hari\n",
      "<class 'str'>\n"
     ]
    }
   ],
   "source": [
    "name = input(\"enter your name\")\n",
    "print(\"name entered by user is\",name)\n",
    "print(type(name))"
   ]
  },
  {
   "cell_type": "code",
   "execution_count": 9,
   "id": "9bb870e9-9268-4840-8978-517016cc999c",
   "metadata": {},
   "outputs": [
    {
     "name": "stdin",
     "output_type": "stream",
     "text": [
      "enter your age please 20\n"
     ]
    },
    {
     "name": "stdout",
     "output_type": "stream",
     "text": [
      "age of user is  20\n",
      "<class 'str'>\n"
     ]
    }
   ],
   "source": [
    "age = input(\"enter your age please\")\n",
    "print(\"age of user is \",age)\n",
    "print(type(age))"
   ]
  },
  {
   "cell_type": "markdown",
   "id": "dd674433-1986-4bec-8ae7-f10a101952ae",
   "metadata": {},
   "source": [
    "questions"
   ]
  },
  {
   "cell_type": "raw",
   "id": "5bf0450a-d226-48bf-9921-dea66a0679ba",
   "metadata": {},
   "source": [
    "Get two numbers from the user  and calculate their sum"
   ]
  },
  {
   "cell_type": "code",
   "execution_count": 12,
   "id": "02bbf7f6-dfcc-45d2-98ef-7d7f35ec5440",
   "metadata": {},
   "outputs": [
    {
     "name": "stdin",
     "output_type": "stream",
     "text": [
      "enter num first 10\n",
      "enter num second 05\n"
     ]
    },
    {
     "name": "stdout",
     "output_type": "stream",
     "text": [
      "15\n"
     ]
    }
   ],
   "source": [
    "num1 = int(input(\"enter num first\"))\n",
    "num2 =int(input(\"enter num second\"))\n",
    "sum =num1 + num2\n",
    "print(sum)"
   ]
  },
  {
   "cell_type": "markdown",
   "id": "fc0e1c9f-6d8a-40e5-9761-17c81b9a6610",
   "metadata": {},
   "source": [
    "age = int(input(\"enter your age\"))\n",
    "weight = int(input(\"enter your weight\"))\n",
    "height = float(input(\"enter your height\"))\n",
    "correct_age = abs(age)\n",
    "print(\"the correct age of the user is\",correct_age)\n",
    "BMR = \"88.365 + (13.788 * weight) + (4.799 * height)- (5.677 * age )\"\n",
    "bmr = eval(BMR)\n",
    "print(\"the BMR Of the patient is\",int(bmr))"
   ]
  },
  {
   "cell_type": "markdown",
   "id": "830216ce-2143-4f69-b028-ca8a9c774950",
   "metadata": {},
   "source": [
    "# Control flow statement"
   ]
  },
  {
   "cell_type": "raw",
   "id": "59d2ae56-45c5-4cbb-b890-a67ff4feaf93",
   "metadata": {},
   "source": [
    " if statement"
   ]
  },
  {
   "cell_type": "code",
   "execution_count": 4,
   "id": "d04cdacc-fa9e-40c8-bd86-cf541593a6ec",
   "metadata": {},
   "outputs": [
    {
     "name": "stdout",
     "output_type": "stream",
     "text": [
      "condition is false\n"
     ]
    }
   ],
   "source": [
    "i = 20 \n",
    "if i<10:\n",
    "    print(\"condition is true \")\n",
    "print(\"condition is false\")\n",
    "    "
   ]
  },
  {
   "cell_type": "code",
   "execution_count": 12,
   "id": "a09dd39e-c659-4015-803e-4a35c1d2202c",
   "metadata": {},
   "outputs": [
    {
     "name": "stdin",
     "output_type": "stream",
     "text": [
      "enter the temprature 25\n"
     ]
    },
    {
     "name": "stdout",
     "output_type": "stream",
     "text": [
      "temprature is convinient\n"
     ]
    }
   ],
   "source": [
    "temp  = float(input(\"enter the temprature\"))\n",
    "if temp<15:\n",
    "    print(\"temprature is not convinient\")\n",
    "\n",
    "if 24<temp<28:\n",
    "    print(\"temprature is convinient\")"
   ]
  },
  {
   "cell_type": "markdown",
   "id": "b4e0e7aa-28f9-4c62-ad0b-1ab9cf0c5458",
   "metadata": {},
   "source": [
    "# if else satatement"
   ]
  },
  {
   "cell_type": "raw",
   "id": "97757228-a8e4-40b1-bcff-46befc1b17d6",
   "metadata": {},
   "source": [
    "write a program to check wether a person is eligible for voting or not"
   ]
  },
  {
   "cell_type": "code",
   "execution_count": 16,
   "id": "746b551e-fba8-49f7-accf-a37a07a1af6e",
   "metadata": {},
   "outputs": [
    {
     "name": "stdin",
     "output_type": "stream",
     "text": [
      "enter your age 20\n"
     ]
    },
    {
     "name": "stdout",
     "output_type": "stream",
     "text": [
      "you are elegible for voting\n"
     ]
    }
   ],
   "source": [
    "age = int(input(\"enter your age\"))\n",
    "\n",
    "if age>18:\n",
    "    print(\"you are elegible for voting\")\n",
    "\n",
    "else:\n",
    "    print(\"you are not elegible for voting\")\n",
    "          "
   ]
  },
  {
   "cell_type": "markdown",
   "id": "a7632a6e-7314-40be-95f0-ae611379346a",
   "metadata": {},
   "source": [
    "# if elif else"
   ]
  },
  {
   "cell_type": "code",
   "execution_count": 19,
   "id": "7f61c3f3-d54a-4916-9e1f-432f676de8f6",
   "metadata": {},
   "outputs": [
    {
     "name": "stdin",
     "output_type": "stream",
     "text": [
      "enter the city Pune\n"
     ]
    },
    {
     "name": "stdout",
     "output_type": "stream",
     "text": [
      "the famous monument is botnical garden\n"
     ]
    }
   ],
   "source": [
    "a = input(\"enter the city\")\n",
    "if a == \"Mumbai\":\n",
    "    print(\"the famous monument is aget way of India\")\n",
    "elif a == \"Kolkata\":\n",
    "    print(\"the famous monument is victoria memorial\")\n",
    "elif a ==(\"Chennai\"):\n",
    "    print(\"the famous monument is marian beach\")\n",
    "elif a == \"Pune\":\n",
    "    print(\"the famous monument is botnical garden\")\n",
    "elif a == \"Banglore\":\n",
    "    print(\"the famous monument is shaniwr vada\")\n",
    "else:\n",
    "    print(\"NOT RECORDED FOUND\")\n",
    "\n",
    "          "
   ]
  },
  {
   "cell_type": "markdown",
   "id": "f16e3456-aa46-4ec3-a1c8-b2ee70f071b1",
   "metadata": {},
   "source": [
    "# Loop in Python"
   ]
  },
  {
   "cell_type": "code",
   "execution_count": 25,
   "id": "b195b34b-9da6-46f5-8c33-39f28e94d914",
   "metadata": {},
   "outputs": [
    {
     "name": "stdout",
     "output_type": "stream",
     "text": [
      "1\n",
      "2\n",
      "3\n",
      "4\n",
      "5\n"
     ]
    }
   ],
   "source": [
    "count = 1 \n",
    "while count<=5:\n",
    "    print(count)\n",
    "    count = count + 1"
   ]
  },
  {
   "cell_type": "markdown",
   "id": "c9e00f65-e365-41bf-b1be-01f9e3257a1a",
   "metadata": {},
   "source": [
    "# Write a Python program to  print all the even number between 1 and 50 a while loop."
   ]
  },
  {
   "cell_type": "code",
   "execution_count": 29,
   "id": "0c79b5ab-4f43-4f1d-b9a9-61e5d2ad3f77",
   "metadata": {},
   "outputs": [
    {
     "name": "stdout",
     "output_type": "stream",
     "text": [
      "2\n",
      "4\n",
      "6\n",
      "8\n",
      "10\n",
      "12\n",
      "14\n",
      "16\n",
      "18\n",
      "20\n",
      "22\n",
      "24\n",
      "26\n",
      "28\n",
      "30\n",
      "32\n",
      "34\n",
      "36\n",
      "38\n",
      "40\n",
      "42\n",
      "44\n",
      "46\n",
      "48\n",
      "50\n"
     ]
    }
   ],
   "source": [
    "num = 1\n",
    "while num<=50:\n",
    "    if num%2==0:\n",
    "        print(num)\n",
    "    num = num + 1\n",
    "    "
   ]
  },
  {
   "cell_type": "code",
   "execution_count": 35,
   "id": "7057e65a-95d8-43af-a1f3-7f5bd9a9de47",
   "metadata": {},
   "outputs": [
    {
     "name": "stdin",
     "output_type": "stream",
     "text": [
      "please enter your mail address harishyam@gmail.con\n"
     ]
    },
    {
     "name": "stdout",
     "output_type": "stream",
     "text": [
      "Email address validation passed.\n"
     ]
    }
   ],
   "source": [
    "email = input(\"please enter your mail address\")\n",
    "valid_email = False\n",
    "#Start the loops \n",
    "# Check if email contains \"@\" and \".\"\n",
    "if \"@\" in email and \".\" in email:\n",
    "    print(\"Email address validation passed.\")\n",
    "    valid_email = True\n",
    "else:\n",
    "    print(\"Invalid email address format. please try again.\")\n",
    "    email =  input(\"please enter your mail address\")"
   ]
  },
  {
   "cell_type": "markdown",
   "id": "05b1f428-e301-497e-b87e-edb53050082b",
   "metadata": {},
   "source": [
    "# For loops"
   ]
  },
  {
   "cell_type": "code",
   "execution_count": 36,
   "id": "9f5bf328-17d0-4753-91bb-42f61a78d9ba",
   "metadata": {},
   "outputs": [
    {
     "name": "stdout",
     "output_type": "stream",
     "text": [
      "1\n",
      "2\n",
      "3\n",
      "4\n",
      "5\n"
     ]
    }
   ],
   "source": [
    "numbers = [1,2,3,4,5]\n",
    "for i in numbers:\n",
    "    print(i)\n"
   ]
  },
  {
   "cell_type": "code",
   "execution_count": 39,
   "id": "3c68f3a7-a94f-4ba9-b042-46d01b7d649d",
   "metadata": {},
   "outputs": [
    {
     "name": "stdout",
     "output_type": "stream",
     "text": [
      "S\n",
      "T\n",
      "U\n",
      "D\n",
      "E\n",
      "N\n",
      "T\n"
     ]
    }
   ],
   "source": [
    "a = \"STUDENT\"\n",
    "for i in a:\n",
    "    print(i)"
   ]
  },
  {
   "cell_type": "code",
   "execution_count": 44,
   "id": "cb06e6e8-97d3-4d97-8556-9d1c043f60fc",
   "metadata": {},
   "outputs": [
    {
     "name": "stdout",
     "output_type": "stream",
     "text": [
      "1\n",
      "2\n",
      "3\n",
      "4\n",
      "5\n",
      "6\n",
      "7\n",
      "8\n",
      "9\n",
      "10\n"
     ]
    }
   ],
   "source": [
    "for i in range(1,11):\n",
    "    print(i)"
   ]
  },
  {
   "cell_type": "markdown",
   "id": "3884a453-9467-4fdf-9c32-696b9590e3f3",
   "metadata": {},
   "source": [
    "# for loops and if condition "
   ]
  },
  {
   "cell_type": "code",
   "execution_count": 46,
   "id": "0675a86c-14fe-4d37-80f7-fbb18c636847",
   "metadata": {},
   "outputs": [
    {
     "name": "stdout",
     "output_type": "stream",
     "text": [
      "the number is even 0\n",
      "the number is even 2\n",
      "the number is even 4\n",
      "the number is even 6\n",
      "the number is even 8\n",
      "the number is even 10\n",
      "the number is even 12\n",
      "the number is even 14\n",
      "the number is even 16\n",
      "the number is even 18\n",
      "the number is even 20\n",
      "the number is even 22\n",
      "the number is even 24\n"
     ]
    }
   ],
   "source": [
    "for i in range (0,26):\n",
    "    if i%2==0:\n",
    "        print(\"the number is even\",(i))"
   ]
  },
  {
   "cell_type": "code",
   "execution_count": 52,
   "id": "a80231b7-7353-4656-b729-ad4c69514522",
   "metadata": {},
   "outputs": [
    {
     "name": "stdout",
     "output_type": "stream",
     "text": [
      "The number is even 0\n",
      "The number is odd 1\n",
      "The number is even 2\n",
      "The number is odd 3\n",
      "The number is even 4\n",
      "The number is odd 5\n",
      "The number is even 6\n",
      "The number is odd 7\n",
      "The number is even 8\n",
      "The number is odd 9\n",
      "The number is even 10\n",
      "The number is odd 11\n",
      "The number is even 12\n",
      "The number is odd 13\n",
      "The number is even 14\n",
      "The number is odd 15\n",
      "The number is even 16\n",
      "The number is odd 17\n",
      "The number is even 18\n",
      "The number is odd 19\n",
      "The number is even 20\n",
      "The number is odd 21\n",
      "The number is even 22\n",
      "The number is odd 23\n",
      "The number is even 24\n",
      "The number is odd 25\n"
     ]
    }
   ],
   "source": [
    "for i in range (0,26):\n",
    "    if i%2==0:\n",
    "        print(\"The number is even\",i)\n",
    "    else:\n",
    "        print(\"The number is odd\",i)"
   ]
  },
  {
   "cell_type": "markdown",
   "id": "ef8a12d6-446f-431c-ba71-7dd88d1a410f",
   "metadata": {},
   "source": [
    "# Implement a python program to generate the multiplication table of the given number"
   ]
  },
  {
   "cell_type": "code",
   "execution_count": 59,
   "id": "b658f676-4f6c-4e4e-9dd3-d621bbbeaea4",
   "metadata": {},
   "outputs": [
    {
     "name": "stdin",
     "output_type": "stream",
     "text": [
      "enter a number to generate its multiplication table 1555\n"
     ]
    },
    {
     "name": "stdout",
     "output_type": "stream",
     "text": [
      "the multiplication table of 1555\n",
      "1555 x 1 = 1555\n",
      "1555 x 2 = 3110\n",
      "1555 x 3 = 4665\n",
      "1555 x 4 = 6220\n",
      "1555 x 5 = 7775\n",
      "1555 x 6 = 9330\n",
      "1555 x 7 = 10885\n",
      "1555 x 8 = 12440\n",
      "1555 x 9 = 13995\n",
      "1555 x 10 = 15550\n"
     ]
    }
   ],
   "source": [
    "number = int(input(\"enter a number to generate its multiplication table\"))\n",
    "print(\"the multiplication table of\",number)\n",
    "\n",
    "for i in range(1,11):\n",
    "    print(f\"{number} x {i} = {number*i}\") # f = formate"
   ]
  },
  {
   "cell_type": "code",
   "execution_count": null,
   "id": "8bf9324a-b6d0-4a15-a2b7-d35076c030ad",
   "metadata": {},
   "outputs": [],
   "source": [
    "num_items =int(input(\"enter the number of items purchase \"))\n",
    "total_price = 0\n",
    "\n",
    "for i in range(num_items):\n",
    "    price = float(input(\"enter the price of the item\"))\n",
    "    total_price = total_price + price\n",
    "    i =i+1\n",
    "if total_price >=100:\n",
    "    discount = 0.1*total_price\n",
    "elif 50<= total_price <100:\n",
    "    discount = 0.5*total_price\n",
    "else:discount = 0\n",
    "    \n",
    "total_bill = total_price - discount\n",
    "print(\"subtotal\",total_bill)\n"
   ]
  },
  {
   "cell_type": "markdown",
   "id": "0d20353b-5961-498a-a684-318603c1420c",
   "metadata": {},
   "source": [
    "# break statement"
   ]
  },
  {
   "cell_type": "code",
   "execution_count": 8,
   "id": "e7422d10-176b-4f1b-ae2e-b49e2a5de8dd",
   "metadata": {},
   "outputs": [
    {
     "name": "stdout",
     "output_type": "stream",
     "text": [
      "0\n",
      "1\n",
      "2\n"
     ]
    }
   ],
   "source": [
    "for i in range(5):\n",
    "    if i==3:\n",
    "        break\n",
    "    print(i)"
   ]
  },
  {
   "cell_type": "markdown",
   "id": "45b3338b-4ea1-4d6f-b013-d14c9ff0acab",
   "metadata": {},
   "source": [
    "# Continue statement "
   ]
  },
  {
   "cell_type": "code",
   "execution_count": 12,
   "id": "cbc19e7f-8e25-4e3f-8a45-6be642778026",
   "metadata": {},
   "outputs": [
    {
     "name": "stdout",
     "output_type": "stream",
     "text": [
      "0\n",
      "1\n",
      "2\n",
      "4\n",
      "i am learning Python\n"
     ]
    }
   ],
   "source": [
    "for i in range(5):\n",
    "    if i==3:\n",
    "        continue\n",
    "    print(i)\n",
    "print(\"i am learning Python\")"
   ]
  },
  {
   "cell_type": "code",
   "execution_count": 14,
   "id": "2f754e04-dba8-4c1b-acf5-21d20a744655",
   "metadata": {},
   "outputs": [
    {
     "name": "stdout",
     "output_type": "stream",
     "text": [
      "2\n",
      "4\n",
      "6\n",
      "8\n",
      "10\n"
     ]
    }
   ],
   "source": [
    "numbers =[1,2,3,4,5]\n",
    "for num in numbers:\n",
    "    print(num*2)"
   ]
  },
  {
   "cell_type": "markdown",
   "id": "42978f1e-ddd7-4597-905a-675835150be3",
   "metadata": {},
   "source": [
    "# Create and calling a function"
   ]
  },
  {
   "cell_type": "code",
   "execution_count": 3,
   "id": "3503b3bd-cad2-42a5-9769-0311b8d0ce24",
   "metadata": {},
   "outputs": [],
   "source": [
    "def my_function():\n",
    "    print(\"hello i am hari\")"
   ]
  },
  {
   "cell_type": "code",
   "execution_count": 4,
   "id": "72f1f809-95b0-4dd7-96e1-2166cef3a8ab",
   "metadata": {},
   "outputs": [
    {
     "name": "stdout",
     "output_type": "stream",
     "text": [
      "hello i am hari\n"
     ]
    }
   ],
   "source": [
    "my_function()"
   ]
  },
  {
   "cell_type": "raw",
   "id": "ec8abcbf-88e5-47ff-a0a8-d7c81242b75e",
   "metadata": {},
   "source": [
    " Write a user define function to process the exam score and calculate \n",
    "the following statistics:\n",
    "The average exam score,\n",
    "The highest exam score,\n",
    "The lowest of student who passes the exam (assuming apassing score is 80 or above).\n",
    "\n",
    "    exam_score = [85,92,78,90,88,95,82,79,87,91]\n"
   ]
  },
  {
   "cell_type": "raw",
   "id": "3331fb4f-d0f7-4d42-af74-bbecaa416f98",
   "metadata": {},
   "source": [
    "def calculate_exam_statistics(exam_scores):\n",
    "\n",
    "    num_students = len(exam_scores)\n",
    "    average_score = sum(exam_scores)/num_students\n",
    "    highest_score = max(exam_scores)\n",
    "    lowest_score = min(exam_scores)\n",
    "\n",
    "\n",
    "    num_passed = 0\n",
    "    for score in exam_scores:\n",
    "        if score>=80:\n",
    "            num_passed = num_passed+1\n",
    "        num_failed = num_students - num_passed\n",
    "\n",
    "        return average_score, highest_score, lowest_score, num_passed, num_failed\n",
    "        "
   ]
  },
  {
   "cell_type": "code",
   "execution_count": 58,
   "id": "d45b21bf-2263-46a9-a11f-d72c5943883d",
   "metadata": {},
   "outputs": [
    {
     "name": "stdout",
     "output_type": "stream",
     "text": [
      "The average score is  86.7\n",
      "The highest score is  95\n",
      "The lowest score is  78\n",
      "The number of student passed is  1\n",
      "The number of student failed is  9\n"
     ]
    }
   ],
   "source": [
    "exam_scores = [85,92,78,90,88,95,82,79,87,91]\n",
    "\n",
    "average_score, highest_score, lowest_score, num_passed, num_failed = calculate_exam_statistics(exam_scores)\n",
    "print(\"The average score is \", average_score)\n",
    "print(\"The highest score is \", highest_score)\n",
    "print(\"The lowest score is \", lowest_score)\n",
    "print(\"The number of student passed is \",num_passed)\n",
    "print(\"The number of student failed is \",num_failed) "
   ]
  },
  {
   "cell_type": "raw",
   "id": "028c1a98-84c5-4d8e-9989-43b85ceab79a",
   "metadata": {},
   "source": [
    "Question 1"
   ]
  },
  {
   "cell_type": "code",
   "execution_count": 70,
   "id": "e3d5db0d-3d08-4032-8912-735585d250b1",
   "metadata": {},
   "outputs": [],
   "source": [
    "def grade_distribution(grades):\n",
    "\n",
    "    for grade in grades:\n",
    "        if 90<= grade <=100:\n",
    "            print(\"you have got A grade\")\n",
    "        elif 80<= grade <=89:\n",
    "            print(\"you have got B grade\")\n",
    "        elif 70<= grade <=79:\n",
    "            print(\"you have got C grade\")\n",
    "        elif 60<= grade <=69:\n",
    "            print(\"you have got D grade\")\n",
    "        else:\n",
    "            print(\"you have got E grade\")\n",
    "    return\n",
    "                    "
   ]
  },
  {
   "cell_type": "code",
   "execution_count": 71,
   "id": "4efbcb1d-6571-4008-b740-4d100d827751",
   "metadata": {},
   "outputs": [
    {
     "name": "stdout",
     "output_type": "stream",
     "text": [
      "you have got A grade\n",
      "you have got C grade\n",
      "you have got E grade\n",
      "you have got C grade\n",
      "you have got B grade\n",
      "you have got A grade\n",
      "you have got B grade\n",
      "you have got B grade\n",
      "you have got A grade\n",
      "you have got C grade\n"
     ]
    }
   ],
   "source": [
    "grades = [92,78,46,73,85,95,87,83,96,79]\n",
    "grade_distribution(grades)"
   ]
  },
  {
   "cell_type": "markdown",
   "id": "dfa9038b-86b2-4001-ae34-2137d7418ccb",
   "metadata": {},
   "source": [
    "# Guessing game "
   ]
  },
  {
   "cell_type": "code",
   "execution_count": 1,
   "id": "ccd501a0-bd1d-43c7-9a6d-305cf1f40103",
   "metadata": {},
   "outputs": [],
   "source": [
    "import random\n",
    "def number_guessing_game():\n",
    "    secret_number = random.randint(1,100)\n",
    "    print (secret_number)\n",
    "    \n",
    "    print (\"Welcome to the number guessuing game\")\n",
    "    print (\"i have choosen the number between 1 to 100: Can you guess it?\")\n",
    "\n",
    "    attempts = 0\n",
    "    guess = None\n",
    "\n",
    "    while guess != secret_number:\n",
    "        \n",
    "        guess = int(input(\"Enter your guess\"))\n",
    "        attempts = attempts + 1\n",
    "\n",
    "        \n",
    "        if guess < secret_number:\n",
    "            print(\"Too low, try again\")\n",
    "        elif guess > secret_number:\n",
    "            print(\"Too high, try again\")\n",
    "        else:\n",
    "            print(\"Congratulation, you guessed the correct number\")\n",
    "            print(\"The number of attempt in guessing the correct number is\",attempts)\n",
    "    "
   ]
  },
  {
   "cell_type": "code",
   "execution_count": 28,
   "id": "b1d1b8a9-5dbe-484f-b8d4-8ae9c819a9e2",
   "metadata": {},
   "outputs": [
    {
     "name": "stdout",
     "output_type": "stream",
     "text": [
      "49\n",
      "Welcome to the number guessuing game\n",
      "i have choosen the number between 1 to 100: Can you guess it?\n"
     ]
    },
    {
     "name": "stdin",
     "output_type": "stream",
     "text": [
      "Enter your guess 85\n"
     ]
    },
    {
     "name": "stdout",
     "output_type": "stream",
     "text": [
      "Too high, try again\n"
     ]
    },
    {
     "name": "stdin",
     "output_type": "stream",
     "text": [
      "Enter your guess 44\n"
     ]
    },
    {
     "name": "stdout",
     "output_type": "stream",
     "text": [
      "Too low, try again\n"
     ]
    },
    {
     "name": "stdin",
     "output_type": "stream",
     "text": [
      "Enter your guess 49\n"
     ]
    },
    {
     "name": "stdout",
     "output_type": "stream",
     "text": [
      "Congratulation, you guessed the correct number\n",
      "The number of attempt in guessing the correct number is 3\n"
     ]
    }
   ],
   "source": [
    "number_guessing_game()"
   ]
  },
  {
   "cell_type": "code",
   "execution_count": 8,
   "id": "1b811bf9-6abe-408c-8b77-082933db84c8",
   "metadata": {},
   "outputs": [
    {
     "name": "stdout",
     "output_type": "stream",
     "text": [
      "hello\n",
      "hello\n",
      "hello\n",
      "hello\n",
      "hello\n"
     ]
    }
   ],
   "source": [
    "count = 0\n",
    "while count <5:\n",
    "    print(\"hello\")\n",
    "    count += 1"
   ]
  },
  {
   "cell_type": "code",
   "execution_count": null,
   "id": "892f77c3-ba08-4a3b-9470-bfa9d4dae807",
   "metadata": {},
   "outputs": [],
   "source": []
  },
  {
   "cell_type": "markdown",
   "id": "1be6d851-cb7d-44ee-b665-77a7efefc54f",
   "metadata": {},
   "source": [
    "# Indexing of strings"
   ]
  },
  {
   "cell_type": "markdown",
   "id": "1b6ada79-a660-46e8-854d-390f247be7dc",
   "metadata": {},
   "source": [
    "# Multiline strings"
   ]
  },
  {
   "cell_type": "code",
   "execution_count": 10,
   "id": "a317d207-0627-43e6-bf90-08af4ef11cc1",
   "metadata": {},
   "outputs": [
    {
     "name": "stdout",
     "output_type": "stream",
     "text": [
      "SkillsBuild will help you achieve your employment goals.\n",
      "We accelerate your time to a new career through education \n",
      "and building applicable experience. Your first step is a personal\n",
      "assessment of capabilities and personality. SkillsBuild then recommends\n",
      "role-based technical and professional education for specific jobs.\n",
      "You will have the opportunity to earn digital badges, apply your new\n",
      "skills to real projects, and build up a personal portfolio. \n",
      "SkillsBuild also helps businesses and support organizations form a new, sustainable\n",
      "hiring ecosystem. \n"
     ]
    }
   ],
   "source": [
    "a =\"\"\"SkillsBuild will help you achieve your employment goals.\n",
    "We accelerate your time to a new career through education \n",
    "and building applicable experience. Your first step is a personal\n",
    "assessment of capabilities and personality. SkillsBuild then recommends\n",
    "role-based technical and professional education for specific jobs.\n",
    "You will have the opportunity to earn digital badges, apply your new\n",
    "skills to real projects, and build up a personal portfolio. \n",
    "SkillsBuild also helps businesses and support organizations form a new, sustainable\n",
    "hiring ecosystem. \"\"\"\n",
    "print (a)"
   ]
  },
  {
   "cell_type": "code",
   "execution_count": 15,
   "id": "ad77781e-99a0-4ce5-8ea4-3abb4b7e4514",
   "metadata": {},
   "outputs": [
    {
     "name": "stdout",
     "output_type": "stream",
     "text": [
      "l\n",
      "o\n",
      "l\n",
      " \n",
      "r\n",
      "c\n"
     ]
    }
   ],
   "source": [
    "a = \"Hello dear teachers\"\n",
    "print(a[2])\n",
    "print(a[4])\n",
    "print(a[3])\n",
    "print(a[5])\n",
    "print(a[9])\n",
    "print(a[14])  # Posssitive indexing"
   ]
  },
  {
   "cell_type": "code",
   "execution_count": 16,
   "id": "0ba0b2a8-b770-4857-835a-40d0b09b5249",
   "metadata": {},
   "outputs": [
    {
     "name": "stdout",
     "output_type": "stream",
     "text": [
      "r\n",
      "h\n",
      "e\n",
      "c\n",
      " \n",
      " \n"
     ]
    }
   ],
   "source": [
    "a = \"Hello dear teachers\"\n",
    "print(a[-2])\n",
    "print(a[-4])\n",
    "print(a[-3])\n",
    "print(a[-5])\n",
    "print(a[-9])\n",
    "print(a[-14]) # Negative indexing"
   ]
  },
  {
   "cell_type": "markdown",
   "id": "c9b69f83-94f3-4c0b-848f-c834016facc4",
   "metadata": {},
   "source": [
    "# Slicing"
   ]
  },
  {
   "cell_type": "code",
   "execution_count": 19,
   "id": "085057f3-bee4-4041-8224-cb323310ca86",
   "metadata": {},
   "outputs": [
    {
     "name": "stdout",
     "output_type": "stream",
     "text": [
      "i am \n"
     ]
    }
   ],
   "source": [
    "a = \"i am learning python\"\n",
    "print(a[0:5])"
   ]
  },
  {
   "cell_type": "code",
   "execution_count": 20,
   "id": "722dc034-2ab6-46e2-a80f-5a60391ad2d0",
   "metadata": {},
   "outputs": [
    {
     "name": "stdout",
     "output_type": "stream",
     "text": [
      "i am learn\n"
     ]
    }
   ],
   "source": [
    "a = \"i am learning python\"\n",
    "print(a[0:10])"
   ]
  },
  {
   "cell_type": "code",
   "execution_count": 21,
   "id": "60d419a4-2ac2-4cd4-912a-e5f50744e5bd",
   "metadata": {},
   "outputs": [
    {
     "name": "stdout",
     "output_type": "stream",
     "text": [
      "i am learning python\n"
     ]
    }
   ],
   "source": [
    "a = \"i am learning python\"\n",
    "print(a[:])"
   ]
  },
  {
   "cell_type": "markdown",
   "id": "8dc0eb7c-4afe-43fc-a503-6190919ae6db",
   "metadata": {},
   "source": [
    "# Slicing with jump"
   ]
  },
  {
   "cell_type": "code",
   "execution_count": 22,
   "id": "801b382b-fabd-4060-9eae-03a1acf3fa62",
   "metadata": {},
   "outputs": [
    {
     "name": "stdout",
     "output_type": "stream",
     "text": [
      "ia er\n"
     ]
    }
   ],
   "source": [
    "a = \"i am learning python\"\n",
    "print(a[0:10:2])"
   ]
  },
  {
   "cell_type": "code",
   "execution_count": 23,
   "id": "8fc9a1f3-bcee-4e14-9dce-4ace1d2e7737",
   "metadata": {},
   "outputs": [
    {
     "name": "stdout",
     "output_type": "stream",
     "text": [
      "imeng\n"
     ]
    }
   ],
   "source": [
    "a = \"i am learning python\"\n",
    "print(a[0:15:3])"
   ]
  },
  {
   "cell_type": "code",
   "execution_count": 24,
   "id": "f72c17a9-1bb7-4171-9660-18f2cd4e07c0",
   "metadata": {},
   "outputs": [
    {
     "name": "stdout",
     "output_type": "stream",
     "text": [
      "iliy\n"
     ]
    }
   ],
   "source": [
    "a = \"i am learning python\"\n",
    "print(a[::5])"
   ]
  },
  {
   "cell_type": "markdown",
   "id": "ed480970-d583-4d16-a74c-be5566e20ca7",
   "metadata": {},
   "source": [
    "# Negative slicing"
   ]
  },
  {
   "cell_type": "code",
   "execution_count": 25,
   "id": "939d8642-3eec-4bb2-8f48-362237bd460e",
   "metadata": {},
   "outputs": [
    {
     "name": "stdout",
     "output_type": "stream",
     "text": [
      "pytho\n"
     ]
    }
   ],
   "source": [
    "a = \"i am learning python\"\n",
    "print(a[-6:-1])"
   ]
  },
  {
   "cell_type": "code",
   "execution_count": 26,
   "id": "7581e288-db29-48c2-8aa9-fc9509cdfd7d",
   "metadata": {},
   "outputs": [
    {
     "name": "stdout",
     "output_type": "stream",
     "text": [
      " learning python\n"
     ]
    }
   ],
   "source": [
    "a = \"i am learning python\"\n",
    "print(a[-16:])"
   ]
  },
  {
   "cell_type": "code",
   "execution_count": 27,
   "id": "28ce6924-1b21-4fa7-b14a-ee93cbd16dc2",
   "metadata": {},
   "outputs": [
    {
     "name": "stdout",
     "output_type": "stream",
     "text": [
      "a erigpto\n"
     ]
    }
   ],
   "source": [
    "a = \"i am learning python\"\n",
    "print(a[-18:-1:2])"
   ]
  },
  {
   "cell_type": "markdown",
   "id": "cb12e3a7-da2a-454a-8170-b8abe53a30f2",
   "metadata": {},
   "source": [
    "# Practice question"
   ]
  },
  {
   "cell_type": "code",
   "execution_count": 29,
   "id": "d60fe3bd-df9e-42f6-a09b-ddde2bb3071f",
   "metadata": {},
   "outputs": [],
   "source": [
    "def extract_date_parts (date_string):\n",
    "    year = int(date_string[0:4])\n",
    "    month = int(date_string[5:7])\n",
    "    day =int(date_string[8:])\n",
    "    return (year, month, day)"
   ]
  },
  {
   "cell_type": "code",
   "execution_count": 30,
   "id": "54d1edd1-e3e6-4695-bb54-6f5fad94cc85",
   "metadata": {},
   "outputs": [
    {
     "data": {
      "text/plain": [
       "(2024, 5, 28)"
      ]
     },
     "execution_count": 30,
     "metadata": {},
     "output_type": "execute_result"
    }
   ],
   "source": [
    "extract_date_parts(\"2024-05-28\")"
   ]
  },
  {
   "cell_type": "code",
   "execution_count": 32,
   "id": "c43987cc-4327-4198-9901-d00fb7652bfc",
   "metadata": {},
   "outputs": [
    {
     "data": {
      "text/plain": [
       "(2032, 10, 15)"
      ]
     },
     "execution_count": 32,
     "metadata": {},
     "output_type": "execute_result"
    }
   ],
   "source": [
    "extract_date_parts(\"2032-10-15\")"
   ]
  },
  {
   "cell_type": "raw",
   "id": "aeca1ebb-0c1d-45f1-9306-d3f519e726e3",
   "metadata": {},
   "source": [
    "Q. Write a python program to reverse the string \"Honesty is the best policy\""
   ]
  },
  {
   "cell_type": "code",
   "execution_count": 34,
   "id": "036b24df-c368-4d08-bf1c-eca1145de85c",
   "metadata": {},
   "outputs": [
    {
     "name": "stdout",
     "output_type": "stream",
     "text": [
      "ycilop tseb eht si ytsenoh\n"
     ]
    }
   ],
   "source": [
    "str = \"honesty is the best policy\"\n",
    "print(str[::-1])"
   ]
  },
  {
   "cell_type": "code",
   "execution_count": 35,
   "id": "0689a1c0-daae-4a38-8e73-77dec8678e81",
   "metadata": {},
   "outputs": [
    {
     "name": "stdout",
     "output_type": "stream",
     "text": [
      "P\n"
     ]
    }
   ],
   "source": [
    "a = \"Programming\"\n",
    "print(a[0])"
   ]
  },
  {
   "cell_type": "code",
   "execution_count": 38,
   "id": "25f3c6ac-f351-4fbf-9804-20712b5fe2e8",
   "metadata": {},
   "outputs": [
    {
     "name": "stdout",
     "output_type": "stream",
     "text": [
      "Artifi\n"
     ]
    }
   ],
   "source": [
    "s = \"Artificial\"\n",
    "print(s[:-4])"
   ]
  },
  {
   "cell_type": "markdown",
   "id": "3d57153a-5766-4f8c-a202-c3d85276ab70",
   "metadata": {},
   "source": [
    "# String - part 2"
   ]
  },
  {
   "cell_type": "code",
   "execution_count": 2,
   "id": "dcad1af7-d734-4df7-af3f-ff8bf9ddb6d2",
   "metadata": {},
   "outputs": [
    {
     "name": "stdout",
     "output_type": "stream",
     "text": [
      "9\n"
     ]
    }
   ],
   "source": [
    "s = \"theiscale\"\n",
    "print(len(s))"
   ]
  },
  {
   "cell_type": "code",
   "execution_count": 3,
   "id": "96896cd4-c779-4ebe-9dde-896f6c000e25",
   "metadata": {},
   "outputs": [
    {
     "name": "stdout",
     "output_type": "stream",
     "text": [
      "10\n"
     ]
    }
   ],
   "source": [
    "s = 'the iscale'\n",
    "print(len(s))"
   ]
  },
  {
   "cell_type": "code",
   "execution_count": 4,
   "id": "c64ce1ac-101a-4aab-95f4-ae3091c68523",
   "metadata": {},
   "outputs": [
    {
     "name": "stdout",
     "output_type": "stream",
     "text": [
      "0\n"
     ]
    }
   ],
   "source": [
    "s = ''\n",
    "print(len(s))"
   ]
  },
  {
   "cell_type": "code",
   "execution_count": 5,
   "id": "50675b13-6d1d-4ec4-9b7b-dfdd092982f8",
   "metadata": {},
   "outputs": [
    {
     "name": "stdout",
     "output_type": "stream",
     "text": [
      "1\n"
     ]
    }
   ],
   "source": [
    "s = ' '\n",
    "print(len(s))"
   ]
  },
  {
   "cell_type": "code",
   "execution_count": 6,
   "id": "06d07b37-7276-475f-be47-dec6ea83598e",
   "metadata": {},
   "outputs": [
    {
     "name": "stdout",
     "output_type": "stream",
     "text": [
      "hello/world\n",
      "11\n"
     ]
    }
   ],
   "source": [
    "s = \"hello/world\"\n",
    "print(s)\n",
    "print(len(s))"
   ]
  },
  {
   "cell_type": "code",
   "execution_count": 7,
   "id": "b9ecfdd8-9870-4ae3-93ac-7bc7e56cefcc",
   "metadata": {},
   "outputs": [
    {
     "name": "stdout",
     "output_type": "stream",
     "text": [
      "hello@world\n",
      "11\n"
     ]
    }
   ],
   "source": [
    "s = \"hello@world\"\n",
    "print(s)\n",
    "print(len(s))"
   ]
  },
  {
   "cell_type": "markdown",
   "id": "c3ffd1ad-d4bc-4f58-9f8e-4552bb6ace26",
   "metadata": {},
   "source": [
    "# python modify string\n",
    "# uppper method"
   ]
  },
  {
   "cell_type": "code",
   "execution_count": 1,
   "id": "788d4385-a7a8-42f6-bfcc-daba67b8c6bb",
   "metadata": {},
   "outputs": [
    {
     "name": "stdout",
     "output_type": "stream",
     "text": [
      "THIS IS THE ISCALE\n"
     ]
    }
   ],
   "source": [
    "s = \"this is the iscale\"\n",
    "print(s.upper())"
   ]
  },
  {
   "cell_type": "code",
   "execution_count": 2,
   "id": "aa1cde85-0a5f-4690-b629-fce8b338f89f",
   "metadata": {},
   "outputs": [
    {
     "name": "stdout",
     "output_type": "stream",
     "text": [
      "HII HARISHYAM I AM JUPYTER NOTEBOOK\n"
     ]
    }
   ],
   "source": [
    "A = \"hii HARISHYAM i am jupyter notebook\"\n",
    "print(A.upper())"
   ]
  },
  {
   "cell_type": "code",
   "execution_count": 3,
   "id": "7dc8440f-9f5b-45f5-9251-080a9ae4f58c",
   "metadata": {},
   "outputs": [
    {
     "name": "stdout",
     "output_type": "stream",
     "text": [
      "HII HARISHYAM I AM JUPYTER NOTEBOOK VERSION 18.789\n"
     ]
    }
   ],
   "source": [
    "A = \"hii HARISHYAM i am jupyter notebook version 18.789\"\n",
    "print(A.upper())"
   ]
  },
  {
   "cell_type": "code",
   "execution_count": 4,
   "id": "aafc9043-025b-4ba9-a259-df1b588b9f0b",
   "metadata": {},
   "outputs": [
    {
     "name": "stdout",
     "output_type": "stream",
     "text": [
      "hii harishyam i am jupyter notebook version\n"
     ]
    }
   ],
   "source": [
    "a = \"HII HARISHYAM I AM JUPYTER NOTEBOOK VERSION\"\n",
    "print(a.lower())"
   ]
  },
  {
   "cell_type": "markdown",
   "id": "f3d168a9-9d97-4279-a524-00a202ca7b78",
   "metadata": {},
   "source": [
    "# String concatenation"
   ]
  },
  {
   "cell_type": "code",
   "execution_count": 5,
   "id": "8e35d50f-2b07-4154-ae12-7cf12fa617cb",
   "metadata": {},
   "outputs": [
    {
     "name": "stdout",
     "output_type": "stream",
     "text": [
      "helloworld\n"
     ]
    }
   ],
   "source": [
    "a = \"hello\"\n",
    "b = \"world\"\n",
    "print(a + b)"
   ]
  },
  {
   "cell_type": "code",
   "execution_count": 6,
   "id": "46f899f2-1ffe-43fb-b1f5-e25ea2414b16",
   "metadata": {},
   "outputs": [
    {
     "name": "stdout",
     "output_type": "stream",
     "text": [
      "hello world\n"
     ]
    }
   ],
   "source": [
    "a = \"hello\"\n",
    "b = \"world\"\n",
    "print(a +\" \"+ b)"
   ]
  },
  {
   "cell_type": "code",
   "execution_count": 7,
   "id": "bf2f50ee-b794-4aee-928b-b919e9d79577",
   "metadata": {},
   "outputs": [
    {
     "name": "stdout",
     "output_type": "stream",
     "text": [
      "datadatadatadata\n"
     ]
    }
   ],
   "source": [
    "a = \"data\"\n",
    "print(a*4)"
   ]
  },
  {
   "cell_type": "markdown",
   "id": "aa766317-f46d-4cbe-bacd-d115f92b3bec",
   "metadata": {},
   "source": [
    "# Replace method"
   ]
  },
  {
   "cell_type": "code",
   "execution_count": 10,
   "id": "096997f3-f8cf-419f-b658-6deb0431fc1b",
   "metadata": {},
   "outputs": [
    {
     "name": "stdout",
     "output_type": "stream",
     "text": [
      "Hello world, i am learning data Analysis\n"
     ]
    }
   ],
   "source": [
    "text = \"Hello world, i am learning python\"\n",
    "rep = text.replace(\"python\", \"data Analysis\")\n",
    "print(rep)"
   ]
  },
  {
   "cell_type": "code",
   "execution_count": 11,
   "id": "b71973bd-a4c3-4de8-a903-26203ae8d349",
   "metadata": {},
   "outputs": [
    {
     "name": "stdout",
     "output_type": "stream",
     "text": [
      "The Modi of India (Bhārata Sarakāra,\n",
      "legally the Union Modi or the Union of India[2] or the Central Modi)\n",
      "is the national authority of the Republic of India, located in South Asia,\n"
     ]
    }
   ],
   "source": [
    "a = \"\"\"The Government of India (Bhārata Sarakāra,\n",
    "legally the Union Government or the Union of India[2] or the Central Government)\n",
    "is the national authority of the Republic of India, located in South Asia,\"\"\"\n",
    "p = a.replace(\"Government\",\"Modi\")\n",
    "print(p)"
   ]
  },
  {
   "cell_type": "markdown",
   "id": "f770607c-5a8e-4a18-a3d7-19db366e042d",
   "metadata": {},
   "source": [
    "# index method"
   ]
  },
  {
   "cell_type": "code",
   "execution_count": 12,
   "id": "9dadaf40-ff5e-4241-84b1-876e09555263",
   "metadata": {},
   "outputs": [
    {
     "name": "stdout",
     "output_type": "stream",
     "text": [
      "7\n"
     ]
    }
   ],
   "source": [
    "a = \"i want to learn\"\n",
    "print(a.index(\"to\"))"
   ]
  },
  {
   "cell_type": "code",
   "execution_count": 20,
   "id": "571b1d54-7ed5-4d5e-882f-1ad5c3a523ee",
   "metadata": {},
   "outputs": [
    {
     "name": "stdout",
     "output_type": "stream",
     "text": [
      "97\n"
     ]
    }
   ],
   "source": [
    "a = \"\"\"The Government of India (Bhārata Sarakāra)The Government of India (Bhārata Sarakāra,\n",
    "legally the Union Government or the Union of India\"\"\"\n",
    "print(a.index(\"Union\"))"
   ]
  },
  {
   "cell_type": "markdown",
   "id": "c3390b9d-07aa-4c34-a833-e835e53a6d2b",
   "metadata": {},
   "source": [
    "# Find method"
   ]
  },
  {
   "cell_type": "code",
   "execution_count": 21,
   "id": "54bbdb22-87a3-4961-a085-6f0bbc98e269",
   "metadata": {},
   "outputs": [
    {
     "name": "stdout",
     "output_type": "stream",
     "text": [
      "10\n"
     ]
    }
   ],
   "source": [
    "a = \"python is great\"\n",
    "b = a.find(\"g\")\n",
    "print(b)"
   ]
  },
  {
   "cell_type": "code",
   "execution_count": 1,
   "id": "a6f390f4-f682-4bfd-90aa-7e0db9e3de5c",
   "metadata": {},
   "outputs": [
    {
     "name": "stdout",
     "output_type": "stream",
     "text": [
      "['a', 'b', 'c']\n",
      "<class 'list'>\n"
     ]
    }
   ],
   "source": [
    "mylist = [\"a\", \"b\", \"c\"]\n",
    "print(mylist)\n",
    "print(type(mylist))"
   ]
  },
  {
   "cell_type": "code",
   "execution_count": 23,
   "id": "8f2c1a4f-aef6-439c-833d-89ed0f1070e8",
   "metadata": {},
   "outputs": [
    {
     "name": "stdout",
     "output_type": "stream",
     "text": [
      "helloworld\n",
      "10\n",
      "world\n",
      "dlrow\n",
      "DLROW\n",
      "DXROW\n"
     ]
    }
   ],
   "source": [
    "concatenate_string =\"hello\"+\"world\"\n",
    "length = len(concatenate_string)\n",
    "subscripting = concatenate_string[5:]\n",
    "reverse = subscripting[::-1]\n",
    "Upper = reverse.upper()\n",
    "modify = Upper.replace(\"L\",\"X\")\n",
    "\n",
    "print(concatenate_string)\n",
    "print(length)\n",
    "print(subscripting)\n",
    "print(reverse)\n",
    "print(Upper)\n",
    "print(modify)\n"
   ]
  },
  {
   "cell_type": "markdown",
   "id": "5dc23377-bf1b-4a8a-a68f-a9423fa7cc7e",
   "metadata": {},
   "source": [
    "# 1. Ordered"
   ]
  },
  {
   "cell_type": "code",
   "execution_count": 3,
   "id": "d4521609-368d-4dbd-96a4-41b3fb15562e",
   "metadata": {},
   "outputs": [
    {
     "name": "stdout",
     "output_type": "stream",
     "text": [
      "mango\n"
     ]
    }
   ],
   "source": [
    "fruits = [\"mango\",\"orange\",\"cherry\"]\n",
    "print(fruits[0])"
   ]
  },
  {
   "cell_type": "code",
   "execution_count": 4,
   "id": "fdc362f6-57f7-4bef-afce-7ca1672ef603",
   "metadata": {},
   "outputs": [
    {
     "name": "stdout",
     "output_type": "stream",
     "text": [
      "orange\n"
     ]
    }
   ],
   "source": [
    "fruits = [\"mango\",\"orange\",\"cherry\"]\n",
    "print(fruits[1])"
   ]
  },
  {
   "cell_type": "markdown",
   "id": "f951d771-e789-489f-afc4-b0a923700c25",
   "metadata": {},
   "source": [
    "# 2. Hetrogeneous"
   ]
  },
  {
   "cell_type": "code",
   "execution_count": 6,
   "id": "72a637e1-57f1-4726-83e8-ee0e1b552399",
   "metadata": {},
   "outputs": [
    {
     "name": "stdout",
     "output_type": "stream",
     "text": [
      "3.14\n"
     ]
    }
   ],
   "source": [
    "mixed_list = [1,\"hello\",3.14,[1,2,3]]\n",
    "print(mixed_list[2])"
   ]
  },
  {
   "cell_type": "markdown",
   "id": "d42e5459-94b9-4e1d-a868-21eb955f3d30",
   "metadata": {},
   "source": [
    "# Indexed"
   ]
  },
  {
   "cell_type": "code",
   "execution_count": 7,
   "id": "8552bd78-7a4c-4406-b2a5-bd45a6e33f6e",
   "metadata": {},
   "outputs": [
    {
     "name": "stdout",
     "output_type": "stream",
     "text": [
      "cat\n"
     ]
    }
   ],
   "source": [
    "animals = ['cat','dog','birds','fish']\n",
    "print(animals[0])"
   ]
  },
  {
   "cell_type": "code",
   "execution_count": 8,
   "id": "0a8539f2-9dce-413c-a69a-01ccceae22a9",
   "metadata": {},
   "outputs": [
    {
     "name": "stdout",
     "output_type": "stream",
     "text": [
      "birds\n"
     ]
    }
   ],
   "source": [
    "animals = ['cat','dog','birds','fish']\n",
    "print(animals[-2])"
   ]
  },
  {
   "cell_type": "code",
   "execution_count": 9,
   "id": "b8768415-da6b-4b32-80a6-7991d7d5d4df",
   "metadata": {},
   "outputs": [
    {
     "name": "stdout",
     "output_type": "stream",
     "text": [
      "['cat']\n"
     ]
    }
   ],
   "source": [
    "animals = ['cat','dog','birds','fish']\n",
    "print(animals[:1])"
   ]
  },
  {
   "cell_type": "code",
   "execution_count": 10,
   "id": "6687c6b2-1166-49a8-bb8e-ac1709b01408",
   "metadata": {},
   "outputs": [
    {
     "name": "stdout",
     "output_type": "stream",
     "text": [
      "['cat', 'dog', 'birds', 'fish']\n"
     ]
    }
   ],
   "source": [
    "animals = ['cat','dog','birds','fish']\n",
    "print(animals[:])"
   ]
  },
  {
   "cell_type": "code",
   "execution_count": 11,
   "id": "c280a84b-98dd-435d-bb1a-90ff6ff8a3af",
   "metadata": {},
   "outputs": [
    {
     "name": "stdout",
     "output_type": "stream",
     "text": [
      "['fish', 'birds', 'dog', 'cat']\n"
     ]
    }
   ],
   "source": [
    "animals = ['cat','dog','birds','fish']\n",
    "print(animals[::-1])"
   ]
  },
  {
   "cell_type": "markdown",
   "id": "ede4fb41-ce29-4afd-b3bc-f9d06c6c2770",
   "metadata": {},
   "source": [
    "# Slicing"
   ]
  },
  {
   "cell_type": "code",
   "execution_count": 15,
   "id": "f2b53168-d957-4fe6-b822-2638349d9654",
   "metadata": {},
   "outputs": [
    {
     "name": "stdout",
     "output_type": "stream",
     "text": [
      "[10, 11, 12, 13, 14]\n"
     ]
    }
   ],
   "source": [
    "numbers = [ 10,11,12,13,14,15,16]\n",
    "print(numbers[:5]) "
   ]
  },
  {
   "cell_type": "code",
   "execution_count": 16,
   "id": "da645d87-2146-4298-b290-a20deea0d8eb",
   "metadata": {},
   "outputs": [
    {
     "name": "stdout",
     "output_type": "stream",
     "text": [
      "[10, 11, 12, 13, 14, 15, 16]\n"
     ]
    }
   ],
   "source": [
    "numbers = [ 10,11,12,13,14,15,16]\n",
    "print(numbers[:])"
   ]
  },
  {
   "cell_type": "code",
   "execution_count": 17,
   "id": "d7112af4-e0f9-4697-93a7-262a62730aba",
   "metadata": {},
   "outputs": [
    {
     "name": "stdout",
     "output_type": "stream",
     "text": [
      "[10, 11, 12, 13]\n"
     ]
    }
   ],
   "source": [
    "numbers = [ 10,11,12,13,14,15,16]\n",
    "print(numbers[:4])"
   ]
  },
  {
   "cell_type": "markdown",
   "id": "0757ebab-62c0-4ba7-92a0-52be294437cc",
   "metadata": {},
   "source": [
    "# Omiting slicing"
   ]
  },
  {
   "cell_type": "code",
   "execution_count": 18,
   "id": "34070012-9c33-42e1-8aea-7610f1970054",
   "metadata": {},
   "outputs": [
    {
     "name": "stdout",
     "output_type": "stream",
     "text": [
      "[10, 11, 12, 13, 14]\n"
     ]
    }
   ],
   "source": [
    "numbers = [ 10,11,12,13,14,15,16]\n",
    "print(numbers[:5])"
   ]
  },
  {
   "cell_type": "markdown",
   "id": "83bdb341-1793-4f4d-b7c7-fc93697ff85e",
   "metadata": {},
   "source": [
    "# Negative indexing"
   ]
  },
  {
   "cell_type": "code",
   "execution_count": 19,
   "id": "a09cec03-7c24-4c53-8ea7-5d17879d0564",
   "metadata": {},
   "outputs": [
    {
     "name": "stdout",
     "output_type": "stream",
     "text": [
      "[12, 13, 14, 15, 16]\n"
     ]
    }
   ],
   "source": [
    "numbers = [ 10,11,12,13,14,15,16]\n",
    "print(numbers[-5:])"
   ]
  },
  {
   "cell_type": "code",
   "execution_count": 20,
   "id": "c1977c4b-0cac-4066-8c3b-b158b65e97d1",
   "metadata": {},
   "outputs": [
    {
     "name": "stdout",
     "output_type": "stream",
     "text": [
      "[15, 16]\n"
     ]
    }
   ],
   "source": [
    "numbers = [ 10,11,12,13,14,15,16]\n",
    "print(numbers[-2:])"
   ]
  },
  {
   "cell_type": "markdown",
   "id": "b1c1d162-e9d2-452d-b880-1bdc5b089a28",
   "metadata": {},
   "source": [
    "# indexing with steps"
   ]
  },
  {
   "cell_type": "code",
   "execution_count": 21,
   "id": "de6144f4-27d8-4099-a21c-ba447d9375c0",
   "metadata": {},
   "outputs": [
    {
     "name": "stdout",
     "output_type": "stream",
     "text": [
      "[10, 12, 14, 16]\n"
     ]
    }
   ],
   "source": [
    "numbers = [ 10,11,12,13,14,15,16]\n",
    "print(numbers[::2])"
   ]
  },
  {
   "cell_type": "code",
   "execution_count": 22,
   "id": "b4bb89dd-f71c-4968-9018-1723f29f9b85",
   "metadata": {},
   "outputs": [
    {
     "name": "stdout",
     "output_type": "stream",
     "text": [
      "[10, 14]\n"
     ]
    }
   ],
   "source": [
    "numbers = [ 10,11,12,13,14,15,16]\n",
    "print(numbers[::4])"
   ]
  },
  {
   "cell_type": "raw",
   "id": "59774033-55ed-4b3e-a4d1-3436d86d237d",
   "metadata": {},
   "source": [
    "  # Question"
   ]
  },
  {
   "cell_type": "code",
   "execution_count": 34,
   "id": "99eef280-954e-4638-b51c-45626b28f26a",
   "metadata": {},
   "outputs": [
    {
     "name": "stdout",
     "output_type": "stream",
     "text": [
      "[78, 76, 74, 89, 84, 90]\n"
     ]
    }
   ],
   "source": [
    "scores = [55,57,78,76,74,89,84,90]\n",
    "high_score = []\n",
    "\n",
    "for score in scores:\n",
    "    if score>65:\n",
    "        high_score.append(score)\n",
    "    else:\n",
    "        pass\n",
    "print(high_score)"
   ]
  },
  {
   "cell_type": "code",
   "execution_count": 38,
   "id": "679301d9-964a-4904-a27e-352c4af37c82",
   "metadata": {},
   "outputs": [
    {
     "name": "stdout",
     "output_type": "stream",
     "text": [
      "the sum of the first item is 15\n",
      "the reverse string is [10, 9, 8, 7, 6, 5, 4, 3, 2, 1]\n"
     ]
    }
   ],
   "source": [
    "data = [ 1,2,3,4,5,6,7,8,9,10]\n",
    "\n",
    "sum_first_five = sum(data[:5])\n",
    "print(\"the sum of the first item is\",sum_first_five)\n",
    "reverse = data[::-1]\n",
    "print(\"the reverse string is\",reverse)"
   ]
  },
  {
   "cell_type": "markdown",
   "id": "9c3878c1-7bce-40b1-9f13-4bd17b5968a3",
   "metadata": {},
   "source": [
    " # Length method "
   ]
  },
  {
   "cell_type": "code",
   "execution_count": 2,
   "id": "eb7f91dc-ac97-4574-b6dd-80feefa80970",
   "metadata": {},
   "outputs": [
    {
     "name": "stdout",
     "output_type": "stream",
     "text": [
      "10\n"
     ]
    }
   ],
   "source": [
    "a = [1,2,3,5,6,45,8,\"hello\",8.5,9.6]\n",
    "print(len(a))"
   ]
  },
  {
   "cell_type": "markdown",
   "id": "3c60ebfe-f84f-4102-8137-80b80caaae68",
   "metadata": {},
   "source": [
    "# mutability method"
   ]
  },
  {
   "cell_type": "markdown",
   "id": "4970930d-71f6-49f0-9d54-742dbdea19f5",
   "metadata": {},
   "source": [
    "# Changing elements "
   ]
  },
  {
   "cell_type": "code",
   "execution_count": 3,
   "id": "4e86cd16-2529-4998-9bfc-aa8ee3bff9ae",
   "metadata": {},
   "outputs": [
    {
     "name": "stdout",
     "output_type": "stream",
     "text": [
      "[1, 2, 3, 'hello', 4]\n"
     ]
    }
   ],
   "source": [
    "my_list = [1,2,3,5,4]\n",
    "my_list[3] = \"hello\"\n",
    "print(my_list)"
   ]
  },
  {
   "cell_type": "code",
   "execution_count": 4,
   "id": "da572719-584e-4e3d-9d12-e2c2bb055473",
   "metadata": {},
   "outputs": [
    {
     "name": "stdout",
     "output_type": "stream",
     "text": [
      "[1, 2, 3, 10, 4]\n"
     ]
    }
   ],
   "source": [
    "my_list = [1,2,3,5,4]\n",
    "my_list[3] = 10\n",
    "print(my_list)"
   ]
  },
  {
   "cell_type": "markdown",
   "id": "eee97bef-d681-4503-b8af-c592f76472ef",
   "metadata": {},
   "source": [
    "# change a range of item value"
   ]
  },
  {
   "cell_type": "code",
   "execution_count": 5,
   "id": "56640395-7ddb-4a8f-adaa-e10fa1051618",
   "metadata": {},
   "outputs": [
    {
     "name": "stdout",
     "output_type": "stream",
     "text": [
      "[12, 13, 'Books', 'pen', 'paper', 17, 18, 19, 20]\n"
     ]
    }
   ],
   "source": [
    "a = [12,13,14,15,16,17,18,19,20]\n",
    "a[2:5] = [\"Books\", \"pen\", \"paper\"]\n",
    "print(a)"
   ]
  },
  {
   "cell_type": "markdown",
   "id": "cafad928-28ca-438c-91f2-7fbafc93e659",
   "metadata": {},
   "source": [
    " # Add list item"
   ]
  },
  {
   "cell_type": "code",
   "execution_count": 7,
   "id": "8060f2e4-18c1-410c-ad9d-50558309176d",
   "metadata": {},
   "outputs": [
    {
     "name": "stdout",
     "output_type": "stream",
     "text": [
      "['apple', 'banana', 'cherry', 'orange']\n"
     ]
    }
   ],
   "source": [
    "thislist = [\"apple\", \"banana\",\"cherry\"]\n",
    "thislist.append(\"orange\")\n",
    "print(thislist)"
   ]
  },
  {
   "cell_type": "code",
   "execution_count": 8,
   "id": "21c2341d-5bac-4e68-9815-6f9460197105",
   "metadata": {},
   "outputs": [
    {
     "name": "stdout",
     "output_type": "stream",
     "text": [
      "[14, 15, 12, 16, 17, 19, 15, -20]\n"
     ]
    }
   ],
   "source": [
    "a = [14,15,12,16,17,19,15,]\n",
    "a.append(-20)\n",
    "print(a)"
   ]
  },
  {
   "cell_type": "markdown",
   "id": "f40bdee0-3ac2-4fba-b789-43f35bb1e7c2",
   "metadata": {},
   "source": [
    " # remove this items"
   ]
  },
  {
   "cell_type": "code",
   "execution_count": 12,
   "id": "4bf09fa8-a1f5-42a4-b1e4-924a23915daa",
   "metadata": {},
   "outputs": [
    {
     "name": "stdout",
     "output_type": "stream",
     "text": [
      "[8, 21, 85, 57, 24, 65, 85]\n"
     ]
    }
   ],
   "source": [
    "a = [4,8,21,85,4,57,24,65,85]\n",
    "a.remove(4)\n",
    "a.remove(4)\n",
    "print(a)"
   ]
  },
  {
   "cell_type": "markdown",
   "id": "ed87602b-3fe1-4bf9-9a30-5846aeb20f79",
   "metadata": {},
   "source": [
    "# join the list "
   ]
  },
  {
   "cell_type": "code",
   "execution_count": 14,
   "id": "39b63943-f518-4cca-a8a4-7407656b1fde",
   "metadata": {},
   "outputs": [
    {
     "name": "stdout",
     "output_type": "stream",
     "text": [
      "[1, 2, 3, 12, 12, 13, 14, 'hello', 'worls']\n"
     ]
    }
   ],
   "source": [
    "list1 = [1,2,3]\n",
    "list2 = [12,12,13,14]\n",
    "list3 = [\"hello\", \"worls\"]\n",
    "print(list1 + list2 + list3)"
   ]
  },
  {
   "cell_type": "markdown",
   "id": "03b0721c-0e52-4ad3-b8ce-cb235f57b425",
   "metadata": {},
   "source": [
    "# Check is a list cotains an element"
   ]
  },
  {
   "cell_type": "code",
   "execution_count": 15,
   "id": "f9471db0-2876-49e2-a6dd-d78d0a79632d",
   "metadata": {},
   "outputs": [
    {
     "data": {
      "text/plain": [
       "False"
      ]
     },
     "execution_count": 15,
     "metadata": {},
     "output_type": "execute_result"
    }
   ],
   "source": [
    "a = [25,11,54,78,65,85,\"hello\",\"python\",5.6]\n",
    "3 in a"
   ]
  },
  {
   "cell_type": "code",
   "execution_count": 17,
   "id": "b2edee6a-f50e-475a-a38f-6923270440b7",
   "metadata": {},
   "outputs": [
    {
     "data": {
      "text/plain": [
       "True"
      ]
     },
     "execution_count": 17,
     "metadata": {},
     "output_type": "execute_result"
    }
   ],
   "source": [
    "a = [25,11,54,78,65,85,\"hello\",\"python\",5.6]\n",
    "85 in a"
   ]
  },
  {
   "cell_type": "markdown",
   "id": "6f95316f-0b94-4749-be67-175236d7dc31",
   "metadata": {},
   "source": [
    "# reversing a list"
   ]
  },
  {
   "cell_type": "code",
   "execution_count": 18,
   "id": "9aaa15a8-b304-4af9-9e61-4ae63594d785",
   "metadata": {},
   "outputs": [
    {
     "name": "stdout",
     "output_type": "stream",
     "text": [
      "[36, 25, 78, 66, 85, 65, 78, 54, 11, 25, 1]\n"
     ]
    }
   ],
   "source": [
    "a = [1,25,11,54,78,65,85,66,78,25,36]\n",
    "a.reverse()\n",
    "print(a)\n"
   ]
  },
  {
   "cell_type": "code",
   "execution_count": 8,
   "id": "46f9f725-f324-4981-b222-a3bf97a9503a",
   "metadata": {},
   "outputs": [
    {
     "name": "stdout",
     "output_type": "stream",
     "text": [
      "['Yes', 'No', 'Maybe', 'yes', 'No']\n"
     ]
    }
   ],
   "source": [
    "responses = [\"Yes\", \"\", \"No\", \"\",\"Maybe\",\"\",\"yes\",\"No\",\"\"]\n",
    "clean = []\n",
    "\n",
    "for response in responses:\n",
    "    if response!=\"\":\n",
    "        clean.append(response)\n",
    "    else:\n",
    "        pass\n",
    "print(clean)\n",
    "    "
   ]
  },
  {
   "cell_type": "code",
   "execution_count": 10,
   "id": "7680cca8-1966-45a9-9ad7-112b7897c202",
   "metadata": {},
   "outputs": [
    {
     "name": "stdout",
     "output_type": "stream",
     "text": [
      "the avg score of class 1 is 65.375\n",
      "the avg score of class 2 is 58.111111111111114\n"
     ]
    }
   ],
   "source": [
    "class1_scores = [85,96,45,35,96,78,25,63]\n",
    "class2_scores = [85,75,96,25,8,99,25,64,45]\n",
    "\n",
    "class1_avg = sum(class1_scores)/len(class1_scores)\n",
    "class2_avg = sum(class1_scores)/len(class2_scores)\n",
    "\n",
    "print(\"the avg score of class 1 is\", class1_avg)\n",
    "print(\"the avg score of class 2 is\", class2_avg)"
   ]
  },
  {
   "cell_type": "code",
   "execution_count": 12,
   "id": "11bff9f2-b95f-4a94-9e22-cf33fef7e308",
   "metadata": {},
   "outputs": [
    {
     "name": "stdout",
     "output_type": "stream",
     "text": [
      "hello world\n"
     ]
    }
   ],
   "source": [
    "words = ['hello','world']\n",
    "sentence = ' '.join(words)\n",
    "print(sentence)"
   ]
  },
  {
   "cell_type": "markdown",
   "id": "f6d8b14d-0ccd-45a7-b0c2-bb21989da902",
   "metadata": {},
   "source": [
    "# Practice question"
   ]
  },
  {
   "attachments": {
    "7cdc0fd7-69ff-483b-beba-9c415db95d56.png": {
     "image/png": "[encoded data removed]"
    }
   },
   "cell_type": "markdown",
   "id": "e29e6209-8ae0-4888-bd54-fad7ba0236ae",
   "metadata": {},
   "source": [
    "![image.png](attachment:7cdc0fd7-69ff-483b-beba-9c415db95d56.png)"
   ]
  },
  {
   "cell_type": "code",
   "execution_count": 2,
   "id": "d0551f97-316d-4e9e-b155-ed6561b86bf6",
   "metadata": {},
   "outputs": [
    {
     "name": "stdout",
     "output_type": "stream",
     "text": [
      "[10, 20, 30, 40, 50, 60]\n",
      "[5, 10, 20, 30, 40, 50, 60]\n",
      "[5, 10, 20, 40, 50, 60]\n",
      "modified list is [5, 10, 20, 40, 50, 60]\n"
     ]
    }
   ],
   "source": [
    "data_points = [10,20,30,40,50]\n",
    "data_points.append(60)\n",
    "print(data_points)\n",
    "\n",
    "data_points.insert(0,5)\n",
    "print(data_points)\n",
    "\n",
    "data_points.remove(30)\n",
    "print(data_points)\n",
    "\n",
    "print(\"modified list is\",data_points)"
   ]
  },
  {
   "cell_type": "markdown",
   "id": "e5a25519-f1bd-466f-88b8-eb9edeca81d4",
   "metadata": {},
   "source": [
    " Question 2\n",
    " In [ ]: Student Enrollment Status\n",
    " You are managing student enrollments for a course\n",
    " Untitled - Jupyter Notebook\n",
    " and want to determine their enrollment\n",
    " status based on their course credits. Create a program that:\n",
    " 1) Asks the user to input the number of students.\n",
    " 2) Asks the user to input the course credits for each student, storing them in\n",
    " 3) Determines the enrollment status for each student:\n",
    " \"Full-time\" if course credits are greater than or equal to 12.\n",
    " if course credits are less than 12.\n",
    " 4) Prints out the enrollment status for each student."
   ]
  },
  {
   "cell_type": "code",
   "execution_count": null,
   "id": "d77831a4-d47b-47e4-a971-fa98763719e7",
   "metadata": {},
   "outputs": [
    {
     "name": "stdin",
     "output_type": "stream",
     "text": [
      "enter the number of student 5\n",
      "enter the course credit for student: 12\n"
     ]
    },
    {
     "name": "stdout",
     "output_type": "stream",
     "text": [
      "[    Thanks to CWI, CNRI, BeOpen, Zope Corporation, the Python Software\n",
      "    Foundation, and a cast of thousands for supporting Python\n",
      "    development.  See www.python.org for more information.]\n"
     ]
    }
   ],
   "source": [
    "num_students = int(input(\"enter the number of student\"))\n",
    "\n",
    "course_credits = []\n",
    "\n",
    "for i in range(num_students):\n",
    "    credit = int(input(\"enter the course credit for student:\"))\n",
    "    course_credits.append(credits)\n",
    "    print(course_credits)\n",
    "\n",
    "enrollment_status = []\n",
    "for credits in course_credits:\n",
    "    if credits>= 12:\n",
    "        enrollment_status.append(\"Full_time\")\n",
    "    else:\n",
    "        enrollment_status.append(\"Part_time\")\n",
    "for i in range (num_students):\n",
    "    print(f\"student {i+1} : enrollment status - {enrollment_statuus[i]}\")\n",
    "    \n",
    "    \n",
    "    "
   ]
  },
  {
   "cell_type": "markdown",
   "id": "df35f115-3dce-4df9-a66c-1f61c9a16ca7",
   "metadata": {},
   "source": [
    "# Tuples in python part 1"
   ]
  },
  {
   "cell_type": "markdown",
   "id": "65bda153-20a6-41b6-8a57-a3141776908b",
   "metadata": {},
   "source": [
    "# creating tuples"
   ]
  },
  {
   "cell_type": "code",
   "execution_count": 3,
   "id": "0ef5bb1a-d8d1-4ac1-ba8f-6caf3f4a8318",
   "metadata": {},
   "outputs": [
    {
     "name": "stdout",
     "output_type": "stream",
     "text": [
      "(10, 20, 30)\n",
      "<class 'tuple'>\n"
     ]
    }
   ],
   "source": [
    "a = (10,20,30)\n",
    "print(a)\n",
    "print(type(a))"
   ]
  },
  {
   "cell_type": "markdown",
   "id": "7665eff8-f608-4ffa-963d-cfb8d581ae54",
   "metadata": {},
   "source": [
    "# Empty tuple"
   ]
  },
  {
   "cell_type": "code",
   "execution_count": 4,
   "id": "6c557a18-af93-4dd9-a191-24c0e6cd73eb",
   "metadata": {},
   "outputs": [
    {
     "name": "stdout",
     "output_type": "stream",
     "text": [
      "()\n",
      "<class 'tuple'>\n"
     ]
    }
   ],
   "source": [
    "tup = ()\n",
    "print (tup)\n",
    "\n",
    "print(type(tup))\n"
   ]
  },
  {
   "cell_type": "code",
   "execution_count": 5,
   "id": "4273881c-0c9a-45aa-9873-02ec8f5b1d15",
   "metadata": {},
   "outputs": [
    {
     "name": "stdout",
     "output_type": "stream",
     "text": [
      "5\n",
      "<class 'int'>\n"
     ]
    }
   ],
   "source": [
    "b = (5)\n",
    "print(b)\n",
    "print(type(b))"
   ]
  },
  {
   "cell_type": "code",
   "execution_count": null,
   "id": "3c25f85c-1618-433a-b956-fd8e6f4eb22b",
   "metadata": {},
   "outputs": [],
   "source": [
    "b = (5,)\n",
    "print(b)\n",
    "print(type(b))"
   ]
  },
  {
   "cell_type": "markdown",
   "id": "0f8222e4-873c-4686-afa9-b936d0544df3",
   "metadata": {},
   "source": [
    "# A Tuple with mised data types"
   ]
  },
  {
   "cell_type": "code",
   "execution_count": 6,
   "id": "c3e3baa0-81a2-4327-a2b8-9b5c54570108",
   "metadata": {},
   "outputs": [
    {
     "name": "stdout",
     "output_type": "stream",
     "text": [
      "(1, 2.3, 'shyam', 'nikhil', True)\n",
      "<class 'tuple'>\n"
     ]
    }
   ],
   "source": [
    "b = (1, 2.3, \"shyam\", \"nikhil\", True) \n",
    "print(b) \n",
    "print(type(b))"
   ]
  },
  {
   "cell_type": "markdown",
   "id": "f242cbad-446f-4e74-b254-be238d60717b",
   "metadata": {},
   "source": [
    "# nested tuples "
   ]
  },
  {
   "cell_type": "code",
   "execution_count": 10,
   "id": "91ba0387-2486-42bd-94a5-9115a1eb76c8",
   "metadata": {},
   "outputs": [
    {
     "name": "stdout",
     "output_type": "stream",
     "text": [
      "('mouse', 2.3, (10, 20, 30))\n",
      "<class 'tuple'>\n"
     ]
    }
   ],
   "source": [
    "a = (\"mouse\", 2.3, (10,20,30))\n",
    "print(a)\n",
    "print(type(a))"
   ]
  },
  {
   "cell_type": "code",
   "execution_count": 12,
   "id": "583d27c5-65bb-40e2-ba27-e9421ec1adf9",
   "metadata": {},
   "outputs": [
    {
     "name": "stdout",
     "output_type": "stream",
     "text": [
      "([12, 13, 14], [20, 30, 38], [20, 30, 59])\n",
      "<class 'tuple'>\n"
     ]
    }
   ],
   "source": [
    "num = ([12,13,14],[20,30,38], [20,30,59])\n",
    "print(num)\n",
    "print(type(num))"
   ]
  },
  {
   "cell_type": "markdown",
   "id": "b5ff2449-35c8-43b1-aace-2c63a1abca2f",
   "metadata": {},
   "source": [
    "# Tuple Constructor"
   ]
  },
  {
   "cell_type": "code",
   "execution_count": 13,
   "id": "e831eef8-07a5-4b44-9786-207a93ef558c",
   "metadata": {},
   "outputs": [
    {
     "name": "stdout",
     "output_type": "stream",
     "text": [
      "()\n",
      "<class 'tuple'>\n"
     ]
    }
   ],
   "source": [
    "empty = tuple()\n",
    "print(empty)\n",
    "print(type(empty))"
   ]
  },
  {
   "cell_type": "code",
   "execution_count": null,
   "id": "95ec99e0-70c8-4c0d-a676-2da79c71d01f",
   "metadata": {},
   "outputs": [],
   "source": []
  }
 ],
 "metadata": {
  "kernelspec": {
   "display_name": "Python 3 (ipykernel)",
   "language": "python",
   "name": "python3"
  },
  "language_info": {
   "codemirror_mode": {
    "name": "ipython",
    "version": 3
   },
   "file_extension": ".py",
   "mimetype": "text/x-python",
   "name": "python",
   "nbconvert_exporter": "python",
   "pygments_lexer": "ipython3",
   "version": "3.13.2"
  }
 },
 "nbformat": 4,
 "nbformat_minor": 5
}
