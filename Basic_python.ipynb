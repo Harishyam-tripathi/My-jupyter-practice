{
 "cells": [
  {
   "cell_type": "markdown",
   "id": "89804afa-e040-4205-ab9a-de87ddd13d9c",
   "metadata": {},
   "source": [
    "# variables question"
   ]
  },
  {
   "cell_type": "code",
   "execution_count": null,
   "id": "a043a04b-551b-4cbb-8f0a-40bceb2af596",
   "metadata": {},
   "outputs": [],
   "source": []
  },
  {
   "cell_type": "code",
   "execution_count": 2,
   "id": "8ad3571a-a7ce-49b2-9efc-c6e751c1eba4",
   "metadata": {},
   "outputs": [
    {
     "name": "stdout",
     "output_type": "stream",
     "text": [
      "10\n"
     ]
    }
   ],
   "source": [
    "x = 5\n",
    "\n",
    "x = 10\n",
    "print(x)"
   ]
  },
  {
   "cell_type": "code",
   "execution_count": 8,
   "id": "cca72622-402d-413c-98bb-e6f2987537a6",
   "metadata": {},
   "outputs": [
    {
     "name": "stdout",
     "output_type": "stream",
     "text": [
      "123variable\n"
     ]
    }
   ],
   "source": [
    "#123variable\n",
    "print(\"123variable\")\n",
    "#myVariable123\n",
    "#print(\"myVariable123\")\n"
   ]
  },
  {
   "cell_type": "markdown",
   "id": "a0db1dcd-3a57-44c5-bb92-720bb1a34cf7",
   "metadata": {},
   "source": [
    "# Operator in python "
   ]
  },
  {
   "cell_type": "markdown",
   "id": "8ecc3336-cb57-4f8d-9a44-24f28d99ce7c",
   "metadata": {},
   "source": [
    "# 1. Arithmetic Operator "
   ]
  },
  {
   "cell_type": "code",
   "execution_count": 9,
   "id": "7354ea26-301d-4e61-9942-a49703ef5171",
   "metadata": {},
   "outputs": [
    {
     "name": "stdout",
     "output_type": "stream",
     "text": [
      "4\n"
     ]
    }
   ],
   "source": [
    "a = 1 \n",
    "b = 3\n",
    "print(a+b)"
   ]
  },
  {
   "cell_type": "code",
   "execution_count": 10,
   "id": "9f948cc6-618f-44f0-9f1b-f110d533ad0f",
   "metadata": {},
   "outputs": [
    {
     "name": "stdout",
     "output_type": "stream",
     "text": [
      "4.0\n"
     ]
    }
   ],
   "source": [
    "x = 1.5\n",
    "y = 2.5\n",
    "print(x+y)"
   ]
  },
  {
   "cell_type": "code",
   "execution_count": 16,
   "id": "b03383ce-b61f-4cf2-a96a-16295716b71f",
   "metadata": {},
   "outputs": [
    {
     "name": "stdout",
     "output_type": "stream",
     "text": [
      "hello world\n"
     ]
    }
   ],
   "source": [
    "a1 = \"hello\"\n",
    "b2 = \"world\"\n",
    "print(a1+\" \"+b2)"
   ]
  },
  {
   "cell_type": "code",
   "execution_count": 17,
   "id": "b6783034-0e41-4279-9b33-4f87af1bd4e0",
   "metadata": {},
   "outputs": [
    {
     "name": "stdout",
     "output_type": "stream",
     "text": [
      "(5+8j)\n"
     ]
    }
   ],
   "source": [
    "x1 = 2+3j\n",
    "y2 = 3+5j\n",
    "print(x1+y2)"
   ]
  },
  {
   "cell_type": "code",
   "execution_count": 18,
   "id": "1a190c3e-839f-4492-8e18-a24d5e78fdbd",
   "metadata": {},
   "outputs": [
    {
     "name": "stdout",
     "output_type": "stream",
     "text": [
      "4\n"
     ]
    }
   ],
   "source": [
    "num1 = 8\n",
    "num2 = 4 \n",
    "print(num1-num2)"
   ]
  },
  {
   "cell_type": "code",
   "execution_count": 19,
   "id": "4f4e7e85-d228-470e-9589-65ebff046d27",
   "metadata": {},
   "outputs": [
    {
     "name": "stdout",
     "output_type": "stream",
     "text": [
      "-4.96\n"
     ]
    }
   ],
   "source": [
    "a4 = 3.54\n",
    "b4 = 8.5\n",
    "print(a4-b4)"
   ]
  },
  {
   "cell_type": "code",
   "execution_count": 20,
   "id": "1b4f0717-6617-4370-932d-a9bfb5c0fcb2",
   "metadata": {},
   "outputs": [
    {
     "name": "stdout",
     "output_type": "stream",
     "text": [
      "(2+4j)\n"
     ]
    }
   ],
   "source": [
    "a6 = 5+9j\n",
    "b6 = 3+5j\n",
    "print(a6-b6)"
   ]
  },
  {
   "cell_type": "markdown",
   "id": "2ad03d60-8015-468b-9f47-94eb4a4af329",
   "metadata": {},
   "source": [
    "# Built in finction in Python "
   ]
  },
  {
   "cell_type": "markdown",
   "id": "f3bbeee2-b1bf-4a71-95e4-514081324c6f",
   "metadata": {},
   "source": [
    "1- Float function "
   ]
  },
  {
   "cell_type": "code",
   "execution_count": 7,
   "id": "cde5176f-c05d-4dbe-b3ee-33bef87405df",
   "metadata": {},
   "outputs": [
    {
     "name": "stdout",
     "output_type": "stream",
     "text": [
      "<class 'int'>\n",
      "10.0\n",
      "<class 'float'>\n"
     ]
    }
   ],
   "source": [
    "num_int = 10\n",
    "print(type(num_int))\n",
    "#convert into float\n",
    "a = float(num_int)\n",
    "print(a)\n",
    "print(type(a))"
   ]
  },
  {
   "cell_type": "code",
   "execution_count": 8,
   "id": "dd8dc0b1-c266-4346-b91e-e131eeff30e4",
   "metadata": {},
   "outputs": [
    {
     "name": "stdout",
     "output_type": "stream",
     "text": [
      "<class 'str'>\n",
      "3.14\n",
      "<class 'float'>\n"
     ]
    }
   ],
   "source": [
    "a = \"3.14\"\n",
    "print(type(a))\n",
    "#convert into float\n",
    "b = float(a)\n",
    "print(a)\n",
    "print(type(b))"
   ]
  },
  {
   "cell_type": "markdown",
   "id": "e7c96cf9-7263-4102-97b9-d22e8475b593",
   "metadata": {},
   "source": [
    "# int function"
   ]
  },
  {
   "cell_type": "code",
   "execution_count": 12,
   "id": "9d4ae7c3-6fc0-42ee-b3ce-bcadc0f3ce0a",
   "metadata": {},
   "outputs": [
    {
     "name": "stdout",
     "output_type": "stream",
     "text": [
      "<class 'float'>\n",
      "5\n",
      "<class 'int'>\n"
     ]
    }
   ],
   "source": [
    "a = 5.53369\n",
    "print (type(a))\n",
    "#float into int \n",
    "b = int (a)\n",
    "print(b)\n",
    "print(type(b))"
   ]
  },
  {
   "cell_type": "code",
   "execution_count": 14,
   "id": "4093d540-4700-4a36-acb4-4e04d5d62d8f",
   "metadata": {},
   "outputs": [
    {
     "name": "stdout",
     "output_type": "stream",
     "text": [
      "<class 'str'>\n",
      "43\n",
      "<class 'int'>\n"
     ]
    }
   ],
   "source": [
    "a1 = \"43\"\n",
    "print(type(a1))\n",
    "b1 = int(a1)\n",
    "print(b1)\n",
    "print(type(b1))"
   ]
  },
  {
   "cell_type": "markdown",
   "id": "9a640b5f-e571-4e35-8380-ebe719a1d6ab",
   "metadata": {},
   "source": [
    "# string function"
   ]
  },
  {
   "cell_type": "code",
   "execution_count": 23,
   "id": "09a6e39a-9e31-4f5b-9029-0382dbd103cf",
   "metadata": {},
   "outputs": [
    {
     "name": "stdout",
     "output_type": "stream",
     "text": [
      "<class 'int'>\n",
      "56\n",
      "<class 'str'>\n",
      "562\n",
      "58\n"
     ]
    }
   ],
   "source": [
    "a = 56\n",
    "print(type(a))\n",
    "b = str(a)\n",
    "print(b)\n",
    "print(type(b))\n",
    "c = \"2\"\n",
    "print(b+c)\n",
    "print(a+2)"
   ]
  },
  {
   "cell_type": "markdown",
   "id": "f1525ec1-3cf4-4a49-aff2-681db18788cf",
   "metadata": {},
   "source": [
    "# complex function"
   ]
  },
  {
   "cell_type": "code",
   "execution_count": 24,
   "id": "16fc7af8-d678-4522-86f2-5e907c22658f",
   "metadata": {},
   "outputs": [
    {
     "name": "stdout",
     "output_type": "stream",
     "text": [
      "(2+5j)\n"
     ]
    }
   ],
   "source": [
    "comp = complex(2,5)\n",
    "print (comp)"
   ]
  },
  {
   "cell_type": "code",
   "execution_count": 26,
   "id": "e4a3ebbf-6fa1-440a-9f0b-9c9868ba0141",
   "metadata": {},
   "outputs": [
    {
     "name": "stdout",
     "output_type": "stream",
     "text": [
      "(6+79j)\n"
     ]
    }
   ],
   "source": [
    "x = complex(6,79)\n",
    "print(x)"
   ]
  },
  {
   "cell_type": "markdown",
   "id": "b2ad3b40-6fc4-4df6-8cd0-404d6d633957",
   "metadata": {},
   "source": [
    "# abs function"
   ]
  },
  {
   "cell_type": "code",
   "execution_count": 27,
   "id": "923019fb-ddce-4b14-9023-f0d304e3cbcf",
   "metadata": {},
   "outputs": [
    {
     "name": "stdout",
     "output_type": "stream",
     "text": [
      "23\n"
     ]
    }
   ],
   "source": [
    "x = -23\n",
    "print(abs(x))"
   ]
  },
  {
   "cell_type": "code",
   "execution_count": 28,
   "id": "49270973-c1d6-4743-8773-223944f77987",
   "metadata": {},
   "outputs": [
    {
     "name": "stdout",
     "output_type": "stream",
     "text": [
      "2.3528\n"
     ]
    }
   ],
   "source": [
    "y = -2.3528\n",
    "print(abs(y))"
   ]
  },
  {
   "cell_type": "code",
   "execution_count": 29,
   "id": "6615330e-ce87-4b8f-bb1d-bd61d329662c",
   "metadata": {},
   "outputs": [
    {
     "name": "stdout",
     "output_type": "stream",
     "text": [
      "5.0\n"
     ]
    }
   ],
   "source": [
    "z = -3+4j\n",
    "print(abs(z))"
   ]
  },
  {
   "cell_type": "markdown",
   "id": "28063440-2745-4423-bfef-20d5fb103e69",
   "metadata": {},
   "source": [
    "# len fun"
   ]
  },
  {
   "cell_type": "code",
   "execution_count": 31,
   "id": "953f3e9b-57d0-44e2-b2fa-f9a4e003d245",
   "metadata": {},
   "outputs": [
    {
     "name": "stdout",
     "output_type": "stream",
     "text": [
      "41\n"
     ]
    }
   ],
   "source": [
    "a = \"hello i am harishyam stodent of BCA DS&AI\"\n",
    "print(len(a))"
   ]
  },
  {
   "cell_type": "code",
   "execution_count": 32,
   "id": "de5ad340-fb01-4050-938e-85ea2c25fe06",
   "metadata": {},
   "outputs": [
    {
     "name": "stdout",
     "output_type": "stream",
     "text": [
      "23\n"
     ]
    }
   ],
   "source": [
    "b = \" I am stable in lucknow\"\n",
    "print(len(b))"
   ]
  },
  {
   "cell_type": "code",
   "execution_count": 33,
   "id": "7da9a1cb-1407-41fe-9ea6-b2068c1c63af",
   "metadata": {},
   "outputs": [
    {
     "name": "stdout",
     "output_type": "stream",
     "text": [
      "4\n"
     ]
    }
   ],
   "source": [
    "c = [12,25,35,46]\n",
    "print(len(c))"
   ]
  },
  {
   "cell_type": "raw",
   "id": "8fd26086-acf2-4555-a614-4ead8379fcb6",
   "metadata": {},
   "source": [
    "#Question "
   ]
  },
  {
   "cell_type": "code",
   "execution_count": 39,
   "id": "1542247c-747c-424b-aaca-3a67feeaca9c",
   "metadata": {},
   "outputs": [
    {
     "name": "stdout",
     "output_type": "stream",
     "text": [
      "<class 'float'>\n",
      "1234\n",
      "<class 'int'>\n"
     ]
    }
   ],
   "source": [
    "ps= 1234.56\n",
    "print(type(ps))\n",
    "ps1= int(ps)\n",
    "print(ps1)\n",
    "print(type(ps1))"
   ]
  },
  {
   "cell_type": "markdown",
   "id": "fe3bab8d-0687-40c6-8d64-7613cd18db01",
   "metadata": {},
   "source": [
    "# built function"
   ]
  },
  {
   "cell_type": "raw",
   "id": "3d761c38-cac1-470c-bc9d-dc0e791691e1",
   "metadata": {},
   "source": [
    "part 2"
   ]
  },
  {
   "cell_type": "code",
   "execution_count": 1,
   "id": "f919fe82-c9ec-497c-a1a9-680d60e83d32",
   "metadata": {},
   "outputs": [
    {
     "name": "stdout",
     "output_type": "stream",
     "text": [
      "0b1010\n"
     ]
    }
   ],
   "source": [
    "binary_rep = bin(10)\n",
    "print(binary_rep)"
   ]
  },
  {
   "cell_type": "code",
   "execution_count": 2,
   "id": "6d118210-4bda-4804-9baa-80a3e230f19b",
   "metadata": {},
   "outputs": [
    {
     "name": "stdout",
     "output_type": "stream",
     "text": [
      "0b11111010000\n"
     ]
    }
   ],
   "source": [
    "z = bin(2000)\n",
    "print(z)"
   ]
  },
  {
   "cell_type": "markdown",
   "id": "ba17af59-05f3-480e-a8cc-cb6d0c8d1004",
   "metadata": {},
   "source": [
    "# sum fun"
   ]
  },
  {
   "cell_type": "code",
   "execution_count": 3,
   "id": "774dec52-a21a-4035-876a-163f98e9162b",
   "metadata": {},
   "outputs": [
    {
     "name": "stdout",
     "output_type": "stream",
     "text": [
      "8030\n"
     ]
    }
   ],
   "source": [
    "my_list = [7,8,9,2,4,5,1115,6879,1]\n",
    "a = sum(my_list)\n",
    "print(a)"
   ]
  },
  {
   "cell_type": "code",
   "execution_count": 4,
   "id": "fe035f5b-e68b-4e96-a3ab-955aafdf724d",
   "metadata": {},
   "outputs": [
    {
     "name": "stdout",
     "output_type": "stream",
     "text": [
      "33\n"
     ]
    }
   ],
   "source": [
    "a = [8,5,4,6]\n",
    "starting_value = 10\n",
    "total = sum(a,starting_value)\n",
    "print(total)"
   ]
  },
  {
   "cell_type": "code",
   "execution_count": 6,
   "id": "f0b7173e-be52-423a-babf-cd6be44994ab",
   "metadata": {},
   "outputs": [
    {
     "name": "stdout",
     "output_type": "stream",
     "text": [
      "178\n"
     ]
    }
   ],
   "source": [
    "b = [11,7,54,6]\n",
    "starting_value = (100)\n",
    "total = sum(b,starting_value)\n",
    "print(total)"
   ]
  },
  {
   "cell_type": "markdown",
   "id": "2ca11e9f-7c71-467f-a50c-d7e0c83dc9df",
   "metadata": {},
   "source": [
    "# Eval function()"
   ]
  },
  {
   "cell_type": "code",
   "execution_count": 8,
   "id": "1d5c201a-8eb3-4c66-95af-3b3a9933d60f",
   "metadata": {},
   "outputs": [
    {
     "name": "stdout",
     "output_type": "stream",
     "text": [
      "20\n"
     ]
    }
   ],
   "source": [
    "x = 10\n",
    "y = 5\n",
    "expression = \"x+y*2\"\n",
    "print(eval(expression))"
   ]
  },
  {
   "cell_type": "code",
   "execution_count": 9,
   "id": "6143f660-110b-4cba-839c-a670d7b27880",
   "metadata": {},
   "outputs": [
    {
     "name": "stdout",
     "output_type": "stream",
     "text": [
      "6.0\n",
      "<class 'str'>\n"
     ]
    }
   ],
   "source": [
    "exp = \" 5/2 +3.5\"\n",
    "print(eval(exp))\n",
    "print(type(exp))"
   ]
  },
  {
   "cell_type": "code",
   "execution_count": 12,
   "id": "4159d3ce-d5d7-4ad9-9939-da0408bbd7f6",
   "metadata": {},
   "outputs": [
    {
     "name": "stdout",
     "output_type": "stream",
     "text": [
      "<class 'str'>\n",
      "5864.0\n"
     ]
    }
   ],
   "source": [
    "exp1 = \"234*25+63-98/2\"\n",
    "print(type(exp1))\n",
    "print(eval(exp1))"
   ]
  },
  {
   "cell_type": "code",
   "execution_count": 14,
   "id": "6dfe198c-f816-4fc9-9fc0-56a6113595cb",
   "metadata": {},
   "outputs": [
    {
     "name": "stdout",
     "output_type": "stream",
     "text": [
      "-211.7\n"
     ]
    }
   ],
   "source": [
    "x = 5\n",
    "y = 2.5\n",
    "z = 32 \n",
    "exp = \"x+y-z*23/5-9*8\"\n",
    "print(eval(exp))"
   ]
  },
  {
   "cell_type": "markdown",
   "id": "eb35cc00-19f2-4c0e-a2c8-a36c71d8fed2",
   "metadata": {},
   "source": [
    "# help fun"
   ]
  },
  {
   "cell_type": "code",
   "execution_count": 1,
   "id": "a88b7572-5304-434a-9987-4419cb8ec89a",
   "metadata": {},
   "outputs": [
    {
     "name": "stdout",
     "output_type": "stream",
     "text": [
      "Help on built-in function print in module builtins:\n",
      "\n",
      "print(*args, sep=' ', end='\\n', file=None, flush=False)\n",
      "    Prints the values to a stream, or to sys.stdout by default.\n",
      "\n",
      "    sep\n",
      "      string inserted between values, default a space.\n",
      "    end\n",
      "      string appended after the last value, default a newline.\n",
      "    file\n",
      "      a file-like object (stream); defaults to the current sys.stdout.\n",
      "    flush\n",
      "      whether to forcibly flush the stream.\n",
      "\n"
     ]
    }
   ],
   "source": [
    "help(print)"
   ]
  },
  {
   "cell_type": "code",
   "execution_count": 2,
   "id": "8e270ae6-aeb4-4aac-a5ad-2da4f6564bbf",
   "metadata": {},
   "outputs": [
    {
     "name": "stdout",
     "output_type": "stream",
     "text": [
      "Help on class int in module builtins:\n",
      "\n",
      "class int(object)\n",
      " |  int([x]) -> integer\n",
      " |  int(x, base=10) -> integer\n",
      " |\n",
      " |  Convert a number or string to an integer, or return 0 if no arguments\n",
      " |  are given.  If x is a number, return x.__int__().  For floating-point\n",
      " |  numbers, this truncates towards zero.\n",
      " |\n",
      " |  If x is not a number or if base is given, then x must be a string,\n",
      " |  bytes, or bytearray instance representing an integer literal in the\n",
      " |  given base.  The literal can be preceded by '+' or '-' and be surrounded\n",
      " |  by whitespace.  The base defaults to 10.  Valid bases are 0 and 2-36.\n",
      " |  Base 0 means to interpret the base from the string as an integer literal.\n",
      " |  >>> int('0b100', base=0)\n",
      " |  4\n",
      " |\n",
      " |  Built-in subclasses:\n",
      " |      bool\n",
      " |\n",
      " |  Methods defined here:\n",
      " |\n",
      " |  __abs__(self, /)\n",
      " |      abs(self)\n",
      " |\n",
      " |  __add__(self, value, /)\n",
      " |      Return self+value.\n",
      " |\n",
      " |  __and__(self, value, /)\n",
      " |      Return self&value.\n",
      " |\n",
      " |  __bool__(self, /)\n",
      " |      True if self else False\n",
      " |\n",
      " |  __ceil__(...)\n",
      " |      Ceiling of an Integral returns itself.\n",
      " |\n",
      " |  __divmod__(self, value, /)\n",
      " |      Return divmod(self, value).\n",
      " |\n",
      " |  __eq__(self, value, /)\n",
      " |      Return self==value.\n",
      " |\n",
      " |  __float__(self, /)\n",
      " |      float(self)\n",
      " |\n",
      " |  __floor__(...)\n",
      " |      Flooring an Integral returns itself.\n",
      " |\n",
      " |  __floordiv__(self, value, /)\n",
      " |      Return self//value.\n",
      " |\n",
      " |  __format__(self, format_spec, /)\n",
      " |      Convert to a string according to format_spec.\n",
      " |\n",
      " |  __ge__(self, value, /)\n",
      " |      Return self>=value.\n",
      " |\n",
      " |  __getattribute__(self, name, /)\n",
      " |      Return getattr(self, name).\n",
      " |\n",
      " |  __getnewargs__(self, /)\n",
      " |\n",
      " |  __gt__(self, value, /)\n",
      " |      Return self>value.\n",
      " |\n",
      " |  __hash__(self, /)\n",
      " |      Return hash(self).\n",
      " |\n",
      " |  __index__(self, /)\n",
      " |      Return self converted to an integer, if self is suitable for use as an index into a list.\n",
      " |\n",
      " |  __int__(self, /)\n",
      " |      int(self)\n",
      " |\n",
      " |  __invert__(self, /)\n",
      " |      ~self\n",
      " |\n",
      " |  __le__(self, value, /)\n",
      " |      Return self<=value.\n",
      " |\n",
      " |  __lshift__(self, value, /)\n",
      " |      Return self<<value.\n",
      " |\n",
      " |  __lt__(self, value, /)\n",
      " |      Return self<value.\n",
      " |\n",
      " |  __mod__(self, value, /)\n",
      " |      Return self%value.\n",
      " |\n",
      " |  __mul__(self, value, /)\n",
      " |      Return self*value.\n",
      " |\n",
      " |  __ne__(self, value, /)\n",
      " |      Return self!=value.\n",
      " |\n",
      " |  __neg__(self, /)\n",
      " |      -self\n",
      " |\n",
      " |  __or__(self, value, /)\n",
      " |      Return self|value.\n",
      " |\n",
      " |  __pos__(self, /)\n",
      " |      +self\n",
      " |\n",
      " |  __pow__(self, value, mod=None, /)\n",
      " |      Return pow(self, value, mod).\n",
      " |\n",
      " |  __radd__(self, value, /)\n",
      " |      Return value+self.\n",
      " |\n",
      " |  __rand__(self, value, /)\n",
      " |      Return value&self.\n",
      " |\n",
      " |  __rdivmod__(self, value, /)\n",
      " |      Return divmod(value, self).\n",
      " |\n",
      " |  __repr__(self, /)\n",
      " |      Return repr(self).\n",
      " |\n",
      " |  __rfloordiv__(self, value, /)\n",
      " |      Return value//self.\n",
      " |\n",
      " |  __rlshift__(self, value, /)\n",
      " |      Return value<<self.\n",
      " |\n",
      " |  __rmod__(self, value, /)\n",
      " |      Return value%self.\n",
      " |\n",
      " |  __rmul__(self, value, /)\n",
      " |      Return value*self.\n",
      " |\n",
      " |  __ror__(self, value, /)\n",
      " |      Return value|self.\n",
      " |\n",
      " |  __round__(...)\n",
      " |      Rounding an Integral returns itself.\n",
      " |\n",
      " |      Rounding with an ndigits argument also returns an integer.\n",
      " |\n",
      " |  __rpow__(self, value, mod=None, /)\n",
      " |      Return pow(value, self, mod).\n",
      " |\n",
      " |  __rrshift__(self, value, /)\n",
      " |      Return value>>self.\n",
      " |\n",
      " |  __rshift__(self, value, /)\n",
      " |      Return self>>value.\n",
      " |\n",
      " |  __rsub__(self, value, /)\n",
      " |      Return value-self.\n",
      " |\n",
      " |  __rtruediv__(self, value, /)\n",
      " |      Return value/self.\n",
      " |\n",
      " |  __rxor__(self, value, /)\n",
      " |      Return value^self.\n",
      " |\n",
      " |  __sizeof__(self, /)\n",
      " |      Returns size in memory, in bytes.\n",
      " |\n",
      " |  __sub__(self, value, /)\n",
      " |      Return self-value.\n",
      " |\n",
      " |  __truediv__(self, value, /)\n",
      " |      Return self/value.\n",
      " |\n",
      " |  __trunc__(...)\n",
      " |      Truncating an Integral returns itself.\n",
      " |\n",
      " |  __xor__(self, value, /)\n",
      " |      Return self^value.\n",
      " |\n",
      " |  as_integer_ratio(self, /)\n",
      " |      Return a pair of integers, whose ratio is equal to the original int.\n",
      " |\n",
      " |      The ratio is in lowest terms and has a positive denominator.\n",
      " |\n",
      " |      >>> (10).as_integer_ratio()\n",
      " |      (10, 1)\n",
      " |      >>> (-10).as_integer_ratio()\n",
      " |      (-10, 1)\n",
      " |      >>> (0).as_integer_ratio()\n",
      " |      (0, 1)\n",
      " |\n",
      " |  bit_count(self, /)\n",
      " |      Number of ones in the binary representation of the absolute value of self.\n",
      " |\n",
      " |      Also known as the population count.\n",
      " |\n",
      " |      >>> bin(13)\n",
      " |      '0b1101'\n",
      " |      >>> (13).bit_count()\n",
      " |      3\n",
      " |\n",
      " |  bit_length(self, /)\n",
      " |      Number of bits necessary to represent self in binary.\n",
      " |\n",
      " |      >>> bin(37)\n",
      " |      '0b100101'\n",
      " |      >>> (37).bit_length()\n",
      " |      6\n",
      " |\n",
      " |  conjugate(...)\n",
      " |      Returns self, the complex conjugate of any int.\n",
      " |\n",
      " |  is_integer(self, /)\n",
      " |      Returns True. Exists for duck type compatibility with float.is_integer.\n",
      " |\n",
      " |  to_bytes(self, /, length=1, byteorder='big', *, signed=False)\n",
      " |      Return an array of bytes representing an integer.\n",
      " |\n",
      " |      length\n",
      " |        Length of bytes object to use.  An OverflowError is raised if the\n",
      " |        integer is not representable with the given number of bytes.  Default\n",
      " |        is length 1.\n",
      " |      byteorder\n",
      " |        The byte order used to represent the integer.  If byteorder is 'big',\n",
      " |        the most significant byte is at the beginning of the byte array.  If\n",
      " |        byteorder is 'little', the most significant byte is at the end of the\n",
      " |        byte array.  To request the native byte order of the host system, use\n",
      " |        `sys.byteorder' as the byte order value.  Default is to use 'big'.\n",
      " |      signed\n",
      " |        Determines whether two's complement is used to represent the integer.\n",
      " |        If signed is False and a negative integer is given, an OverflowError\n",
      " |        is raised.\n",
      " |\n",
      " |  ----------------------------------------------------------------------\n",
      " |  Class methods defined here:\n",
      " |\n",
      " |  from_bytes(bytes, byteorder='big', *, signed=False)\n",
      " |      Return the integer represented by the given array of bytes.\n",
      " |\n",
      " |      bytes\n",
      " |        Holds the array of bytes to convert.  The argument must either\n",
      " |        support the buffer protocol or be an iterable object producing bytes.\n",
      " |        Bytes and bytearray are examples of built-in objects that support the\n",
      " |        buffer protocol.\n",
      " |      byteorder\n",
      " |        The byte order used to represent the integer.  If byteorder is 'big',\n",
      " |        the most significant byte is at the beginning of the byte array.  If\n",
      " |        byteorder is 'little', the most significant byte is at the end of the\n",
      " |        byte array.  To request the native byte order of the host system, use\n",
      " |        `sys.byteorder' as the byte order value.  Default is to use 'big'.\n",
      " |      signed\n",
      " |        Indicates whether two's complement is used to represent the integer.\n",
      " |\n",
      " |  ----------------------------------------------------------------------\n",
      " |  Static methods defined here:\n",
      " |\n",
      " |  __new__(*args, **kwargs)\n",
      " |      Create and return a new object.  See help(type) for accurate signature.\n",
      " |\n",
      " |  ----------------------------------------------------------------------\n",
      " |  Data descriptors defined here:\n",
      " |\n",
      " |  denominator\n",
      " |      the denominator of a rational number in lowest terms\n",
      " |\n",
      " |  imag\n",
      " |      the imaginary part of a complex number\n",
      " |\n",
      " |  numerator\n",
      " |      the numerator of a rational number in lowest terms\n",
      " |\n",
      " |  real\n",
      " |      the real part of a complex number\n",
      "\n"
     ]
    }
   ],
   "source": [
    "help(int)"
   ]
  },
  {
   "cell_type": "code",
   "execution_count": 3,
   "id": "7f92559c-cc69-4f19-b949-94fcbef834cf",
   "metadata": {},
   "outputs": [
    {
     "data": {
      "text/plain": [
       "\u001b[1;31mSignature:\u001b[0m \u001b[0msum\u001b[0m\u001b[1;33m(\u001b[0m\u001b[0miterable\u001b[0m\u001b[1;33m,\u001b[0m \u001b[1;33m/\u001b[0m\u001b[1;33m,\u001b[0m \u001b[0mstart\u001b[0m\u001b[1;33m=\u001b[0m\u001b[1;36m0\u001b[0m\u001b[1;33m)\u001b[0m\u001b[1;33m\u001b[0m\u001b[1;33m\u001b[0m\u001b[0m\n",
       "\u001b[1;31mDocstring:\u001b[0m\n",
       "Return the sum of a 'start' value (default: 0) plus an iterable of numbers\n",
       "\n",
       "When the iterable is empty, return the start value.\n",
       "This function is intended specifically for use with numeric values and may\n",
       "reject non-numeric types.\n",
       "\u001b[1;31mType:\u001b[0m      builtin_function_or_method"
      ]
     },
     "metadata": {},
     "output_type": "display_data"
    }
   ],
   "source": [
    "sum??"
   ]
  },
  {
   "cell_type": "markdown",
   "id": "69793991-973a-4727-9344-4c7ede81f4e4",
   "metadata": {},
   "source": [
    "# input function "
   ]
  },
  {
   "cell_type": "code",
   "execution_count": 7,
   "id": "ce386aab-0aaf-481a-886c-183828fae097",
   "metadata": {},
   "outputs": [
    {
     "name": "stdin",
     "output_type": "stream",
     "text": [
      "enter your name hari\n"
     ]
    },
    {
     "name": "stdout",
     "output_type": "stream",
     "text": [
      "name entered by user is hari\n",
      "<class 'str'>\n"
     ]
    }
   ],
   "source": [
    "name = input(\"enter your name\")\n",
    "print(\"name entered by user is\",name)\n",
    "print(type(name))"
   ]
  },
  {
   "cell_type": "code",
   "execution_count": 9,
   "id": "9bb870e9-9268-4840-8978-517016cc999c",
   "metadata": {},
   "outputs": [
    {
     "name": "stdin",
     "output_type": "stream",
     "text": [
      "enter your age please 20\n"
     ]
    },
    {
     "name": "stdout",
     "output_type": "stream",
     "text": [
      "age of user is  20\n",
      "<class 'str'>\n"
     ]
    }
   ],
   "source": [
    "age = input(\"enter your age please\")\n",
    "print(\"age of user is \",age)\n",
    "print(type(age))"
   ]
  },
  {
   "cell_type": "markdown",
   "id": "dd674433-1986-4bec-8ae7-f10a101952ae",
   "metadata": {},
   "source": [
    "questions"
   ]
  },
  {
   "cell_type": "raw",
   "id": "5bf0450a-d226-48bf-9921-dea66a0679ba",
   "metadata": {},
   "source": [
    "Get two numbers from the user  and calculate their sum"
   ]
  },
  {
   "cell_type": "code",
   "execution_count": 12,
   "id": "02bbf7f6-dfcc-45d2-98ef-7d7f35ec5440",
   "metadata": {},
   "outputs": [
    {
     "name": "stdin",
     "output_type": "stream",
     "text": [
      "enter num first 10\n",
      "enter num second 05\n"
     ]
    },
    {
     "name": "stdout",
     "output_type": "stream",
     "text": [
      "15\n"
     ]
    }
   ],
   "source": [
    "num1 = int(input(\"enter num first\"))\n",
    "num2 =int(input(\"enter num second\"))\n",
    "sum =num1 + num2\n",
    "print(sum)"
   ]
  },
  {
   "cell_type": "markdown",
   "id": "fc0e1c9f-6d8a-40e5-9761-17c81b9a6610",
   "metadata": {},
   "source": [
    "age = int(input(\"enter your age\"))\n",
    "weight = int(input(\"enter your weight\"))\n",
    "height = float(input(\"enter your height\"))\n",
    "correct_age = abs(age)\n",
    "print(\"the correct age of the user is\",correct_age)\n",
    "BMR = \"88.365 + (13.788 * weight) + (4.799 * height)- (5.677 * age )\"\n",
    "bmr = eval(BMR)\n",
    "print(\"the BMR Of the patient is\",int(bmr))"
   ]
  },
  {
   "cell_type": "markdown",
   "id": "830216ce-2143-4f69-b028-ca8a9c774950",
   "metadata": {},
   "source": [
    "# Control flow statement"
   ]
  },
  {
   "cell_type": "raw",
   "id": "59d2ae56-45c5-4cbb-b890-a67ff4feaf93",
   "metadata": {},
   "source": [
    " if statement"
   ]
  },
  {
   "cell_type": "code",
   "execution_count": 4,
   "id": "d04cdacc-fa9e-40c8-bd86-cf541593a6ec",
   "metadata": {},
   "outputs": [
    {
     "name": "stdout",
     "output_type": "stream",
     "text": [
      "condition is false\n"
     ]
    }
   ],
   "source": [
    "i = 20 \n",
    "if i<10:\n",
    "    print(\"condition is true \")\n",
    "print(\"condition is false\")\n",
    "    "
   ]
  },
  {
   "cell_type": "code",
   "execution_count": 12,
   "id": "a09dd39e-c659-4015-803e-4a35c1d2202c",
   "metadata": {},
   "outputs": [
    {
     "name": "stdin",
     "output_type": "stream",
     "text": [
      "enter the temprature 25\n"
     ]
    },
    {
     "name": "stdout",
     "output_type": "stream",
     "text": [
      "temprature is convinient\n"
     ]
    }
   ],
   "source": [
    "temp  = float(input(\"enter the temprature\"))\n",
    "if temp<15:\n",
    "    print(\"temprature is not convinient\")\n",
    "\n",
    "if 24<temp<28:\n",
    "    print(\"temprature is convinient\")"
   ]
  },
  {
   "cell_type": "markdown",
   "id": "b4e0e7aa-28f9-4c62-ad0b-1ab9cf0c5458",
   "metadata": {},
   "source": [
    "# if else satatement"
   ]
  },
  {
   "cell_type": "raw",
   "id": "97757228-a8e4-40b1-bcff-46befc1b17d6",
   "metadata": {},
   "source": [
    "write a program to check wether a person is eligible for voting or not"
   ]
  },
  {
   "cell_type": "code",
   "execution_count": 16,
   "id": "746b551e-fba8-49f7-accf-a37a07a1af6e",
   "metadata": {},
   "outputs": [
    {
     "name": "stdin",
     "output_type": "stream",
     "text": [
      "enter your age 20\n"
     ]
    },
    {
     "name": "stdout",
     "output_type": "stream",
     "text": [
      "you are elegible for voting\n"
     ]
    }
   ],
   "source": [
    "age = int(input(\"enter your age\"))\n",
    "\n",
    "if age>18:\n",
    "    print(\"you are elegible for voting\")\n",
    "\n",
    "else:\n",
    "    print(\"you are not elegible for voting\")\n",
    "          "
   ]
  },
  {
   "cell_type": "markdown",
   "id": "a7632a6e-7314-40be-95f0-ae611379346a",
   "metadata": {},
   "source": [
    "# if elif else"
   ]
  },
  {
   "cell_type": "code",
   "execution_count": 19,
   "id": "7f61c3f3-d54a-4916-9e1f-432f676de8f6",
   "metadata": {},
   "outputs": [
    {
     "name": "stdin",
     "output_type": "stream",
     "text": [
      "enter the city Pune\n"
     ]
    },
    {
     "name": "stdout",
     "output_type": "stream",
     "text": [
      "the famous monument is botnical garden\n"
     ]
    }
   ],
   "source": [
    "a = input(\"enter the city\")\n",
    "if a == \"Mumbai\":\n",
    "    print(\"the famous monument is aget way of India\")\n",
    "elif a == \"Kolkata\":\n",
    "    print(\"the famous monument is victoria memorial\")\n",
    "elif a ==(\"Chennai\"):\n",
    "    print(\"the famous monument is marian beach\")\n",
    "elif a == \"Pune\":\n",
    "    print(\"the famous monument is botnical garden\")\n",
    "elif a == \"Banglore\":\n",
    "    print(\"the famous monument is shaniwr vada\")\n",
    "else:\n",
    "    print(\"NOT RECORDED FOUND\")\n",
    "\n",
    "          "
   ]
  },
  {
   "cell_type": "markdown",
   "id": "f16e3456-aa46-4ec3-a1c8-b2ee70f071b1",
   "metadata": {},
   "source": [
    "# Loop in Python"
   ]
  },
  {
   "cell_type": "code",
   "execution_count": 25,
   "id": "b195b34b-9da6-46f5-8c33-39f28e94d914",
   "metadata": {},
   "outputs": [
    {
     "name": "stdout",
     "output_type": "stream",
     "text": [
      "1\n",
      "2\n",
      "3\n",
      "4\n",
      "5\n"
     ]
    }
   ],
   "source": [
    "count = 1 \n",
    "while count<=5:\n",
    "    print(count)\n",
    "    count = count + 1"
   ]
  },
  {
   "cell_type": "markdown",
   "id": "c9e00f65-e365-41bf-b1be-01f9e3257a1a",
   "metadata": {},
   "source": [
    "# Write a Python program to  print all the even number between 1 and 50 a while loop."
   ]
  },
  {
   "cell_type": "code",
   "execution_count": 29,
   "id": "0c79b5ab-4f43-4f1d-b9a9-61e5d2ad3f77",
   "metadata": {},
   "outputs": [
    {
     "name": "stdout",
     "output_type": "stream",
     "text": [
      "2\n",
      "4\n",
      "6\n",
      "8\n",
      "10\n",
      "12\n",
      "14\n",
      "16\n",
      "18\n",
      "20\n",
      "22\n",
      "24\n",
      "26\n",
      "28\n",
      "30\n",
      "32\n",
      "34\n",
      "36\n",
      "38\n",
      "40\n",
      "42\n",
      "44\n",
      "46\n",
      "48\n",
      "50\n"
     ]
    }
   ],
   "source": [
    "num = 1\n",
    "while num<=50:\n",
    "    if num%2==0:\n",
    "        print(num)\n",
    "    num = num + 1\n",
    "    "
   ]
  },
  {
   "cell_type": "code",
   "execution_count": 35,
   "id": "7057e65a-95d8-43af-a1f3-7f5bd9a9de47",
   "metadata": {},
   "outputs": [
    {
     "name": "stdin",
     "output_type": "stream",
     "text": [
      "please enter your mail address harishyam@gmail.con\n"
     ]
    },
    {
     "name": "stdout",
     "output_type": "stream",
     "text": [
      "Email address validation passed.\n"
     ]
    }
   ],
   "source": [
    "email = input(\"please enter your mail address\")\n",
    "valid_email = False\n",
    "#Start the loops \n",
    "# Check if email contains \"@\" and \".\"\n",
    "if \"@\" in email and \".\" in email:\n",
    "    print(\"Email address validation passed.\")\n",
    "    valid_email = True\n",
    "else:\n",
    "    print(\"Invalid email address format. please try again.\")\n",
    "    email =  input(\"please enter your mail address\")"
   ]
  },
  {
   "cell_type": "markdown",
   "id": "05b1f428-e301-497e-b87e-edb53050082b",
   "metadata": {},
   "source": [
    "# For loops"
   ]
  },
  {
   "cell_type": "code",
   "execution_count": 36,
   "id": "9f5bf328-17d0-4753-91bb-42f61a78d9ba",
   "metadata": {},
   "outputs": [
    {
     "name": "stdout",
     "output_type": "stream",
     "text": [
      "1\n",
      "2\n",
      "3\n",
      "4\n",
      "5\n"
     ]
    }
   ],
   "source": [
    "numbers = [1,2,3,4,5]\n",
    "for i in numbers:\n",
    "    print(i)\n"
   ]
  },
  {
   "cell_type": "code",
   "execution_count": 39,
   "id": "3c68f3a7-a94f-4ba9-b042-46d01b7d649d",
   "metadata": {},
   "outputs": [
    {
     "name": "stdout",
     "output_type": "stream",
     "text": [
      "S\n",
      "T\n",
      "U\n",
      "D\n",
      "E\n",
      "N\n",
      "T\n"
     ]
    }
   ],
   "source": [
    "a = \"STUDENT\"\n",
    "for i in a:\n",
    "    print(i)"
   ]
  },
  {
   "cell_type": "code",
   "execution_count": 44,
   "id": "cb06e6e8-97d3-4d97-8556-9d1c043f60fc",
   "metadata": {},
   "outputs": [
    {
     "name": "stdout",
     "output_type": "stream",
     "text": [
      "1\n",
      "2\n",
      "3\n",
      "4\n",
      "5\n",
      "6\n",
      "7\n",
      "8\n",
      "9\n",
      "10\n"
     ]
    }
   ],
   "source": [
    "for i in range(1,11):\n",
    "    print(i)"
   ]
  },
  {
   "cell_type": "markdown",
   "id": "3884a453-9467-4fdf-9c32-696b9590e3f3",
   "metadata": {},
   "source": [
    "# for loops and if condition "
   ]
  },
  {
   "cell_type": "code",
   "execution_count": 46,
   "id": "0675a86c-14fe-4d37-80f7-fbb18c636847",
   "metadata": {},
   "outputs": [
    {
     "name": "stdout",
     "output_type": "stream",
     "text": [
      "the number is even 0\n",
      "the number is even 2\n",
      "the number is even 4\n",
      "the number is even 6\n",
      "the number is even 8\n",
      "the number is even 10\n",
      "the number is even 12\n",
      "the number is even 14\n",
      "the number is even 16\n",
      "the number is even 18\n",
      "the number is even 20\n",
      "the number is even 22\n",
      "the number is even 24\n"
     ]
    }
   ],
   "source": [
    "for i in range (0,26):\n",
    "    if i%2==0:\n",
    "        print(\"the number is even\",(i))"
   ]
  },
  {
   "cell_type": "code",
   "execution_count": 52,
   "id": "a80231b7-7353-4656-b729-ad4c69514522",
   "metadata": {},
   "outputs": [
    {
     "name": "stdout",
     "output_type": "stream",
     "text": [
      "The number is even 0\n",
      "The number is odd 1\n",
      "The number is even 2\n",
      "The number is odd 3\n",
      "The number is even 4\n",
      "The number is odd 5\n",
      "The number is even 6\n",
      "The number is odd 7\n",
      "The number is even 8\n",
      "The number is odd 9\n",
      "The number is even 10\n",
      "The number is odd 11\n",
      "The number is even 12\n",
      "The number is odd 13\n",
      "The number is even 14\n",
      "The number is odd 15\n",
      "The number is even 16\n",
      "The number is odd 17\n",
      "The number is even 18\n",
      "The number is odd 19\n",
      "The number is even 20\n",
      "The number is odd 21\n",
      "The number is even 22\n",
      "The number is odd 23\n",
      "The number is even 24\n",
      "The number is odd 25\n"
     ]
    }
   ],
   "source": [
    "for i in range (0,26):\n",
    "    if i%2==0:\n",
    "        print(\"The number is even\",i)\n",
    "    else:\n",
    "        print(\"The number is odd\",i)"
   ]
  },
  {
   "cell_type": "markdown",
   "id": "ef8a12d6-446f-431c-ba71-7dd88d1a410f",
   "metadata": {},
   "source": [
    "# Implement a python program to generate the multiplication table of the given number"
   ]
  },
  {
   "cell_type": "code",
   "execution_count": 59,
   "id": "b658f676-4f6c-4e4e-9dd3-d621bbbeaea4",
   "metadata": {},
   "outputs": [
    {
     "name": "stdin",
     "output_type": "stream",
     "text": [
      "enter a number to generate its multiplication table 1555\n"
     ]
    },
    {
     "name": "stdout",
     "output_type": "stream",
     "text": [
      "the multiplication table of 1555\n",
      "1555 x 1 = 1555\n",
      "1555 x 2 = 3110\n",
      "1555 x 3 = 4665\n",
      "1555 x 4 = 6220\n",
      "1555 x 5 = 7775\n",
      "1555 x 6 = 9330\n",
      "1555 x 7 = 10885\n",
      "1555 x 8 = 12440\n",
      "1555 x 9 = 13995\n",
      "1555 x 10 = 15550\n"
     ]
    }
   ],
   "source": [
    "number = int(input(\"enter a number to generate its multiplication table\"))\n",
    "print(\"the multiplication table of\",number)\n",
    "\n",
    "for i in range(1,11):\n",
    "    print(f\"{number} x {i} = {number*i}\") # f = formate"
   ]
  },
  {
   "cell_type": "code",
   "execution_count": null,
   "id": "8bf9324a-b6d0-4a15-a2b7-d35076c030ad",
   "metadata": {},
   "outputs": [],
   "source": [
    "num_items =int(input(\"enter the number of items purchase \"))\n",
    "total_price = 0\n",
    "\n",
    "for i in range(num_items):\n",
    "    price = float(input(\"enter the price of the item\"))\n",
    "    total_price = total_price + price\n",
    "    i =i+1\n",
    "if total_price >=100:\n",
    "    discount = 0.1*total_price\n",
    "elif 50<= total_price <100:\n",
    "    discount = 0.5*total_price\n",
    "else:discount = 0\n",
    "    \n",
    "total_bill = total_price - discount\n",
    "print(\"subtotal\",total_bill)\n"
   ]
  },
  {
   "cell_type": "markdown",
   "id": "0d20353b-5961-498a-a684-318603c1420c",
   "metadata": {},
   "source": [
    "# break statement"
   ]
  },
  {
   "cell_type": "code",
   "execution_count": 8,
   "id": "e7422d10-176b-4f1b-ae2e-b49e2a5de8dd",
   "metadata": {},
   "outputs": [
    {
     "name": "stdout",
     "output_type": "stream",
     "text": [
      "0\n",
      "1\n",
      "2\n"
     ]
    }
   ],
   "source": [
    "for i in range(5):\n",
    "    if i==3:\n",
    "        break\n",
    "    print(i)"
   ]
  },
  {
   "cell_type": "markdown",
   "id": "45b3338b-4ea1-4d6f-b013-d14c9ff0acab",
   "metadata": {},
   "source": [
    "# Continue statement "
   ]
  },
  {
   "cell_type": "code",
   "execution_count": 12,
   "id": "cbc19e7f-8e25-4e3f-8a45-6be642778026",
   "metadata": {},
   "outputs": [
    {
     "name": "stdout",
     "output_type": "stream",
     "text": [
      "0\n",
      "1\n",
      "2\n",
      "4\n",
      "i am learning Python\n"
     ]
    }
   ],
   "source": [
    "for i in range(5):\n",
    "    if i==3:\n",
    "        continue\n",
    "    print(i)\n",
    "print(\"i am learning Python\")"
   ]
  },
  {
   "cell_type": "code",
   "execution_count": 14,
   "id": "2f754e04-dba8-4c1b-acf5-21d20a744655",
   "metadata": {},
   "outputs": [
    {
     "name": "stdout",
     "output_type": "stream",
     "text": [
      "2\n",
      "4\n",
      "6\n",
      "8\n",
      "10\n"
     ]
    }
   ],
   "source": [
    "numbers =[1,2,3,4,5]\n",
    "for num in numbers:\n",
    "    print(num*2)"
   ]
  },
  {
   "cell_type": "markdown",
   "id": "42978f1e-ddd7-4597-905a-675835150be3",
   "metadata": {},
   "source": [
    "# Create and calling a function"
   ]
  },
  {
   "cell_type": "code",
   "execution_count": 3,
   "id": "3503b3bd-cad2-42a5-9769-0311b8d0ce24",
   "metadata": {},
   "outputs": [],
   "source": [
    "def my_function():\n",
    "    print(\"hello i am hari\")"
   ]
  },
  {
   "cell_type": "code",
   "execution_count": 4,
   "id": "72f1f809-95b0-4dd7-96e1-2166cef3a8ab",
   "metadata": {},
   "outputs": [
    {
     "name": "stdout",
     "output_type": "stream",
     "text": [
      "hello i am hari\n"
     ]
    }
   ],
   "source": [
    "my_function()"
   ]
  },
  {
   "cell_type": "raw",
   "id": "ec8abcbf-88e5-47ff-a0a8-d7c81242b75e",
   "metadata": {},
   "source": [
    " Write a user define function to process the exam score and calculate \n",
    "the following statistics:\n",
    "The average exam score,\n",
    "The highest exam score,\n",
    "The lowest of student who passes the exam (assuming apassing score is 80 or above).\n",
    "\n",
    "    exam_score = [85,92,78,90,88,95,82,79,87,91]\n"
   ]
  },
  {
   "cell_type": "raw",
   "id": "3331fb4f-d0f7-4d42-af74-bbecaa416f98",
   "metadata": {},
   "source": [
    "def calculate_exam_statistics(exam_scores):\n",
    "\n",
    "    num_students = len(exam_scores)\n",
    "    average_score = sum(exam_scores)/num_students\n",
    "    highest_score = max(exam_scores)\n",
    "    lowest_score = min(exam_scores)\n",
    "\n",
    "\n",
    "    num_passed = 0\n",
    "    for score in exam_scores:\n",
    "        if score>=80:\n",
    "            num_passed = num_passed+1\n",
    "        num_failed = num_students - num_passed\n",
    "\n",
    "        return average_score, highest_score, lowest_score, num_passed, num_failed\n",
    "        "
   ]
  },
  {
   "cell_type": "code",
   "execution_count": 58,
   "id": "d45b21bf-2263-46a9-a11f-d72c5943883d",
   "metadata": {},
   "outputs": [
    {
     "name": "stdout",
     "output_type": "stream",
     "text": [
      "The average score is  86.7\n",
      "The highest score is  95\n",
      "The lowest score is  78\n",
      "The number of student passed is  1\n",
      "The number of student failed is  9\n"
     ]
    }
   ],
   "source": [
    "exam_scores = [85,92,78,90,88,95,82,79,87,91]\n",
    "\n",
    "average_score, highest_score, lowest_score, num_passed, num_failed = calculate_exam_statistics(exam_scores)\n",
    "print(\"The average score is \", average_score)\n",
    "print(\"The highest score is \", highest_score)\n",
    "print(\"The lowest score is \", lowest_score)\n",
    "print(\"The number of student passed is \",num_passed)\n",
    "print(\"The number of student failed is \",num_failed) "
   ]
  },
  {
   "cell_type": "raw",
   "id": "028c1a98-84c5-4d8e-9989-43b85ceab79a",
   "metadata": {},
   "source": [
    "Question 1"
   ]
  },
  {
   "cell_type": "code",
   "execution_count": 70,
   "id": "e3d5db0d-3d08-4032-8912-735585d250b1",
   "metadata": {},
   "outputs": [],
   "source": [
    "def grade_distribution(grades):\n",
    "\n",
    "    for grade in grades:\n",
    "        if 90<= grade <=100:\n",
    "            print(\"you have got A grade\")\n",
    "        elif 80<= grade <=89:\n",
    "            print(\"you have got B grade\")\n",
    "        elif 70<= grade <=79:\n",
    "            print(\"you have got C grade\")\n",
    "        elif 60<= grade <=69:\n",
    "            print(\"you have got D grade\")\n",
    "        else:\n",
    "            print(\"you have got E grade\")\n",
    "    return\n",
    "                    "
   ]
  },
  {
   "cell_type": "code",
   "execution_count": 71,
   "id": "4efbcb1d-6571-4008-b740-4d100d827751",
   "metadata": {},
   "outputs": [
    {
     "name": "stdout",
     "output_type": "stream",
     "text": [
      "you have got A grade\n",
      "you have got C grade\n",
      "you have got E grade\n",
      "you have got C grade\n",
      "you have got B grade\n",
      "you have got A grade\n",
      "you have got B grade\n",
      "you have got B grade\n",
      "you have got A grade\n",
      "you have got C grade\n"
     ]
    }
   ],
   "source": [
    "grades = [92,78,46,73,85,95,87,83,96,79]\n",
    "grade_distribution(grades)"
   ]
  },
  {
   "cell_type": "code",
   "execution_count": null,
   "id": "332ce168-42fa-47c3-b7eb-94b22c69b19c",
   "metadata": {},
   "outputs": [],
   "source": []
  },
  {
   "cell_type": "code",
   "execution_count": null,
   "id": "ccd501a0-bd1d-43c7-9a6d-305cf1f40103",
   "metadata": {},
   "outputs": [],
   "source": []
  }
 ],
 "metadata": {
  "kernelspec": {
   "display_name": "Python 3 (ipykernel)",
   "language": "python",
   "name": "python3"
  },
  "language_info": {
   "codemirror_mode": {
    "name": "ipython",
    "version": 3
   },
   "file_extension": ".py",
   "mimetype": "text/x-python",
   "name": "python",
   "nbconvert_exporter": "python",
   "pygments_lexer": "ipython3",
   "version": "3.13.2"
  }
 },
 "nbformat": 4,
 "nbformat_minor": 5
}
