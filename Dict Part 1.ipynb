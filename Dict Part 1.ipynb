{
 "cells": [
  {
   "cell_type": "markdown",
   "id": "4de36295-05c6-4152-b5c9-dcd8e4b8ec11",
   "metadata": {},
   "source": [
    "# Dictionary part 1"
   ]
  },
  {
   "cell_type": "markdown",
   "id": "23996057-1ff2-4968-82f0-b0e482c9ba15",
   "metadata": {},
   "source": [
    "# creating simple dictionary"
   ]
  },
  {
   "cell_type": "code",
   "execution_count": 1,
   "id": "c1399907-2dc9-477a-83a5-1c060e9f026d",
   "metadata": {},
   "outputs": [],
   "source": [
    "person = {\n",
    "    'name' : \"Swati\",\n",
    "    'age' : 30,\n",
    "    'city' : 'BANGLORE'\n",
    "}"
   ]
  },
  {
   "cell_type": "code",
   "execution_count": 2,
   "id": "bea9be23-9e30-40c2-a68f-a3b621a2c33f",
   "metadata": {},
   "outputs": [
    {
     "name": "stdout",
     "output_type": "stream",
     "text": [
      "{'name': 'Swati', 'age': 30, 'city': 'BANGLORE'}\n",
      "<class 'dict'>\n"
     ]
    }
   ],
   "source": [
    "print(person)\n",
    "print(type(person))"
   ]
  },
  {
   "cell_type": "code",
   "execution_count": 3,
   "id": "0e7204ea-5df5-4bf1-8854-ab49ccacd741",
   "metadata": {},
   "outputs": [],
   "source": [
    "# Dictionary with differnt data types"
   ]
  },
  {
   "cell_type": "code",
   "execution_count": null,
   "id": "5aa78137-b545-47e7-a22f-01a92ff79bf7",
   "metadata": {},
   "outputs": [],
   "source": [
    "mixed_dict = {\n",
    "    'name' : \"Bob\",\n",
    "    'age': 25,\n",
    "    'is_student' : True"
   ]
  }
 ],
 "metadata": {
  "kernelspec": {
   "display_name": "Python 3 (ipykernel)",
   "language": "python",
   "name": "python3"
  },
  "language_info": {
   "codemirror_mode": {
    "name": "ipython",
    "version": 3
   },
   "file_extension": ".py",
   "mimetype": "text/x-python",
   "name": "python",
   "nbconvert_exporter": "python",
   "pygments_lexer": "ipython3",
   "version": "3.13.2"
  }
 },
 "nbformat": 4,
 "nbformat_minor": 5
}
