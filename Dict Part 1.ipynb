{
 "cells": [
  {
   "cell_type": "markdown",
   "id": "4de36295-05c6-4152-b5c9-dcd8e4b8ec11",
   "metadata": {},
   "source": [
    "# Dictionary part 1"
   ]
  },
  {
   "cell_type": "markdown",
   "id": "23996057-1ff2-4968-82f0-b0e482c9ba15",
   "metadata": {},
   "source": [
    "# creating simple dictionary"
   ]
  },
  {
   "cell_type": "code",
   "execution_count": null,
   "id": "c1399907-2dc9-477a-83a5-1c060e9f026d",
   "metadata": {},
   "outputs": [],
   "source": [
    "person = {\n",
    "    'name' : \"Swati\",\n",
    "    'age' :30"
   ]
  }
 ],
 "metadata": {
  "kernelspec": {
   "display_name": "Python 3 (ipykernel)",
   "language": "python",
   "name": "python3"
  },
  "language_info": {
   "codemirror_mode": {
    "name": "ipython",
    "version": 3
   },
   "file_extension": ".py",
   "mimetype": "text/x-python",
   "name": "python",
   "nbconvert_exporter": "python",
   "pygments_lexer": "ipython3",
   "version": "3.13.2"
  }
 },
 "nbformat": 4,
 "nbformat_minor": 5
}
