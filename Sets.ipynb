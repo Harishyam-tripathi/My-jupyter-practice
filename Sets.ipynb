{
 "cells": [
  {
   "cell_type": "markdown",
   "id": "b42baea4-07bb-40af-810f-83e26f67fd83",
   "metadata": {},
   "source": [
    "# Lecture 20 \n",
    "# Sets part 1 \n",
    "# creating sets "
   ]
  },
  {
   "cell_type": "code",
   "execution_count": 2,
   "id": "13e72ffa-ee3f-4328-956e-7bf669ca7b79",
   "metadata": {},
   "outputs": [
    {
     "name": "stdout",
     "output_type": "stream",
     "text": [
      "{1, 2, 3, 4}\n",
      "<class 'set'>\n"
     ]
    }
   ],
   "source": [
    "my_var = {1,2,3,4}\n",
    "print(my_var)\n",
    "print(type(my_var))"
   ]
  },
  {
   "cell_type": "markdown",
   "id": "3fef3144-3909-46c3-a457-7bef61077ea6",
   "metadata": {},
   "source": [
    " # Set() methods"
   ]
  },
  {
   "cell_type": "code",
   "execution_count": 3,
   "id": "de6bd59a-6a0c-49e3-94da-8da40b112816",
   "metadata": {},
   "outputs": [
    {
     "name": "stdout",
     "output_type": "stream",
     "text": [
      "{40, 10, 20, 30}\n",
      "<class 'set'>\n"
     ]
    }
   ],
   "source": [
    "another_set = set([10,20,30,40])\n",
    "print(another_set)\n",
    "print(type(another_set))"
   ]
  },
  {
   "cell_type": "markdown",
   "id": "f842044f-e018-4bde-9f98-c8e8553205d5",
   "metadata": {},
   "source": [
    " # Empty set"
   ]
  },
  {
   "cell_type": "code",
   "execution_count": 4,
   "id": "6bb8b7c1-1505-4751-a6e6-23b2ca453b99",
   "metadata": {},
   "outputs": [
    {
     "name": "stdout",
     "output_type": "stream",
     "text": [
      "{}\n",
      "<class 'dict'>\n"
     ]
    }
   ],
   "source": [
    "abc = {} \n",
    "print(abc) \n",
    "print(type(abc)) "
   ]
  },
  {
   "cell_type": "code",
   "execution_count": 5,
   "id": "518bafda-199c-4324-adab-ddd8b967f669",
   "metadata": {},
   "outputs": [
    {
     "name": "stdout",
     "output_type": "stream",
     "text": [
      "set()\n",
      "<class 'set'>\n"
     ]
    }
   ],
   "source": [
    "xyz = set() \n",
    "print(xyz) \n",
    "print(type(xyz)) "
   ]
  },
  {
   "cell_type": "code",
   "execution_count": null,
   "id": "323df1fa-5e33-4261-88be-1d748e9b5e95",
   "metadata": {},
   "outputs": [],
   "source": []
  }
 ],
 "metadata": {
  "kernelspec": {
   "display_name": "Python 3 (ipykernel)",
   "language": "python",
   "name": "python3"
  },
  "language_info": {
   "codemirror_mode": {
    "name": "ipython",
    "version": 3
   },
   "file_extension": ".py",
   "mimetype": "text/x-python",
   "name": "python",
   "nbconvert_exporter": "python",
   "pygments_lexer": "ipython3",
   "version": "3.13.2"
  }
 },
 "nbformat": 4,
 "nbformat_minor": 5
}
