{
 "cells": [
  {
   "cell_type": "markdown",
   "id": "39ae5061-cf16-411f-b57f-26ea12c2a0be",
   "metadata": {},
   "source": [
    "# Tuples in python part 3"
   ]
  },
  {
   "cell_type": "markdown",
   "id": "24172adb-13e1-41f8-abff-8a6ae33b5381",
   "metadata": {},
   "source": [
    "# Once a tuple is created, you cannot change its values. Tuples are unchangeable, or immutable as it also is called. "
   ]
  },
  {
   "cell_type": "markdown",
   "id": "7617deb3-2b23-43fd-b8c2-1e796a2ad6f8",
   "metadata": {},
   "source": [
    "# converting tuple in to list"
   ]
  },
  {
   "cell_type": "code",
   "execution_count": 4,
   "id": "66039b16-f7f4-43c4-8ccb-99597b185c3b",
   "metadata": {},
   "outputs": [
    {
     "name": "stdout",
     "output_type": "stream",
     "text": [
      "('data', 'python', 'science', 'shyam')\n",
      "<class 'tuple'>\n",
      "['data', 'python', 'science', 'shyam']\n",
      "<class 'list'>\n"
     ]
    }
   ],
   "source": [
    "x = (\"data\", \"python\",\"science\",\"shyam\")\n",
    "print(x)\n",
    "print(type(x))\n",
    "\n",
    "y = list(x)\n",
    "print(y)\n",
    "print(type(y))"
   ]
  },
  {
   "cell_type": "code",
   "execution_count": 14,
   "id": "10016b3d-742c-4f62-b267-d4599509e9c8",
   "metadata": {},
   "outputs": [
    {
     "name": "stdout",
     "output_type": "stream",
     "text": [
      "[25, 26, 45, 35, 45]\n",
      "<class 'list'>\n",
      "The new list is\n",
      "[25, 26, 45, 35, 45, 50]\n",
      "The new item add in tuple\n",
      "(25, 26, 45, 35, 45, 50)\n"
     ]
    }
   ],
   "source": [
    "a = (25,26,45,35,45)\n",
    "y = list(a)\n",
    "print(y)\n",
    "print(type(y))\n",
    "\n",
    "y.append(50)\n",
    "print(\"The new list is\")\n",
    "print(y)\n",
    "\n",
    "x = tuple(y)\n",
    "print(\"The new item add in tuple\")\n",
    "print(x)"
   ]
  },
  {
   "cell_type": "markdown",
   "id": "0694014a-0267-4f05-88a9-339e4e2bcad3",
   "metadata": {},
   "source": [
    " # Add tuple to a tuple"
   ]
  },
  {
   "cell_type": "code",
   "execution_count": null,
   "id": "23ecf792-6663-4538-90f8-9e5bdc6ffda1",
   "metadata": {},
   "outputs": [],
   "source": []
  }
 ],
 "metadata": {
  "kernelspec": {
   "display_name": "Python 3 (ipykernel)",
   "language": "python",
   "name": "python3"
  },
  "language_info": {
   "codemirror_mode": {
    "name": "ipython",
    "version": 3
   },
   "file_extension": ".py",
   "mimetype": "text/x-python",
   "name": "python",
   "nbconvert_exporter": "python",
   "pygments_lexer": "ipython3",
   "version": "3.13.2"
  }
 },
 "nbformat": 4,
 "nbformat_minor": 5
}
