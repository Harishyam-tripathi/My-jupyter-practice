{
 "cells": [
  {
   "cell_type": "markdown",
   "id": "39ae5061-cf16-411f-b57f-26ea12c2a0be",
   "metadata": {},
   "source": [
    "# Tuples in python part 3"
   ]
  },
  {
   "cell_type": "markdown",
   "id": "24172adb-13e1-41f8-abff-8a6ae33b5381",
   "metadata": {},
   "source": [
    "# Once a tuple is created, you cannot change its values. Tuples are unchangeable, or immutable as it also is called. "
   ]
  },
  {
   "cell_type": "markdown",
   "id": "7617deb3-2b23-43fd-b8c2-1e796a2ad6f8",
   "metadata": {},
   "source": [
    "# converting tuple in to list"
   ]
  },
  {
   "cell_type": "code",
   "execution_count": 4,
   "id": "66039b16-f7f4-43c4-8ccb-99597b185c3b",
   "metadata": {},
   "outputs": [
    {
     "name": "stdout",
     "output_type": "stream",
     "text": [
      "('data', 'python', 'science', 'shyam')\n",
      "<class 'tuple'>\n",
      "['data', 'python', 'science', 'shyam']\n",
      "<class 'list'>\n"
     ]
    }
   ],
   "source": [
    "x = (\"data\", \"python\",\"science\",\"shyam\")\n",
    "print(x)\n",
    "print(type(x))\n",
    "\n",
    "y = list(x)\n",
    "print(y)\n",
    "print(type(y))"
   ]
  },
  {
   "cell_type": "code",
   "execution_count": 14,
   "id": "10016b3d-742c-4f62-b267-d4599509e9c8",
   "metadata": {},
   "outputs": [
    {
     "name": "stdout",
     "output_type": "stream",
     "text": [
      "[25, 26, 45, 35, 45]\n",
      "<class 'list'>\n",
      "The new list is\n",
      "[25, 26, 45, 35, 45, 50]\n",
      "The new item add in tuple\n",
      "(25, 26, 45, 35, 45, 50)\n"
     ]
    }
   ],
   "source": [
    "a = (25,26,45,35,45)\n",
    "y = list(a)\n",
    "print(y)\n",
    "print(type(y))\n",
    "\n",
    "y.append(50)\n",
    "print(\"The new list is\")\n",
    "print(y)\n",
    "\n",
    "x = tuple(y)\n",
    "print(\"The new item add in tuple\")\n",
    "print(x)"
   ]
  },
  {
   "cell_type": "markdown",
   "id": "0694014a-0267-4f05-88a9-339e4e2bcad3",
   "metadata": {},
   "source": [
    " # Add tuple to a tuple"
   ]
  },
  {
   "cell_type": "code",
   "execution_count": 22,
   "id": "23ecf792-6663-4538-90f8-9e5bdc6ffda1",
   "metadata": {},
   "outputs": [
    {
     "name": "stdout",
     "output_type": "stream",
     "text": [
      "('python', 'data', 'science', 'shyam', 'code')\n"
     ]
    }
   ],
   "source": [
    "tup1 = (\"python\", \"data\", \"science\", \"shyam\")\n",
    "y = (\"code\",)\n",
    "tup1+=y\n",
    "print(tup1)"
   ]
  },
  {
   "cell_type": "markdown",
   "id": "5f6ad16c-c52c-44c4-811b-4cd32ebecf42",
   "metadata": {},
   "source": [
    "# Remove items"
   ]
  },
  {
   "cell_type": "code",
   "execution_count": 4,
   "id": "bc573758-f8a5-4155-bd98-5fb6eb43379c",
   "metadata": {},
   "outputs": [
    {
     "name": "stdout",
     "output_type": "stream",
     "text": [
      "['apple', 'banana', 'cherry', 'date', 'fig']\n",
      "['apple', 'banana', 'date', 'fig']\n",
      "('apple', 'banana', 'date', 'fig')\n"
     ]
    }
   ],
   "source": [
    "fruits = (\"apple\",\"banana\",\"cherry\",\"date\",\"fig\")\n",
    "\n",
    "fruit_list = list(fruits)\n",
    "print(fruit_list)\n",
    "\n",
    "fruit_list.remove(\"cherry\")\n",
    "print(fruit_list)\n",
    "\n",
    "fruit_tup = tuple(fruit_list)\n",
    "print(fruit_tup)"
   ]
  },
  {
   "cell_type": "markdown",
   "id": "20fc2b17-c64e-421c-962f-4347ad1374e3",
   "metadata": {},
   "source": [
    "# Changing the item in a tuple"
   ]
  },
  {
   "cell_type": "code",
   "execution_count": 6,
   "id": "197e9c1e-6ce0-4647-a0d7-73ca89e5c4fd",
   "metadata": {},
   "outputs": [
    {
     "name": "stdout",
     "output_type": "stream",
     "text": [
      "['apple', 'banana', 'cherry', 'date', 'fig']\n",
      "['apple', 'blueberry', 'cherry', 'date', 'fig']\n",
      "('apple', 'blueberry', 'cherry', 'date', 'fig')\n"
     ]
    }
   ],
   "source": [
    "x = (\"apple\",\"banana\",\"cherry\",\"date\",\"fig\")\n",
    "y = list(x)\n",
    "print(y)\n",
    "\n",
    "y[1] = \"blueberry\"\n",
    "print(y)\n",
    "\n",
    "z = tuple(y)\n",
    "print(z)\n"
   ]
  },
  {
   "cell_type": "code",
   "execution_count": 7,
   "id": "88b0f0c3-647b-4465-8197-0f1270981873",
   "metadata": {},
   "outputs": [
    {
     "name": "stdout",
     "output_type": "stream",
     "text": [
      "['apple', 'banana', 'cherry', 'date', 'fig']\n",
      "['apple', 'banana', 'cherry', 'blueberry', 'fig']\n",
      "('apple', 'banana', 'cherry', 'blueberry', 'fig')\n"
     ]
    }
   ],
   "source": [
    "x = (\"apple\",\"banana\",\"cherry\",\"date\",\"fig\")\n",
    "y = list(x)\n",
    "print(y)\n",
    "\n",
    "y[3] = \"blueberry\"\n",
    "print(y)\n",
    "\n",
    "z = tuple(y)\n",
    "print(z)"
   ]
  },
  {
   "cell_type": "markdown",
   "id": "b2622333-2492-490c-adc8-06f82cb42e1b",
   "metadata": {},
   "source": [
    "# Del key"
   ]
  },
  {
   "cell_type": "code",
   "execution_count": 10,
   "id": "e2d5c0c4-4419-4cab-9ec8-c232a05d5907",
   "metadata": {},
   "outputs": [
    {
     "ename": "NameError",
     "evalue": "name 'x' is not defined",
     "output_type": "error",
     "traceback": [
      "\u001b[31m---------------------------------------------------------------------------\u001b[39m",
      "\u001b[31mNameError\u001b[39m                                 Traceback (most recent call last)",
      "\u001b[36mCell\u001b[39m\u001b[36m \u001b[39m\u001b[32mIn[10]\u001b[39m\u001b[32m, line 1\u001b[39m\n\u001b[32m----> \u001b[39m\u001b[32m1\u001b[39m \u001b[43mx\u001b[49m - (\u001b[32m56\u001b[39m,\u001b[32m85\u001b[39m,\u001b[32m46\u001b[39m,\u001b[32m25\u001b[39m,\u001b[32m34\u001b[39m)\n\u001b[32m      2\u001b[39m \u001b[38;5;28;01mdel\u001b[39;00m x\n",
      "\u001b[31mNameError\u001b[39m: name 'x' is not defined"
     ]
    }
   ],
   "source": [
    "x - (56,85,46,25,34)\n",
    "del x "
   ]
  },
  {
   "cell_type": "markdown",
   "id": "90db6544-0514-4850-912f-5522f255b3d8",
   "metadata": {},
   "source": [
    "# loop through a tuple"
   ]
  },
  {
   "cell_type": "code",
   "execution_count": 11,
   "id": "96c3ed2c-1155-4c68-a5c7-1e352ac2a139",
   "metadata": {},
   "outputs": [
    {
     "name": "stdout",
     "output_type": "stream",
     "text": [
      "a\n",
      "b\n",
      "c\n"
     ]
    }
   ],
   "source": [
    "thistuple = (\"a\", \"b\", \"c\")\n",
    "for x in thistuple:\n",
    "    print(x)"
   ]
  },
  {
   "cell_type": "markdown",
   "id": "0c1d34b7-7d0e-4673-9379-adf9d336f07f",
   "metadata": {},
   "source": [
    "# join two tuple "
   ]
  },
  {
   "cell_type": "code",
   "execution_count": 12,
   "id": "f80700c8-a76f-4343-8164-39e3b0100987",
   "metadata": {},
   "outputs": [
    {
     "name": "stdout",
     "output_type": "stream",
     "text": [
      "('a', 'b', 'c', 1, 2, 3)\n"
     ]
    }
   ],
   "source": [
    "tuple1 = (\"a\",\"b\",\"c\")\n",
    "tuple2 = (1,2,3)\n",
    "\n",
    "tuple3 = tuple1+tuple2\n",
    "print(tuple3)"
   ]
  },
  {
   "cell_type": "markdown",
   "id": "b0515fb5-89e1-43d1-b179-4092b9cb7e9b",
   "metadata": {},
   "source": [
    "# Multiply tuples"
   ]
  },
  {
   "cell_type": "code",
   "execution_count": 13,
   "id": "8c8308d2-cd45-45b5-8eba-02ebb34c8733",
   "metadata": {},
   "outputs": [
    {
     "name": "stdout",
     "output_type": "stream",
     "text": [
      "('apple', 'banana', 'cherry', 'apple', 'banana', 'cherry')\n"
     ]
    }
   ],
   "source": [
    "fruits = (\"apple\", \"banana\",\"cherry\")\n",
    "mytup = fruits*2\n",
    "print(mytup)"
   ]
  },
  {
   "cell_type": "code",
   "execution_count": 14,
   "id": "f2703f52-a829-4780-9406-ba08a39c04f9",
   "metadata": {},
   "outputs": [
    {
     "name": "stdout",
     "output_type": "stream",
     "text": [
      "<class 'list'>\n"
     ]
    }
   ],
   "source": [
    "t = (1,)\n",
    "l = list(t)\n",
    "print(type(l))"
   ]
  },
  {
   "cell_type": "code",
   "execution_count": 15,
   "id": "0f3b0bf1-9569-491b-96bc-55379cead133",
   "metadata": {},
   "outputs": [
    {
     "name": "stdout",
     "output_type": "stream",
     "text": [
      "[1, 2, 3, 4]\n"
     ]
    }
   ],
   "source": [
    "t = (1,2,3)\n",
    "l = list(t)\n",
    "l.append(4)\n",
    "print(l)"
   ]
  }
 ],
 "metadata": {
  "kernelspec": {
   "display_name": "Python 3 (ipykernel)",
   "language": "python",
   "name": "python3"
  },
  "language_info": {
   "codemirror_mode": {
    "name": "ipython",
    "version": 3
   },
   "file_extension": ".py",
   "mimetype": "text/x-python",
   "name": "python",
   "nbconvert_exporter": "python",
   "pygments_lexer": "ipython3",
   "version": "3.13.2"
  }
 },
 "nbformat": 4,
 "nbformat_minor": 5
}
